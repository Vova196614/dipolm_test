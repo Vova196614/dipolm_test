{
 "cells": [
  {
   "cell_type": "markdown",
   "metadata": {},
   "source": [
    "# Курс Специализация Data Science Дипломный проект. Бриф учебного кейса \n",
    "## «Модель прогнозирования стоимости жилья для агентства недвижимости»\n",
    "#### Предобработка данных"
   ]
  },
  {
   "cell_type": "markdown",
   "metadata": {},
   "source": [
    "## Описание данных:\n",
    "* 'status' — статус продажи;\n",
    "* 'private pool' и 'PrivatePool' — наличие собственного бассейна;\n",
    "* 'propertyType' — тип объекта недвижимости;\n",
    "* 'street' — адрес объекта;\n",
    "* 'baths' — количество ванных комнат;\n",
    "* 'homeFacts' — сведения о строительстве объекта (содержит несколько\n",
    "типов сведений, влияющих на оценку объекта);\n",
    "* 'fireplace' — наличие камина;\n",
    "* 'city' — город;\n",
    "* 'schools' — сведения о школах в районе;\n",
    "* 'sqft' — площадь в футах;\n",
    "* 'zipcode' — почтовый индекс;\n",
    "* 'beds' — количество спален;\n",
    "* 'state' — штат;\n",
    "* 'stories' — количество этажей;\n",
    "* 'mls-id' и 'MlsId' — идентификатор MLS (Multiple Listing Service, система\n",
    "мультилистинга);\n",
    "* target' — цена объекта недвижимости (целевой признак, который\n",
    "необходимо спрогнозировать)."
   ]
  },
  {
   "cell_type": "code",
   "execution_count": 1,
   "metadata": {},
   "outputs": [],
   "source": [
    "# Загрузка необходимых библиотек\n",
    "import numpy as np\n",
    "import pandas as pd\n",
    "import re\n",
    "from geopy.geocoders import Nominatim\n",
    "from fake_useragent import UserAgent\n",
    "from geopy.exc import GeocoderTimedOut, GeocoderUnavailable\n",
    "from geopy.exc import GeocoderServiceError"
   ]
  },
  {
   "cell_type": "markdown",
   "metadata": {},
   "source": [
    "# Первичный осмотр данных\n",
    "Посмотрим на выгруженные данные."
   ]
  },
  {
   "cell_type": "code",
   "execution_count": 2,
   "metadata": {},
   "outputs": [
    {
     "data": {
      "text/html": [
       "<div>\n",
       "<style scoped>\n",
       "    .dataframe tbody tr th:only-of-type {\n",
       "        vertical-align: middle;\n",
       "    }\n",
       "\n",
       "    .dataframe tbody tr th {\n",
       "        vertical-align: top;\n",
       "    }\n",
       "\n",
       "    .dataframe thead th {\n",
       "        text-align: right;\n",
       "    }\n",
       "</style>\n",
       "<table border=\"1\" class=\"dataframe\">\n",
       "  <thead>\n",
       "    <tr style=\"text-align: right;\">\n",
       "      <th></th>\n",
       "      <th>status</th>\n",
       "      <th>private pool</th>\n",
       "      <th>propertyType</th>\n",
       "      <th>street</th>\n",
       "      <th>baths</th>\n",
       "      <th>homeFacts</th>\n",
       "      <th>fireplace</th>\n",
       "      <th>city</th>\n",
       "      <th>schools</th>\n",
       "      <th>sqft</th>\n",
       "      <th>zipcode</th>\n",
       "      <th>beds</th>\n",
       "      <th>state</th>\n",
       "      <th>stories</th>\n",
       "      <th>mls-id</th>\n",
       "      <th>PrivatePool</th>\n",
       "      <th>MlsId</th>\n",
       "      <th>target</th>\n",
       "    </tr>\n",
       "  </thead>\n",
       "  <tbody>\n",
       "    <tr>\n",
       "      <th>0</th>\n",
       "      <td>Active</td>\n",
       "      <td>NaN</td>\n",
       "      <td>Single Family Home</td>\n",
       "      <td>240 Heather Ln</td>\n",
       "      <td>3.5</td>\n",
       "      <td>{'atAGlanceFacts': [{'factValue': '2019', 'fac...</td>\n",
       "      <td>Gas Logs</td>\n",
       "      <td>Southern Pines</td>\n",
       "      <td>[{'rating': ['4', '4', '7', 'NR', '4', '7', 'N...</td>\n",
       "      <td>2900</td>\n",
       "      <td>28387</td>\n",
       "      <td>4</td>\n",
       "      <td>NC</td>\n",
       "      <td>NaN</td>\n",
       "      <td>NaN</td>\n",
       "      <td>NaN</td>\n",
       "      <td>611019</td>\n",
       "      <td>$418,000</td>\n",
       "    </tr>\n",
       "    <tr>\n",
       "      <th>1</th>\n",
       "      <td>for sale</td>\n",
       "      <td>NaN</td>\n",
       "      <td>single-family home</td>\n",
       "      <td>12911 E Heroy Ave</td>\n",
       "      <td>3 Baths</td>\n",
       "      <td>{'atAGlanceFacts': [{'factValue': '2019', 'fac...</td>\n",
       "      <td>NaN</td>\n",
       "      <td>Spokane Valley</td>\n",
       "      <td>[{'rating': ['4/10', 'None/10', '4/10'], 'data...</td>\n",
       "      <td>1,947 sqft</td>\n",
       "      <td>99216</td>\n",
       "      <td>3 Beds</td>\n",
       "      <td>WA</td>\n",
       "      <td>2.0</td>\n",
       "      <td>NaN</td>\n",
       "      <td>NaN</td>\n",
       "      <td>201916904</td>\n",
       "      <td>$310,000</td>\n",
       "    </tr>\n",
       "    <tr>\n",
       "      <th>2</th>\n",
       "      <td>for sale</td>\n",
       "      <td>NaN</td>\n",
       "      <td>single-family home</td>\n",
       "      <td>2005 Westridge Rd</td>\n",
       "      <td>2 Baths</td>\n",
       "      <td>{'atAGlanceFacts': [{'factValue': '1961', 'fac...</td>\n",
       "      <td>yes</td>\n",
       "      <td>Los Angeles</td>\n",
       "      <td>[{'rating': ['8/10', '4/10', '8/10'], 'data': ...</td>\n",
       "      <td>3,000 sqft</td>\n",
       "      <td>90049</td>\n",
       "      <td>3 Beds</td>\n",
       "      <td>CA</td>\n",
       "      <td>1.0</td>\n",
       "      <td>NaN</td>\n",
       "      <td>yes</td>\n",
       "      <td>FR19221027</td>\n",
       "      <td>$2,895,000</td>\n",
       "    </tr>\n",
       "    <tr>\n",
       "      <th>3</th>\n",
       "      <td>for sale</td>\n",
       "      <td>NaN</td>\n",
       "      <td>single-family home</td>\n",
       "      <td>4311 Livingston Ave</td>\n",
       "      <td>8 Baths</td>\n",
       "      <td>{'atAGlanceFacts': [{'factValue': '2006', 'fac...</td>\n",
       "      <td>yes</td>\n",
       "      <td>Dallas</td>\n",
       "      <td>[{'rating': ['9/10', '9/10', '10/10', '9/10'],...</td>\n",
       "      <td>6,457 sqft</td>\n",
       "      <td>75205</td>\n",
       "      <td>5 Beds</td>\n",
       "      <td>TX</td>\n",
       "      <td>3.0</td>\n",
       "      <td>NaN</td>\n",
       "      <td>NaN</td>\n",
       "      <td>14191809</td>\n",
       "      <td>$2,395,000</td>\n",
       "    </tr>\n",
       "    <tr>\n",
       "      <th>4</th>\n",
       "      <td>for sale</td>\n",
       "      <td>NaN</td>\n",
       "      <td>lot/land</td>\n",
       "      <td>1524 Kiscoe St</td>\n",
       "      <td>NaN</td>\n",
       "      <td>{'atAGlanceFacts': [{'factValue': '', 'factLab...</td>\n",
       "      <td>NaN</td>\n",
       "      <td>Palm Bay</td>\n",
       "      <td>[{'rating': ['4/10', '5/10', '5/10'], 'data': ...</td>\n",
       "      <td>NaN</td>\n",
       "      <td>32908</td>\n",
       "      <td>NaN</td>\n",
       "      <td>FL</td>\n",
       "      <td>NaN</td>\n",
       "      <td>NaN</td>\n",
       "      <td>NaN</td>\n",
       "      <td>861745</td>\n",
       "      <td>$5,000</td>\n",
       "    </tr>\n",
       "  </tbody>\n",
       "</table>\n",
       "</div>"
      ],
      "text/plain": [
       "     status private pool        propertyType               street    baths  \\\n",
       "0    Active          NaN  Single Family Home       240 Heather Ln      3.5   \n",
       "1  for sale          NaN  single-family home    12911 E Heroy Ave  3 Baths   \n",
       "2  for sale          NaN  single-family home    2005 Westridge Rd  2 Baths   \n",
       "3  for sale          NaN  single-family home  4311 Livingston Ave  8 Baths   \n",
       "4  for sale          NaN            lot/land       1524 Kiscoe St      NaN   \n",
       "\n",
       "                                           homeFacts fireplace  \\\n",
       "0  {'atAGlanceFacts': [{'factValue': '2019', 'fac...  Gas Logs   \n",
       "1  {'atAGlanceFacts': [{'factValue': '2019', 'fac...       NaN   \n",
       "2  {'atAGlanceFacts': [{'factValue': '1961', 'fac...       yes   \n",
       "3  {'atAGlanceFacts': [{'factValue': '2006', 'fac...       yes   \n",
       "4  {'atAGlanceFacts': [{'factValue': '', 'factLab...       NaN   \n",
       "\n",
       "             city                                            schools  \\\n",
       "0  Southern Pines  [{'rating': ['4', '4', '7', 'NR', '4', '7', 'N...   \n",
       "1  Spokane Valley  [{'rating': ['4/10', 'None/10', '4/10'], 'data...   \n",
       "2     Los Angeles  [{'rating': ['8/10', '4/10', '8/10'], 'data': ...   \n",
       "3          Dallas  [{'rating': ['9/10', '9/10', '10/10', '9/10'],...   \n",
       "4        Palm Bay  [{'rating': ['4/10', '5/10', '5/10'], 'data': ...   \n",
       "\n",
       "         sqft zipcode    beds state stories mls-id PrivatePool       MlsId  \\\n",
       "0        2900   28387       4    NC     NaN    NaN         NaN      611019   \n",
       "1  1,947 sqft   99216  3 Beds    WA     2.0    NaN         NaN   201916904   \n",
       "2  3,000 sqft   90049  3 Beds    CA     1.0    NaN         yes  FR19221027   \n",
       "3  6,457 sqft   75205  5 Beds    TX     3.0    NaN         NaN    14191809   \n",
       "4         NaN   32908     NaN    FL     NaN    NaN         NaN      861745   \n",
       "\n",
       "       target  \n",
       "0    $418,000  \n",
       "1    $310,000  \n",
       "2  $2,895,000  \n",
       "3  $2,395,000  \n",
       "4      $5,000  "
      ]
     },
     "metadata": {},
     "output_type": "display_data"
    },
    {
     "name": "stdout",
     "output_type": "stream",
     "text": [
      "<class 'pandas.core.frame.DataFrame'>\n",
      "RangeIndex: 377185 entries, 0 to 377184\n",
      "Data columns (total 18 columns):\n",
      " #   Column        Non-Null Count   Dtype \n",
      "---  ------        --------------   ----- \n",
      " 0   status        337267 non-null  object\n",
      " 1   private pool  4181 non-null    object\n",
      " 2   propertyType  342452 non-null  object\n",
      " 3   street        377183 non-null  object\n",
      " 4   baths         270847 non-null  object\n",
      " 5   homeFacts     377185 non-null  object\n",
      " 6   fireplace     103114 non-null  object\n",
      " 7   city          377151 non-null  object\n",
      " 8   schools       377185 non-null  object\n",
      " 9   sqft          336608 non-null  object\n",
      " 10  zipcode       377185 non-null  object\n",
      " 11  beds          285903 non-null  object\n",
      " 12  state         377185 non-null  object\n",
      " 13  stories       226469 non-null  object\n",
      " 14  mls-id        24942 non-null   object\n",
      " 15  PrivatePool   40311 non-null   object\n",
      " 16  MlsId         310305 non-null  object\n",
      " 17  target        374704 non-null  object\n",
      "dtypes: object(18)\n",
      "memory usage: 51.8+ MB\n"
     ]
    }
   ],
   "source": [
    "df = pd.read_csv('data/data.csv')\n",
    "display(df.head())\n",
    "df.info()"
   ]
  },
  {
   "cell_type": "markdown",
   "metadata": {},
   "source": [
    "Сразу подчистим явные дубликаты"
   ]
  },
  {
   "cell_type": "code",
   "execution_count": 3,
   "metadata": {},
   "outputs": [
    {
     "name": "stdout",
     "output_type": "stream",
     "text": [
      "Удалено 50 дубликатов\n"
     ]
    }
   ],
   "source": [
    "# сохраняем количество строк до удаления дубликатов\n",
    "rows_before = df.shape[0]\n",
    "#удалим дубликаты\n",
    "df = df.drop_duplicates(ignore_index=True)\n",
    "# сохраняем количество строк после удаления дубликатов\n",
    "rows_after = df.shape[0]\n",
    "# считаем количество удаленных дубликатов\n",
    "duplicates_removed = rows_before - rows_after\n",
    "print(f'Удалено {duplicates_removed} дубликатов')"
   ]
  },
  {
   "cell_type": "markdown",
   "metadata": {},
   "source": [
    "## Посмотрим на пропуски"
   ]
  },
  {
   "cell_type": "code",
   "execution_count": 4,
   "metadata": {},
   "outputs": [
    {
     "name": "stdout",
     "output_type": "stream",
     "text": [
      "status: 39917 пропусков (10.58% от общего числа данных в столбце)\n",
      "private pool: 372954 пропусков (98.89% от общего числа данных в столбце)\n",
      "propertyType: 34733 пропусков (9.21% от общего числа данных в столбце)\n",
      "street: 2 пропусков (0.00% от общего числа данных в столбце)\n",
      "baths: 106308 пропусков (28.19% от общего числа данных в столбце)\n",
      "fireplace: 274024 пропусков (72.66% от общего числа данных в столбце)\n",
      "city: 34 пропусков (0.01% от общего числа данных в столбце)\n",
      "sqft: 40550 пропусков (10.75% от общего числа данных в столбце)\n",
      "beds: 91254 пропусков (24.20% от общего числа данных в столбце)\n",
      "stories: 150674 пропусков (39.95% от общего числа данных в столбце)\n",
      "mls-id: 352193 пропусков (93.39% от общего числа данных в столбце)\n",
      "PrivatePool: 336825 пропусков (89.31% от общего числа данных в столбце)\n",
      "MlsId: 66869 пропусков (17.73% от общего числа данных в столбце)\n",
      "target: 2480 пропусков (0.66% от общего числа данных в столбце)\n"
     ]
    }
   ],
   "source": [
    "missing_data = df.isnull().sum()\n",
    "\n",
    "# Выводим столбцы, которые содержат пропуски и их количество (в процентах)\n",
    "for column_name, missing_count in missing_data.items():\n",
    "    if missing_count > 0:\n",
    "        percentage = (missing_count / len(df)) * 100\n",
    "        print(f'{column_name}: {missing_count} пропусков ({percentage:.2f}% от общего числа данных в столбце)')"
   ]
  },
  {
   "cell_type": "code",
   "execution_count": 5,
   "metadata": {},
   "outputs": [
    {
     "name": "stdout",
     "output_type": "stream",
     "text": [
      "[nan 'Yes']\n",
      "[nan 'yes' 'Yes']\n"
     ]
    }
   ],
   "source": [
    "# посмотрим что содержится в private pool и PrivatePool\n",
    "print(df['private pool'].unique())\n",
    "print(df['PrivatePool'].unique())"
   ]
  },
  {
   "cell_type": "markdown",
   "metadata": {},
   "source": [
    "#### Поскольку 'private pool' и 'PrivatePool' содержат дублирующую информацию то объеденим их так же отметим поскольку у нас всего 3 значения то вероятнее всего пропуск свидетельствует о отсутствии бассейна закодируем его булевыми переменными, а так же удалим 'mls-id' и 'MlsId' поскольку это признаки существуют для идентификации объекта в общих базах риэлторов для наших задач он не требуется"
   ]
  },
  {
   "cell_type": "code",
   "execution_count": 6,
   "metadata": {},
   "outputs": [
    {
     "name": "stdout",
     "output_type": "stream",
     "text": [
      "Уникальные значения 'pool_encoded': [False  True]\n"
     ]
    },
    {
     "data": {
      "text/html": [
       "<div>\n",
       "<style scoped>\n",
       "    .dataframe tbody tr th:only-of-type {\n",
       "        vertical-align: middle;\n",
       "    }\n",
       "\n",
       "    .dataframe tbody tr th {\n",
       "        vertical-align: top;\n",
       "    }\n",
       "\n",
       "    .dataframe thead th {\n",
       "        text-align: right;\n",
       "    }\n",
       "</style>\n",
       "<table border=\"1\" class=\"dataframe\">\n",
       "  <thead>\n",
       "    <tr style=\"text-align: right;\">\n",
       "      <th></th>\n",
       "      <th>status</th>\n",
       "      <th>propertyType</th>\n",
       "      <th>street</th>\n",
       "      <th>baths</th>\n",
       "      <th>homeFacts</th>\n",
       "      <th>fireplace</th>\n",
       "      <th>city</th>\n",
       "      <th>schools</th>\n",
       "      <th>sqft</th>\n",
       "      <th>zipcode</th>\n",
       "      <th>beds</th>\n",
       "      <th>state</th>\n",
       "      <th>stories</th>\n",
       "      <th>target</th>\n",
       "      <th>pool_encoded</th>\n",
       "    </tr>\n",
       "  </thead>\n",
       "  <tbody>\n",
       "    <tr>\n",
       "      <th>0</th>\n",
       "      <td>Active</td>\n",
       "      <td>Single Family Home</td>\n",
       "      <td>240 Heather Ln</td>\n",
       "      <td>3.5</td>\n",
       "      <td>{'atAGlanceFacts': [{'factValue': '2019', 'fac...</td>\n",
       "      <td>Gas Logs</td>\n",
       "      <td>Southern Pines</td>\n",
       "      <td>[{'rating': ['4', '4', '7', 'NR', '4', '7', 'N...</td>\n",
       "      <td>2900</td>\n",
       "      <td>28387</td>\n",
       "      <td>4</td>\n",
       "      <td>NC</td>\n",
       "      <td>NaN</td>\n",
       "      <td>$418,000</td>\n",
       "      <td>False</td>\n",
       "    </tr>\n",
       "    <tr>\n",
       "      <th>1</th>\n",
       "      <td>for sale</td>\n",
       "      <td>single-family home</td>\n",
       "      <td>12911 E Heroy Ave</td>\n",
       "      <td>3 Baths</td>\n",
       "      <td>{'atAGlanceFacts': [{'factValue': '2019', 'fac...</td>\n",
       "      <td>NaN</td>\n",
       "      <td>Spokane Valley</td>\n",
       "      <td>[{'rating': ['4/10', 'None/10', '4/10'], 'data...</td>\n",
       "      <td>1,947 sqft</td>\n",
       "      <td>99216</td>\n",
       "      <td>3 Beds</td>\n",
       "      <td>WA</td>\n",
       "      <td>2.0</td>\n",
       "      <td>$310,000</td>\n",
       "      <td>False</td>\n",
       "    </tr>\n",
       "    <tr>\n",
       "      <th>2</th>\n",
       "      <td>for sale</td>\n",
       "      <td>single-family home</td>\n",
       "      <td>2005 Westridge Rd</td>\n",
       "      <td>2 Baths</td>\n",
       "      <td>{'atAGlanceFacts': [{'factValue': '1961', 'fac...</td>\n",
       "      <td>yes</td>\n",
       "      <td>Los Angeles</td>\n",
       "      <td>[{'rating': ['8/10', '4/10', '8/10'], 'data': ...</td>\n",
       "      <td>3,000 sqft</td>\n",
       "      <td>90049</td>\n",
       "      <td>3 Beds</td>\n",
       "      <td>CA</td>\n",
       "      <td>1.0</td>\n",
       "      <td>$2,895,000</td>\n",
       "      <td>True</td>\n",
       "    </tr>\n",
       "    <tr>\n",
       "      <th>3</th>\n",
       "      <td>for sale</td>\n",
       "      <td>single-family home</td>\n",
       "      <td>4311 Livingston Ave</td>\n",
       "      <td>8 Baths</td>\n",
       "      <td>{'atAGlanceFacts': [{'factValue': '2006', 'fac...</td>\n",
       "      <td>yes</td>\n",
       "      <td>Dallas</td>\n",
       "      <td>[{'rating': ['9/10', '9/10', '10/10', '9/10'],...</td>\n",
       "      <td>6,457 sqft</td>\n",
       "      <td>75205</td>\n",
       "      <td>5 Beds</td>\n",
       "      <td>TX</td>\n",
       "      <td>3.0</td>\n",
       "      <td>$2,395,000</td>\n",
       "      <td>False</td>\n",
       "    </tr>\n",
       "    <tr>\n",
       "      <th>4</th>\n",
       "      <td>for sale</td>\n",
       "      <td>lot/land</td>\n",
       "      <td>1524 Kiscoe St</td>\n",
       "      <td>NaN</td>\n",
       "      <td>{'atAGlanceFacts': [{'factValue': '', 'factLab...</td>\n",
       "      <td>NaN</td>\n",
       "      <td>Palm Bay</td>\n",
       "      <td>[{'rating': ['4/10', '5/10', '5/10'], 'data': ...</td>\n",
       "      <td>NaN</td>\n",
       "      <td>32908</td>\n",
       "      <td>NaN</td>\n",
       "      <td>FL</td>\n",
       "      <td>NaN</td>\n",
       "      <td>$5,000</td>\n",
       "      <td>False</td>\n",
       "    </tr>\n",
       "  </tbody>\n",
       "</table>\n",
       "</div>"
      ],
      "text/plain": [
       "     status        propertyType               street    baths  \\\n",
       "0    Active  Single Family Home       240 Heather Ln      3.5   \n",
       "1  for sale  single-family home    12911 E Heroy Ave  3 Baths   \n",
       "2  for sale  single-family home    2005 Westridge Rd  2 Baths   \n",
       "3  for sale  single-family home  4311 Livingston Ave  8 Baths   \n",
       "4  for sale            lot/land       1524 Kiscoe St      NaN   \n",
       "\n",
       "                                           homeFacts fireplace  \\\n",
       "0  {'atAGlanceFacts': [{'factValue': '2019', 'fac...  Gas Logs   \n",
       "1  {'atAGlanceFacts': [{'factValue': '2019', 'fac...       NaN   \n",
       "2  {'atAGlanceFacts': [{'factValue': '1961', 'fac...       yes   \n",
       "3  {'atAGlanceFacts': [{'factValue': '2006', 'fac...       yes   \n",
       "4  {'atAGlanceFacts': [{'factValue': '', 'factLab...       NaN   \n",
       "\n",
       "             city                                            schools  \\\n",
       "0  Southern Pines  [{'rating': ['4', '4', '7', 'NR', '4', '7', 'N...   \n",
       "1  Spokane Valley  [{'rating': ['4/10', 'None/10', '4/10'], 'data...   \n",
       "2     Los Angeles  [{'rating': ['8/10', '4/10', '8/10'], 'data': ...   \n",
       "3          Dallas  [{'rating': ['9/10', '9/10', '10/10', '9/10'],...   \n",
       "4        Palm Bay  [{'rating': ['4/10', '5/10', '5/10'], 'data': ...   \n",
       "\n",
       "         sqft zipcode    beds state stories      target  pool_encoded  \n",
       "0        2900   28387       4    NC     NaN    $418,000         False  \n",
       "1  1,947 sqft   99216  3 Beds    WA     2.0    $310,000         False  \n",
       "2  3,000 sqft   90049  3 Beds    CA     1.0  $2,895,000          True  \n",
       "3  6,457 sqft   75205  5 Beds    TX     3.0  $2,395,000         False  \n",
       "4         NaN   32908     NaN    FL     NaN      $5,000         False  "
      ]
     },
     "metadata": {},
     "output_type": "display_data"
    }
   ],
   "source": [
    "# Объединяем столбцы\n",
    "df['pool_encoded'] = df['private pool'].combine_first(df['PrivatePool'])\n",
    "# Удаляем столбец PrivatePool\n",
    "df = df.drop(['PrivatePool', 'private pool', 'MlsId', 'mls-id'], axis=1)\n",
    "# Заменить NaN на False\n",
    "df['pool_encoded'] = df['pool_encoded'].fillna(False)\n",
    "# Заменить 'yes' и 'Yes' на True\n",
    "df['pool_encoded'] = df['pool_encoded'].replace(['yes', 'Yes'], True)\n",
    "# Выводим результат\n",
    "print(\"Уникальные значения 'pool_encoded':\", df['pool_encoded'].unique())\n",
    "display(df.head())\n"
   ]
  },
  {
   "cell_type": "code",
   "execution_count": 7,
   "metadata": {},
   "outputs": [
    {
     "name": "stdout",
     "output_type": "stream",
     "text": [
      "Удалено 91 дубликатов\n"
     ]
    }
   ],
   "source": [
    "# сохраняем количество строк до удаления дубликатов\n",
    "rows_before = df.shape[0]\n",
    "#удалим дубликаты\n",
    "df = df.drop_duplicates(ignore_index=True)\n",
    "# сохраняем количество строк после удаления дубликатов\n",
    "rows_after = df.shape[0]\n",
    "# считаем количество удаленных дубликатов\n",
    "duplicates_removed = rows_before - rows_after\n",
    "print(f'Удалено {duplicates_removed} дубликатов')"
   ]
  },
  {
   "cell_type": "markdown",
   "metadata": {},
   "source": [
    "### Обработаем признак status"
   ]
  },
  {
   "cell_type": "code",
   "execution_count": 10,
   "metadata": {},
   "outputs": [
    {
     "name": "stdout",
     "output_type": "stream",
     "text": [
      "Количество пропущенных значений: 39916\n",
      "Процент пропущенных значений: 10.59%\n",
      "Количество уникальных значений: 159\n",
      "Уникальные значения: ['Active', 'for sale', nan, 'New construction', 'New', 'For sale', 'Pending', 'P', 'Active/Contingent', 'Pre-foreclosure / auction']\n"
     ]
    }
   ],
   "source": [
    "missing_values_count = df.status.isna().sum()\n",
    "total_count = len(df)\n",
    "missing_values_percentage = (missing_values_count / total_count) * 100\n",
    "\n",
    "print(f\"Количество пропущенных значений: {missing_values_count}\\n\"\n",
    "      f\"Процент пропущенных значений: {missing_values_percentage:.2f}%\\n\"\n",
    "      f\"Количество уникальных значений: {df.status.nunique()}\\n\"\n",
    "      f\"Уникальные значения: {list(df.status.unique()[:10])}\")"
   ]
  },
  {
   "cell_type": "markdown",
   "metadata": {},
   "source": [
    "#### Разделим статусы на категории а пропуски заменим на other и запишем их"
   ]
  },
  {
   "cell_type": "code",
   "execution_count": 11,
   "metadata": {},
   "outputs": [],
   "source": [
    "categories = {\n",
    "    \"For Sale\": [\"for sale\", \"For sale\", \"New construction\", \"New\"],\n",
    "    \"Active\": [\n",
    "        \"Active\", \"A Active\", \"Active/Contingent\", \"Active Under Contract\", \"Active Option\", \"Auction - Active\",\n",
    "        \"Active With Contingencies\", \"Active Option Contract\", \"Active Contingency\", \"Active Backup\",\n",
    "        \"Active Contingent\", \"Active - Auction\", \"Active With Offer\", \"Active - Contingent\", \"Active with Contract\",\n",
    "        \"Temporary Active\", \"Re Activated\", \"Reactivated\"\n",
    "    ],\n",
    "    \"Pending\": [\n",
    "        \"P\", \"Pending\", \"pending\", \"P Pending Sale\", \"Pending Ab\", \"Pending Continue To Show\",\n",
    "        \"Pending Inspection\", \"Pending Offer Approval\", \"Pending In\", \"Pending W/Insp Finance\", \"Pending Fe\",\n",
    "        \"Pending W/Backup Wanted\", \"Pending Backups Wanted\", \"Pending With Contingencies\", \"Lease/Purchase Pending\",\n",
    "        \"Pending Bring Backup\", \"Pending - Taking Backups\", \"Pending - Continue to Show\",\n",
    "        \"Pending Taking Backups\", \"Offer Pending Signature\", \"Pending (Do Not Show)\", \"Pending W/ Cont.\",\n",
    "        \"Pending W/Escape Clause\", \"Pending - Backup Offer Requested\", \"Pending Sale\"\n",
    "    ],\n",
    "    \"Contingent\": [\n",
    "        \"Contingent\", \"Contingent Finance And Inspection\", \"Contingent Show\",\n",
    "        \"Contingent Take Backup\", \"Contingent - Sale of Home\", \"Contingent Finance and Inspection\",\n",
    "        \"C Continue Show\", \"Contingent   Show\", \"Contingent   Release\", \"Contingent   No Show\",\n",
    "        \"CT Insp - Inspection Contingency\", \"Contingent   Foreclosure\", \"Conting Accpt Backups\",\n",
    "        \"Contingent - Financing\", \"Contingency 48 Hr (+/ )\", \"Contingency Contract\", \"Contingent Escape\"\n",
    "    ],\n",
    "    \"Foreclosure\": [\n",
    "        \"Pre-foreclosure\", \"Pre-foreclosure / auction\", \" / auction\", \"Foreclosed\", \"foreclosure\", \"Foreclosure\"\n",
    "    ],\n",
    "    \"Under Contract\": [\n",
    "        \"Under Contract\", \"Under Contract   Showing\", \"Under Contract Backups\", \"Under Contract Show\",\n",
    "        \"Under Contract - Show\", \"Under Contract - No Show\", \"Under contract\", \"U Under Contract\",\n",
    "        \"Due Diligence Period\", \"Contract Contingent On Buyer Sale\", \"Contract P\", \"Ct\", \"Uc Continue To Show\",\n",
    "        \"Under Contract Taking Back Up Offers\", \"Under Contract W/ Bckp\", \"Contract\"\n",
    "    ],\n",
    "    \"For Rent\": [\"for rent\", \"Apartment for rent\", \"Condo for rent\"],\n",
    "    \"Auction\": [\"Auction\"],\n",
    "    \"Recently Sold\": [\"recently sold\"],\n",
    "    \"Price Change\": [\"Price Change\"],\n",
    "    \"Back on Market\": [\"Back on Market\", \"Back On Market\"],\n",
    "    \"Closed\": [\"Closed\"],\n",
    "    \"Listing Extended\": [\"Listing Extended\"],\n",
    "    \"Coming Soon\": [\n",
    "        \"Coming soon: Nov 21.\", \"Coming soon: Dec 4.\", \"Coming soon: Nov 23.\", \"Coming soon: Nov 29.\",\n",
    "        \"Coming soon: Dec 2.\", \"Coming soon: Dec 10.\", \"Coming soon: Dec 24.\", \"Coming soon: Nov 14.\",\n",
    "        \"Coming soon: Nov 22.\", \"Coming soon: Oct 21.\", \"Coming soon: Dec 14.\", \"Coming soon: Oct 24.\",\n",
    "        \"Coming soon: Dec 18.\", \"Coming soon: Dec 16.\", \"Coming soon: Dec 3.\", \"Coming soon: Dec 25.\",\n",
    "        \"Coming soon: Nov 11.\", \"Coming soon: Nov 28.\", \"Coming soon: Nov 17.\", \"Coming soon: Dec 6.\",\n",
    "        \"Coming soon: Nov 27.\", \"Coming soon: Nov 26.\", \"Coming soon: Dec 7.\", \"Coming soon: Dec 27.\",\n",
    "        \"Coming soon: Dec 11.\", \"Coming soon: Dec 5.\", \"Coming soon: Nov 13.\", \"Coming soon: Nov 19.\",\n",
    "        \"Coming soon: Nov 8.\", \"Coming soon: Oct 29.\", \"Coming soon: Dec 15.\", \"Coming soon: Oct 30.\",\n",
    "        \"Coming soon: Dec 9.\", \"Coming soon: Dec 20.\", \"Coming soon: Dec 13.\", \"Coming soon: Dec 23.\",\n",
    "        \"Coming soon: Nov 30.\", \"Coming soon: Dec 1.\", \"Coming soon: Nov 5.\", \"Coming soon: Nov 12.\",\n",
    "        \"Coming soon: Nov 25.\", \"Coming soon: Nov 9.\"\n",
    "    ],\n",
    "}\n",
    "\n",
    "def categorize_status(status_value):\n",
    "    for category, values in categories.items():\n",
    "        if status_value in values:\n",
    "            return category\n",
    "    return \"Other\"\n",
    "\n",
    "# заменим значения на категории\n",
    "df['status'] = df['status'].apply(categorize_status)\n",
    "\n"
   ]
  },
  {
   "cell_type": "code",
   "execution_count": 12,
   "metadata": {},
   "outputs": [
    {
     "name": "stdout",
     "output_type": "stream",
     "text": [
      "Количество пропущенных значений: 0\n",
      "Процент пропущенных значений: 0.00%\n",
      "Количество уникальных значений: 15\n",
      "Уникальные значения: ['Active', 'For Sale', 'Other', 'Pending', 'Foreclosure', 'Under Contract', 'For Rent', 'Auction', 'Contingent', 'Price Change']\n"
     ]
    }
   ],
   "source": [
    "# выполним проверку\n",
    "missing_values_count = df.status.isna().sum()\n",
    "total_count = len(df)\n",
    "missing_values_percentage = (missing_values_count / total_count) * 100\n",
    "\n",
    "print(f\"Количество пропущенных значений: {missing_values_count}\\n\"\n",
    "      f\"Процент пропущенных значений: {missing_values_percentage:.2f}%\\n\"\n",
    "      f\"Количество уникальных значений: {df.status.nunique()}\\n\"\n",
    "      f\"Уникальные значения: {list(df.status.unique()[:10])}\")"
   ]
  },
  {
   "cell_type": "code",
   "execution_count": 13,
   "metadata": {},
   "outputs": [
    {
     "name": "stdout",
     "output_type": "stream",
     "text": [
      "Удалено 0 дубликатов\n"
     ]
    }
   ],
   "source": [
    "# сохраняем количество строк до удаления дубликатов\n",
    "rows_before = df.shape[0]\n",
    "#удалим дубликаты\n",
    "df = df.drop_duplicates(ignore_index=True)\n",
    "# сохраняем количество строк после удаления дубликатов\n",
    "rows_after = df.shape[0]\n",
    "# считаем количество удаленных дубликатов\n",
    "duplicates_removed = rows_before - rows_after\n",
    "print(f'Удалено {duplicates_removed} дубликатов')"
   ]
  },
  {
   "cell_type": "markdown",
   "metadata": {},
   "source": [
    "#### Посмотрим на признак propertyType"
   ]
  },
  {
   "cell_type": "code",
   "execution_count": 14,
   "metadata": {},
   "outputs": [
    {
     "name": "stdout",
     "output_type": "stream",
     "text": [
      "Количество пропущенных значений: 34725\n",
      "Процент пропущенных значений: 9.21%\n",
      "Количество уникальных значений: 1280\n",
      "Уникальные значения: ['Single Family Home', 'single-family home', 'lot/land', 'townhouse', 'Florida', nan, 'Single Family', 'coop', 'English', '2 Story']\n"
     ]
    }
   ],
   "source": [
    "# выполним проверку\n",
    "missing_values_count = df.propertyType.isna().sum()\n",
    "total_count = len(df)\n",
    "missing_values_percentage = (missing_values_count / total_count) * 100\n",
    "\n",
    "print(f\"Количество пропущенных значений: {missing_values_count}\\n\"\n",
    "      f\"Процент пропущенных значений: {missing_values_percentage:.2f}%\\n\"\n",
    "      f\"Количество уникальных значений: {df.propertyType.nunique()}\\n\"\n",
    "      f\"Уникальные значения: {list(df.propertyType.unique()[:10])}\")"
   ]
  },
  {
   "cell_type": "code",
   "execution_count": 15,
   "metadata": {},
   "outputs": [
    {
     "name": "stdout",
     "output_type": "stream",
     "text": [
      "Количество пропущенных значений: 34725\n",
      "Процент пропущенных значений: 9.21%\n",
      "Количество уникальных значений: 1272\n",
      "Уникальные значения: ['single family home', 'single-family home', 'lot/land', 'townhouse', 'florida', nan, 'single family', 'coop', 'english', '2 story']\n"
     ]
    }
   ],
   "source": [
    "# переведем все в строчные\n",
    "df.propertyType = df.propertyType.str.lower()\n",
    "# выполним проверку\n",
    "missing_values_count = df.propertyType.isna().sum()\n",
    "total_count = len(df)\n",
    "missing_values_percentage = (missing_values_count / total_count) * 100\n",
    "\n",
    "print(f\"Количество пропущенных значений: {missing_values_count}\\n\"\n",
    "      f\"Процент пропущенных значений: {missing_values_percentage:.2f}%\\n\"\n",
    "      f\"Количество уникальных значений: {df.propertyType.nunique()}\\n\"\n",
    "      f\"Уникальные значения: {list(df.propertyType.unique()[:10])}\")"
   ]
  },
  {
   "cell_type": "markdown",
   "metadata": {},
   "source": [
    "как видно из структуры тип записан в 1 значении отделенным запятой"
   ]
  },
  {
   "cell_type": "code",
   "execution_count": 16,
   "metadata": {},
   "outputs": [],
   "source": [
    "# приведем разное написание к 1 виду а так же заменим yes и unknown на Other\n",
    "df.propertyType = df.propertyType \\\n",
    ".str.replace('single-family home','single family') \\\n",
    ".str.replace('single family home','single family') \\\n",
    ".str.replace('yes','Other') \\\n",
    ".str.replace('unknown','Other')\n",
    "# Создадим признак Type и запишем в него объединенные по 1 слову данные \n",
    "df['Type'] = df['propertyType'].str.split(',').str[0]"
   ]
  },
  {
   "cell_type": "code",
   "execution_count": 17,
   "metadata": {},
   "outputs": [
    {
     "name": "stdout",
     "output_type": "stream",
     "text": [
      "Количество пропущенных значений: 34725\n",
      "Процент пропущенных значений: 9.21%\n",
      "Количество уникальных значений: 256\n",
      "Уникальные значения: ['single family', 'lot/land', 'townhouse', 'florida', nan, 'coop', 'english', '2 story', 'multi-family', 'penthouse']\n"
     ]
    }
   ],
   "source": [
    "# выполним проверку\n",
    "missing_values_count = df.Type.isna().sum()\n",
    "total_count = len(df)\n",
    "missing_values_percentage = (missing_values_count / total_count) * 100\n",
    "\n",
    "print(f\"Количество пропущенных значений: {missing_values_count}\\n\"\n",
    "      f\"Процент пропущенных значений: {missing_values_percentage:.2f}%\\n\"\n",
    "      f\"Количество уникальных значений: {df.Type.nunique()}\\n\"\n",
    "      f\"Уникальные значения: {list(df.Type.unique()[:10])}\")"
   ]
  },
  {
   "cell_type": "code",
   "execution_count": 18,
   "metadata": {},
   "outputs": [],
   "source": [
    "synonyms_mapping = {\n",
    "    'single_family_home': [\n",
    "        'single family', '1 story', '2 story', 'detached', '1 story/ranch', '1 story traditional', 'single detached', 'singlefamilyresidence', 'single wide', 'single-wide mobile with land',\n",
    "        'two story', 'one story', 'one level unit', 'rancher', '1 1/2 story', 'single wide mh', 'one story traditional'],\n",
    "    'multi_family_home': [\n",
    "        'multi-family', 'multi-family home', 'duplex', 'triplex', 'fourplex', 'multi_level', 'multi family', '2 unit condo', '2-story'],\n",
    "    'condo': [\n",
    "        'condo', 'coop', 'cooperative', 'condo/townhome/row home/co-op', 'condo/townhome', 'condominium', 'condo/unit', 'apartment/condo/townhouse', 'co-op', '2 story condo', 'high rise'],\n",
    "    'townhouse': [\n",
    "        'townhouse', 'townhome style', 'townhouse-interior', 'townhouse-end unit'],\n",
    "    'apartment': [\n",
    "        'apartment', 'condominium (single level)', 'high-rise', 'mid-rise', 'low-rise (1-3 stories)', 'Flats', 'studio'],\n",
    "    'land': [\n",
    "        'lot/land', 'land'],\n",
    "    'mobile_home': [\n",
    "        'mobile/manufactured', 'mobile / manufactured', 'manufactured house', 'mfd/mobile home', 'mobile home', 'manufactured home', 'manufactured double-wide', 'manufactured single-wide', 'mobile home 1 story', 'mobile manu - double wide'],\n",
    "    'miscellaneous': [\n",
    "        'miscellaneous'],\n",
    "    'ranch': [\n",
    "        'ranch', 'one story'],\n",
    "    'modern': [\n",
    "        'contemporary', 'contemporary/modern', \"modern\", 'mid-century modern', 'modern farmhouse', 'modernist'],\n",
    "    'historical': [\n",
    "        'historical', 'designated historical home', 'historical/conservation district', 'historic/older', 'historic vintage', 'historic'],\n",
    "    'other': [\n",
    "        'Other', 'english', 'urban contemporary', 'other style', 'florida', 'farms/ranches', 'carriage house', 'country english', 'straight thru', 'less than 4 floors', 'bungalow', 'custom', 'arts & crafts', 'tudor', 'new build 2019', 'split foyer', 'cottage', 'cottage/camp', 'garden home', 'farm/ranch', 'farm/ranch house', 'farm house', 'hi ranch', 'attached duplex', 'farmhouse', 'houseboat', 'ground floor', 'victorian', '3 story', '3+ stories', 'santa barbara/tuscan', 'old style', 'modular/prefab', 'post and beam', 'manuf/mobile', 'multiple occupancy', 'attached', 'hawaiian plantation', 'forest garden home', '1 1/2 story with basement', 'split-entry', 'texas hill country', 'lake house', '1 story with basement', 'hi-rise', 'coastal beach home', 'historical', 'key west/coastal', 'loft/balcony', 'english manor', 'mid-rise (4-7 stories)', 'mid-level', 'new englander', 'residential (<1 acre)', 'ranch','residential (1+ acre)', 'split', 'split level', 'split (4 level)', 'split (5+ level)', 'urban', 'patio', 'patio home', 'penthouse', 'manor', 'victorian/federal', 'coastal', 'coastal contemporary', 'coastal ii', 'coastal modern', 'coastal two story', 'mountain contemporary', 'key west', 'high ranch', 'end unit']\n",
    "}\n",
    "\n",
    "\n",
    "def replace_synonyms(value):\n",
    "    for key, synonym_values in synonyms_mapping.items():\n",
    "        if value in synonym_values:\n",
    "            return key\n",
    "    return \"other\"\n",
    "\n",
    "# Замена синонимов\n",
    "df['Type'] = df['Type'].apply(replace_synonyms)\n",
    "\n"
   ]
  },
  {
   "cell_type": "code",
   "execution_count": 19,
   "metadata": {},
   "outputs": [
    {
     "name": "stdout",
     "output_type": "stream",
     "text": [
      "Количество пропущенных значений: 0\n",
      "Процент пропущенных значений: 0.00%\n",
      "Количество уникальных значений: 12\n",
      "Уникальные значения: ['single_family_home', 'land', 'townhouse', 'other', 'condo', 'multi_family_home', 'mobile_home', 'apartment', 'modern', 'miscellaneous']\n"
     ]
    }
   ],
   "source": [
    "# выполним проверку\n",
    "missing_values_count = df.Type.isna().sum()\n",
    "total_count = len(df)\n",
    "missing_values_percentage = (missing_values_count / total_count) * 100\n",
    "\n",
    "print(f\"Количество пропущенных значений: {missing_values_count}\\n\"\n",
    "      f\"Процент пропущенных значений: {missing_values_percentage:.2f}%\\n\"\n",
    "      f\"Количество уникальных значений: {df.Type.nunique()}\\n\"\n",
    "      f\"Уникальные значения: {list(df.Type.unique()[:10])}\")"
   ]
  },
  {
   "cell_type": "code",
   "execution_count": 20,
   "metadata": {},
   "outputs": [],
   "source": [
    "# теперь propertyType можно удалить\n",
    "df.drop('propertyType', axis=1, inplace=True)\n"
   ]
  },
  {
   "cell_type": "markdown",
   "metadata": {},
   "source": [
    "Обработаем Признак street"
   ]
  },
  {
   "cell_type": "code",
   "execution_count": 21,
   "metadata": {},
   "outputs": [
    {
     "name": "stdout",
     "output_type": "stream",
     "text": [
      "Количество пропущенных значений: 2\n",
      "Процент пропущенных значений: 0.00%\n",
      "Количество уникальных значений: 337076\n"
     ]
    }
   ],
   "source": [
    "# выполним проверку\n",
    "missing_values_count = df.street.isna().sum()\n",
    "total_count = len(df)\n",
    "missing_values_percentage = (missing_values_count / total_count) * 100\n",
    "\n",
    "print(f\"Количество пропущенных значений: {missing_values_count}\\n\"\n",
    "      f\"Процент пропущенных значений: {missing_values_percentage:.2f}%\\n\"\n",
    "      f\"Количество уникальных значений: {df.street.nunique()}\")"
   ]
  },
  {
   "cell_type": "code",
   "execution_count": 22,
   "metadata": {},
   "outputs": [],
   "source": [
    "# удаляем строки, где есть пропуски в столбце street\n",
    "df = df.dropna(subset=['street'])"
   ]
  },
  {
   "cell_type": "markdown",
   "metadata": {},
   "source": [
    "#### C помощью библиотеки geopy получим кординаты расположения"
   ]
  },
  {
   "cell_type": "code",
   "execution_count": 21,
   "metadata": {},
   "outputs": [],
   "source": [
    "#user_agent = UserAgent().random\n",
    "#geolocator = Nominatim(user_agent=user_agent, timeout=10)\n",
    "\n",
    "#def get_coordinates(address, retry_count=3):\n",
    "#    if retry_count <= 0:\n",
    "#       return None\n",
    "\n",
    "#    try:\n",
    "#        location = geolocator.geocode(address)\n",
    "#        if location:\n",
    "#            return (location.latitude, location.longitude)\n",
    "#        else:\n",
    "#            return None\n",
    "#    except (GeocoderTimedOut, GeocoderUnavailable, GeocoderServiceError):\n",
    "#        return get_coordinates(address, retry_count - 1)\n",
    "\n",
    "#df['coordinates'] = df['street'].apply(get_coordinates)\n",
    "\n",
    "#Поскольку данный способ очень продолжительный по времени пришлось от него отказаться"
   ]
  },
  {
   "cell_type": "markdown",
   "metadata": {},
   "source": [
    "Оставим пока этот признак так как не понятно как его можно использовать но информация из него может пригодиться в дальнейшем"
   ]
  },
  {
   "cell_type": "markdown",
   "metadata": {},
   "source": [
    "Обработаем признак baths"
   ]
  },
  {
   "cell_type": "code",
   "execution_count": 23,
   "metadata": {},
   "outputs": [
    {
     "name": "stdout",
     "output_type": "stream",
     "text": [
      "Количество пропущенных значений: 106260\n",
      "Процент пропущенных значений: 28.18%\n",
      "Количество уникальных значений: 229\n",
      "Уникальные значения: ['3.5', '3 Baths', '2 Baths', '8 Baths', nan, '2', '3', 'Bathrooms: 2', '1,750', '4 Baths']\n"
     ]
    }
   ],
   "source": [
    "# выполним проверку\n",
    "missing_values_count = df.baths.isna().sum()\n",
    "total_count = len(df)\n",
    "missing_values_percentage = (missing_values_count / total_count) * 100\n",
    "\n",
    "print(f\"Количество пропущенных значений: {missing_values_count}\\n\"\n",
    "      f\"Процент пропущенных значений: {missing_values_percentage:.2f}%\\n\"\n",
    "      f\"Количество уникальных значений: {df.baths.nunique()}\\n\"\n",
    "      f\"Уникальные значения: {list(df.baths.unique()[:10])}\")"
   ]
  },
  {
   "cell_type": "code",
   "execution_count": 24,
   "metadata": {},
   "outputs": [],
   "source": [
    "# Удаляем все буквы, пробелы и двоеточия\n",
    "df.baths = df.baths.str.replace('[a-zA-Z:]','', regex=True)\n",
    "# Удаляем все пробелы\n",
    "df.baths = df.baths.str.replace(' ','', regex=True)"
   ]
  },
  {
   "cell_type": "code",
   "execution_count": 25,
   "metadata": {},
   "outputs": [
    {
     "name": "stdout",
     "output_type": "stream",
     "text": [
      "Количество пропущенных значений: 106260\n",
      "Процент пропущенных значений: 28.18%\n",
      "Количество уникальных значений: 148\n",
      "Уникальные значения: ['3.5', '3', '2', '8', nan, '1,750', '4', '5', '1,000', '7']\n"
     ]
    }
   ],
   "source": [
    "# выполним проверку\n",
    "missing_values_count = df.baths.isna().sum()\n",
    "total_count = len(df)\n",
    "missing_values_percentage = (missing_values_count / total_count) * 100\n",
    "\n",
    "print(f\"Количество пропущенных значений: {missing_values_count}\\n\"\n",
    "      f\"Процент пропущенных значений: {missing_values_percentage:.2f}%\\n\"\n",
    "      f\"Количество уникальных значений: {df.baths.nunique()}\\n\"\n",
    "      f\"Уникальные значения: {list(df.baths.unique()[:10])}\")"
   ]
  },
  {
   "cell_type": "code",
   "execution_count": 26,
   "metadata": {},
   "outputs": [],
   "source": [
    "# сделаем копию что бы не перезапускать весь код в слкчае ошибок\n",
    "df1=df.copy()"
   ]
  },
  {
   "cell_type": "markdown",
   "metadata": {},
   "source": [
    "пропуски заполним нулями так как большинство пропущенных значений соответствуют земле где нет здания"
   ]
  },
  {
   "cell_type": "code",
   "execution_count": 27,
   "metadata": {},
   "outputs": [],
   "source": [
    "# поправим кривые значения\n",
    "df1['baths'] = df1['baths'].str.replace('[a-zA-Z+:]','', regex=True)\n",
    "df1['baths'].replace(['nan','', '~', '..', '--', '—','0.0','0.00','0/0'], 0, inplace=True)\n",
    "df1['baths'].replace(['1-2','1/1-0/1-0/1-0', '1/1/1/1','1-0/1-0/1', ], 1, inplace=True)\n",
    "df1['baths'].replace(['2-1/2-1/1-1/1-1','3-1/2-2',], 2, inplace=True)\n",
    "df1['baths'].replace(['116/116/116'], 116, inplace=True)\n",
    "df1['baths'].replace(['7,500'], 7.5, inplace=True)\n",
    "df1['baths'].replace(['5,000'], 5, inplace=True)\n",
    "df1['baths'].replace(['3,500'], 3.5, inplace=True)\n",
    "df1['baths'].replace(['2,750'], 2.75, inplace=True)\n",
    "df1['baths'].replace(['2,250'], 2.25, inplace=True)\n",
    "df1['baths'].replace(['1,250'], 1.25, inplace=True)\n",
    "df1['baths'].replace(['1,500'], 1.5, inplace=True)\n",
    "df1['baths'].replace(['4,000'], 4, inplace=True)\n",
    "df1['baths'].replace(['2,000'], 2, inplace=True)\n",
    "df1['baths'].replace(['3,000'], 3, inplace=True)\n",
    "df1['baths'].replace(['2,500'], 2.5, inplace=True)\n",
    "df1['baths'].replace(['1,000'], 1, inplace=True)\n",
    "df1['baths'].replace(['1,750'], 1.75, inplace=True)\n",
    "df1['baths'] = df1['baths'].fillna(0)"
   ]
  },
  {
   "cell_type": "code",
   "execution_count": 28,
   "metadata": {},
   "outputs": [],
   "source": [
    "# переведем в числовой признак и округлим до целого числа\n",
    "df1['baths'] = df1['baths'].astype(float).round()"
   ]
  },
  {
   "cell_type": "code",
   "execution_count": 29,
   "metadata": {},
   "outputs": [
    {
     "data": {
      "text/html": [
       "<div>\n",
       "<style scoped>\n",
       "    .dataframe tbody tr th:only-of-type {\n",
       "        vertical-align: middle;\n",
       "    }\n",
       "\n",
       "    .dataframe tbody tr th {\n",
       "        vertical-align: top;\n",
       "    }\n",
       "\n",
       "    .dataframe thead th {\n",
       "        text-align: right;\n",
       "    }\n",
       "</style>\n",
       "<table border=\"1\" class=\"dataframe\">\n",
       "  <thead>\n",
       "    <tr style=\"text-align: right;\">\n",
       "      <th></th>\n",
       "      <th>status</th>\n",
       "      <th>street</th>\n",
       "      <th>baths</th>\n",
       "      <th>homeFacts</th>\n",
       "      <th>fireplace</th>\n",
       "      <th>city</th>\n",
       "      <th>schools</th>\n",
       "      <th>sqft</th>\n",
       "      <th>zipcode</th>\n",
       "      <th>beds</th>\n",
       "      <th>state</th>\n",
       "      <th>stories</th>\n",
       "      <th>target</th>\n",
       "      <th>pool_encoded</th>\n",
       "      <th>Type</th>\n",
       "    </tr>\n",
       "  </thead>\n",
       "  <tbody>\n",
       "    <tr>\n",
       "      <th>4</th>\n",
       "      <td>For Sale</td>\n",
       "      <td>1524 Kiscoe St</td>\n",
       "      <td>0.0</td>\n",
       "      <td>{'atAGlanceFacts': [{'factValue': '', 'factLab...</td>\n",
       "      <td>NaN</td>\n",
       "      <td>Palm Bay</td>\n",
       "      <td>[{'rating': ['4/10', '5/10', '5/10'], 'data': ...</td>\n",
       "      <td>NaN</td>\n",
       "      <td>32908</td>\n",
       "      <td>NaN</td>\n",
       "      <td>FL</td>\n",
       "      <td>NaN</td>\n",
       "      <td>$5,000</td>\n",
       "      <td>False</td>\n",
       "      <td>land</td>\n",
       "    </tr>\n",
       "    <tr>\n",
       "      <th>6</th>\n",
       "      <td>Active</td>\n",
       "      <td>552 Casanova Ct</td>\n",
       "      <td>0.0</td>\n",
       "      <td>{'atAGlanceFacts': [{'factValue': '2006', 'fac...</td>\n",
       "      <td>NaN</td>\n",
       "      <td>POINCIANA</td>\n",
       "      <td>[{'rating': ['3', '3', '1', 'NR'], 'data': {'D...</td>\n",
       "      <td>1,507</td>\n",
       "      <td>34759</td>\n",
       "      <td>NaN</td>\n",
       "      <td>FL</td>\n",
       "      <td>One</td>\n",
       "      <td>181,500</td>\n",
       "      <td>False</td>\n",
       "      <td>other</td>\n",
       "    </tr>\n",
       "    <tr>\n",
       "      <th>7</th>\n",
       "      <td>Active</td>\n",
       "      <td>6094 Mingle Dr</td>\n",
       "      <td>0.0</td>\n",
       "      <td>{'atAGlanceFacts': [{'factValue': '1976', 'fac...</td>\n",
       "      <td>NaN</td>\n",
       "      <td>Memphis</td>\n",
       "      <td>[{'rating': ['4', '2', '2'], 'data': {'Distanc...</td>\n",
       "      <td>NaN</td>\n",
       "      <td>38115</td>\n",
       "      <td>NaN</td>\n",
       "      <td>TN</td>\n",
       "      <td>NaN</td>\n",
       "      <td>68,000</td>\n",
       "      <td>False</td>\n",
       "      <td>other</td>\n",
       "    </tr>\n",
       "    <tr>\n",
       "      <th>11</th>\n",
       "      <td>Active</td>\n",
       "      <td>4222 False Cypress Ln</td>\n",
       "      <td>0.0</td>\n",
       "      <td>{'atAGlanceFacts': [{'factValue': '2015', 'fac...</td>\n",
       "      <td>NaN</td>\n",
       "      <td>Houston</td>\n",
       "      <td>[{'rating': ['6', '3', '6', '1', '5'], 'data':...</td>\n",
       "      <td>3,130</td>\n",
       "      <td>77068</td>\n",
       "      <td>NaN</td>\n",
       "      <td>TX</td>\n",
       "      <td>2</td>\n",
       "      <td>260,000</td>\n",
       "      <td>False</td>\n",
       "      <td>other</td>\n",
       "    </tr>\n",
       "    <tr>\n",
       "      <th>40</th>\n",
       "      <td>Active</td>\n",
       "      <td>1104 Rotonda Cir</td>\n",
       "      <td>0.0</td>\n",
       "      <td>{'atAGlanceFacts': [{'factValue': '', 'factLab...</td>\n",
       "      <td>NaN</td>\n",
       "      <td>ROTONDA WEST</td>\n",
       "      <td>[{'rating': ['6', '6', '7'], 'data': {'Distanc...</td>\n",
       "      <td>NaN</td>\n",
       "      <td>33947</td>\n",
       "      <td>NaN</td>\n",
       "      <td>FL</td>\n",
       "      <td>NaN</td>\n",
       "      <td>54,000</td>\n",
       "      <td>False</td>\n",
       "      <td>other</td>\n",
       "    </tr>\n",
       "  </tbody>\n",
       "</table>\n",
       "</div>"
      ],
      "text/plain": [
       "      status                  street  baths  \\\n",
       "4   For Sale          1524 Kiscoe St    0.0   \n",
       "6     Active        552 Casanova Ct     0.0   \n",
       "7     Active         6094 Mingle Dr     0.0   \n",
       "11    Active  4222 False Cypress Ln     0.0   \n",
       "40    Active       1104 Rotonda Cir     0.0   \n",
       "\n",
       "                                            homeFacts fireplace          city  \\\n",
       "4   {'atAGlanceFacts': [{'factValue': '', 'factLab...       NaN      Palm Bay   \n",
       "6   {'atAGlanceFacts': [{'factValue': '2006', 'fac...       NaN     POINCIANA   \n",
       "7   {'atAGlanceFacts': [{'factValue': '1976', 'fac...       NaN       Memphis   \n",
       "11  {'atAGlanceFacts': [{'factValue': '2015', 'fac...       NaN       Houston   \n",
       "40  {'atAGlanceFacts': [{'factValue': '', 'factLab...       NaN  ROTONDA WEST   \n",
       "\n",
       "                                              schools   sqft zipcode beds  \\\n",
       "4   [{'rating': ['4/10', '5/10', '5/10'], 'data': ...    NaN   32908  NaN   \n",
       "6   [{'rating': ['3', '3', '1', 'NR'], 'data': {'D...  1,507   34759  NaN   \n",
       "7   [{'rating': ['4', '2', '2'], 'data': {'Distanc...    NaN   38115  NaN   \n",
       "11  [{'rating': ['6', '3', '6', '1', '5'], 'data':...  3,130   77068  NaN   \n",
       "40  [{'rating': ['6', '6', '7'], 'data': {'Distanc...    NaN   33947  NaN   \n",
       "\n",
       "   state stories   target  pool_encoded   Type  \n",
       "4     FL     NaN   $5,000         False   land  \n",
       "6     FL     One  181,500         False  other  \n",
       "7     TN     NaN   68,000         False  other  \n",
       "11    TX       2  260,000         False  other  \n",
       "40    FL     NaN   54,000         False  other  "
      ]
     },
     "metadata": {},
     "output_type": "display_data"
    },
    {
     "name": "stdout",
     "output_type": "stream",
     "text": [
      "Процент выбранных строк от общего числа строк: 19.36%\n"
     ]
    }
   ],
   "source": [
    "# Отбираем строки по заданным условиям при помощи логических операций (& - \"и\", | - \"или\", ~ - \"не\")\n",
    "selected_rows = df1[(df1['baths'] == 0) & ((df1['Type'] == 'other') | (df1['Type'] == 'land') | (df1['Type'] == 'ranch'))]\n",
    "\n",
    "# Выводим полученные строки\n",
    "display(selected_rows.head())\n",
    "# Находим процент выбранных строк от общего числа строк в исходном датафрейме\n",
    "percent_selected = len(selected_rows) / len(df1) * 100\n",
    "# Выводим полученные строки и процент выбранных строк\n",
    "print(f\"Процент выбранных строк от общего числа строк: {percent_selected:.2f}%\")"
   ]
  },
  {
   "cell_type": "code",
   "execution_count": 30,
   "metadata": {},
   "outputs": [
    {
     "data": {
      "text/html": [
       "<div>\n",
       "<style scoped>\n",
       "    .dataframe tbody tr th:only-of-type {\n",
       "        vertical-align: middle;\n",
       "    }\n",
       "\n",
       "    .dataframe tbody tr th {\n",
       "        vertical-align: top;\n",
       "    }\n",
       "\n",
       "    .dataframe thead th {\n",
       "        text-align: right;\n",
       "    }\n",
       "</style>\n",
       "<table border=\"1\" class=\"dataframe\">\n",
       "  <thead>\n",
       "    <tr style=\"text-align: right;\">\n",
       "      <th></th>\n",
       "      <th>status</th>\n",
       "      <th>street</th>\n",
       "      <th>baths</th>\n",
       "      <th>homeFacts</th>\n",
       "      <th>fireplace</th>\n",
       "      <th>city</th>\n",
       "      <th>schools</th>\n",
       "      <th>sqft</th>\n",
       "      <th>zipcode</th>\n",
       "      <th>beds</th>\n",
       "      <th>state</th>\n",
       "      <th>stories</th>\n",
       "      <th>target</th>\n",
       "      <th>pool_encoded</th>\n",
       "      <th>Type</th>\n",
       "    </tr>\n",
       "  </thead>\n",
       "  <tbody>\n",
       "    <tr>\n",
       "      <th>5</th>\n",
       "      <td>For Sale</td>\n",
       "      <td>1624 S Newkirk St</td>\n",
       "      <td>0.0</td>\n",
       "      <td>{'atAGlanceFacts': [{'factValue': '1920', 'fac...</td>\n",
       "      <td>NaN</td>\n",
       "      <td>Philadelphia</td>\n",
       "      <td>[{'rating': [], 'data': {'Distance': [], 'Grad...</td>\n",
       "      <td>897 sqft</td>\n",
       "      <td>19145</td>\n",
       "      <td>2 Beds</td>\n",
       "      <td>PA</td>\n",
       "      <td>2.0</td>\n",
       "      <td>$209,000</td>\n",
       "      <td>False</td>\n",
       "      <td>townhouse</td>\n",
       "    </tr>\n",
       "    <tr>\n",
       "      <th>15</th>\n",
       "      <td>For Sale</td>\n",
       "      <td>930 52nd St</td>\n",
       "      <td>0.0</td>\n",
       "      <td>{'atAGlanceFacts': [{'factValue': '1905', 'fac...</td>\n",
       "      <td>NaN</td>\n",
       "      <td>Brooklyn</td>\n",
       "      <td>[{'rating': ['8', '8', '3'], 'data': {'Distanc...</td>\n",
       "      <td>NaN</td>\n",
       "      <td>11219</td>\n",
       "      <td>NaN</td>\n",
       "      <td>NY</td>\n",
       "      <td>NaN</td>\n",
       "      <td>1,650,000</td>\n",
       "      <td>False</td>\n",
       "      <td>single_family_home</td>\n",
       "    </tr>\n",
       "    <tr>\n",
       "      <th>17</th>\n",
       "      <td>Active</td>\n",
       "      <td>24 W 126th St</td>\n",
       "      <td>0.0</td>\n",
       "      <td>{'atAGlanceFacts': [{'factValue': '1899', 'fac...</td>\n",
       "      <td>NaN</td>\n",
       "      <td>New York</td>\n",
       "      <td>[{'rating': ['2', '5', '1', '2'], 'data': {'Di...</td>\n",
       "      <td>3,325</td>\n",
       "      <td>10027</td>\n",
       "      <td>NaN</td>\n",
       "      <td>NY</td>\n",
       "      <td>NaN</td>\n",
       "      <td>2,650,000</td>\n",
       "      <td>False</td>\n",
       "      <td>townhouse</td>\n",
       "    </tr>\n",
       "    <tr>\n",
       "      <th>35</th>\n",
       "      <td>For Sale</td>\n",
       "      <td>423 N Church St #13-A</td>\n",
       "      <td>0.0</td>\n",
       "      <td>{'atAGlanceFacts': [{'factValue': '1981', 'fac...</td>\n",
       "      <td>NaN</td>\n",
       "      <td>Charlotte</td>\n",
       "      <td>[{'rating': ['7/10', '4/10', '8/10'], 'data': ...</td>\n",
       "      <td>900 sqft</td>\n",
       "      <td>28202</td>\n",
       "      <td>2 Beds</td>\n",
       "      <td>NC</td>\n",
       "      <td>NaN</td>\n",
       "      <td>$260,000</td>\n",
       "      <td>False</td>\n",
       "      <td>condo</td>\n",
       "    </tr>\n",
       "    <tr>\n",
       "      <th>71</th>\n",
       "      <td>For Sale</td>\n",
       "      <td>8451 24th Ave SW</td>\n",
       "      <td>0.0</td>\n",
       "      <td>{'atAGlanceFacts': [{'factValue': '1918', 'fac...</td>\n",
       "      <td>NaN</td>\n",
       "      <td>Seattle</td>\n",
       "      <td>[{'rating': ['6/10', '3/10', '4/10'], 'data': ...</td>\n",
       "      <td>770 sqft</td>\n",
       "      <td>98106</td>\n",
       "      <td>2 Beds</td>\n",
       "      <td>WA</td>\n",
       "      <td>1.0</td>\n",
       "      <td>$475,000</td>\n",
       "      <td>False</td>\n",
       "      <td>single_family_home</td>\n",
       "    </tr>\n",
       "  </tbody>\n",
       "</table>\n",
       "</div>"
      ],
      "text/plain": [
       "      status                 street  baths  \\\n",
       "5   For Sale      1624 S Newkirk St    0.0   \n",
       "15  For Sale           930 52nd St     0.0   \n",
       "17    Active         24 W 126th St     0.0   \n",
       "35  For Sale  423 N Church St #13-A    0.0   \n",
       "71  For Sale       8451 24th Ave SW    0.0   \n",
       "\n",
       "                                            homeFacts fireplace          city  \\\n",
       "5   {'atAGlanceFacts': [{'factValue': '1920', 'fac...       NaN  Philadelphia   \n",
       "15  {'atAGlanceFacts': [{'factValue': '1905', 'fac...       NaN      Brooklyn   \n",
       "17  {'atAGlanceFacts': [{'factValue': '1899', 'fac...       NaN      New York   \n",
       "35  {'atAGlanceFacts': [{'factValue': '1981', 'fac...       NaN     Charlotte   \n",
       "71  {'atAGlanceFacts': [{'factValue': '1918', 'fac...       NaN       Seattle   \n",
       "\n",
       "                                              schools      sqft zipcode  \\\n",
       "5   [{'rating': [], 'data': {'Distance': [], 'Grad...  897 sqft   19145   \n",
       "15  [{'rating': ['8', '8', '3'], 'data': {'Distanc...       NaN   11219   \n",
       "17  [{'rating': ['2', '5', '1', '2'], 'data': {'Di...     3,325   10027   \n",
       "35  [{'rating': ['7/10', '4/10', '8/10'], 'data': ...  900 sqft   28202   \n",
       "71  [{'rating': ['6/10', '3/10', '4/10'], 'data': ...  770 sqft   98106   \n",
       "\n",
       "      beds state stories     target  pool_encoded                Type  \n",
       "5   2 Beds    PA     2.0   $209,000         False           townhouse  \n",
       "15     NaN    NY     NaN  1,650,000         False  single_family_home  \n",
       "17     NaN    NY     NaN  2,650,000         False           townhouse  \n",
       "35  2 Beds    NC     NaN   $260,000         False               condo  \n",
       "71  2 Beds    WA     1.0   $475,000         False  single_family_home  "
      ]
     },
     "metadata": {},
     "output_type": "display_data"
    },
    {
     "name": "stdout",
     "output_type": "stream",
     "text": [
      "Уникальные значения признака Type в выбранных строках: ['townhouse' 'single_family_home' 'condo' 'apartment' 'modern'\n",
      " 'miscellaneous' 'multi_family_home' 'mobile_home' 'historical']\n",
      "Процент выбранных строк от общего числа строк: 10.25%\n"
     ]
    }
   ],
   "source": [
    "selected_rows = df1[(df1['baths'] == 0) & ~(df1['Type'].isin(['other', 'land', 'ranch']))]\n",
    "display(selected_rows.head())\n",
    "# Находим уникальные значения признака status в выбранных строках\n",
    "unique_statuses = selected_rows['Type'].unique()\n",
    "# Выводим полученные строки и процент выбранных строк\n",
    "print(f\"Уникальные значения признака Type в выбранных строках: {unique_statuses}\")\n",
    "percent_selected = len(selected_rows) / len(df1) * 100\n",
    "print(f\"Процент выбранных строк от общего числа строк: {percent_selected:.2f}%\")\n"
   ]
  },
  {
   "cell_type": "code",
   "execution_count": 31,
   "metadata": {},
   "outputs": [
    {
     "name": "stdout",
     "output_type": "stream",
     "text": [
      "Количество пропущенных значений: 0\n",
      "Процент пропущенных значений: 0.00%\n",
      "Количество уникальных значений: 49\n",
      "Уникальные значения: [4.0, 3.0, 2.0, 8.0, 0.0, 5.0, 1.0, 7.0, 6.0, 9.0]\n"
     ]
    }
   ],
   "source": [
    "# выполним проверку\n",
    "missing_values_count = df1.baths.isna().sum()\n",
    "total_count = len(df1)\n",
    "missing_values_percentage = (missing_values_count / total_count) * 100\n",
    "\n",
    "print(f\"Количество пропущенных значений: {missing_values_count}\\n\"\n",
    "      f\"Процент пропущенных значений: {missing_values_percentage:.2f}%\\n\"\n",
    "      f\"Количество уникальных значений: {df1.baths.nunique()}\\n\"\n",
    "      f\"Уникальные значения: {list(df1.baths.unique()[:10])}\")"
   ]
  },
  {
   "cell_type": "markdown",
   "metadata": {},
   "source": [
    "Итого имеем 29.61% мы заменили значением 0 из них 19.36% это ранчо чемля и иной тип что в полне может быть правдой и 10.25% 'таунхаус' 'дом на одну семью' 'кондоминиум' 'квартира' 'современный' 'разное' 'многосемейный_дом' 'мобильный_дом' 'исторический' из них минимум половина действительно может не иметь ванной комнаты, в целом такой результат можно считать приемлемым"
   ]
  },
  {
   "cell_type": "markdown",
   "metadata": {},
   "source": [
    "#### Обработаем признак 'homeFacts'"
   ]
  },
  {
   "cell_type": "code",
   "execution_count": 35,
   "metadata": {},
   "outputs": [
    {
     "name": "stdout",
     "output_type": "stream",
     "text": [
      "Количество пропущенных значений: 0\n",
      "Процент пропущенных значений: 0.00%\n",
      "Количество уникальных значений: 321008\n",
      "Уникальные значения: [\"{'atAGlanceFacts': [{'factValue': '2019', 'factLabel': 'Year built'}, {'factValue': '', 'factLabel': 'Remodeled year'}, {'factValue': 'Central A/C, Heat Pump', 'factLabel': 'Heating'}, {'factValue': '', 'factLabel': 'Cooling'}, {'factValue': '', 'factLabel': 'Parking'}, {'factValue': None, 'factLabel': 'lotsize'}, {'factValue': '$144', 'factLabel': 'Price/sqft'}]}\"]\n"
     ]
    }
   ],
   "source": [
    "# выполним проверку\n",
    "missing_values_count = df1.homeFacts.isna().sum()\n",
    "total_count = len(df1)\n",
    "missing_values_percentage = (missing_values_count / total_count) * 100\n",
    "\n",
    "print(f\"Количество пропущенных значений: {missing_values_count}\\n\"\n",
    "f\"Процент пропущенных значений: {missing_values_percentage:.2f}%\\n\"\n",
    "f\"Количество уникальных значений: {df1.homeFacts.nunique()}\\n\"\n",
    "f\"Уникальные значения: {list(df1.homeFacts.unique()[:1])}\")"
   ]
  },
  {
   "cell_type": "markdown",
   "metadata": {},
   "source": [
    "С помощью регулярных выражений выдерним из этого признака значения для Value и Label"
   ]
  },
  {
   "cell_type": "code",
   "execution_count": 36,
   "metadata": {},
   "outputs": [
    {
     "data": {
      "text/plain": [
       "[\"'Year built'\",\n",
       " \"'Remodeled year'\",\n",
       " \"'Heating'\",\n",
       " \"'Cooling'\",\n",
       " \"'Parking'\",\n",
       " \"'lotsize'\",\n",
       " \"'Price/sqft'\"]"
      ]
     },
     "execution_count": 36,
     "metadata": {},
     "output_type": "execute_result"
    }
   ],
   "source": [
    "label = df1.homeFacts.str.findall(r\"\\bfactLabel': ([\\s\\S]+?)[}\\b]\")\n",
    "label[100]"
   ]
  },
  {
   "cell_type": "code",
   "execution_count": 37,
   "metadata": {},
   "outputs": [
    {
     "data": {
      "text/plain": [
       "0    ['2019', '', 'Central A/C, Heat Pump', '', '',...\n",
       "1    ['2019', '', '', '', '', '5828 sqft', '$159/sq...\n",
       "2    ['1961', '1967', 'Forced Air', 'Central', 'Att...\n",
       "3    ['2006', '2006', 'Forced Air', 'Central', 'Det...\n",
       "4            ['', '', '', '', '', '10,019 sqft', None]\n",
       "5    ['1920', '', 'Forced Air', 'Central', '', '680...\n",
       "6    ['2006', '2006', 'Electric, Heat Pump', 'Centr...\n",
       "7    ['1976', '', '', '', '', '8,750 Sq. Ft.', '$57...\n",
       "8    ['1970', '', 'Forced Air', 'Central', '', '124...\n",
       "9    ['2019', None, 'Gas', 'Central', 'Attached Gar...\n",
       "Name: homeFacts, dtype: object"
      ]
     },
     "execution_count": 37,
     "metadata": {},
     "output_type": "execute_result"
    }
   ],
   "source": [
    "Value = df.homeFacts.str.findall(r\"\\bfactValue': ([\\s\\S]+?), 'factLabel\\b\")\n",
    "Value[:10]"
   ]
  },
  {
   "cell_type": "code",
   "execution_count": 38,
   "metadata": {},
   "outputs": [
    {
     "data": {
      "text/plain": [
       "['Year built',\n",
       " 'Remodeled year',\n",
       " 'Heating',\n",
       " 'Cooling',\n",
       " 'Parking',\n",
       " 'lotsize',\n",
       " 'Price/sqft']"
      ]
     },
     "execution_count": 38,
     "metadata": {},
     "output_type": "execute_result"
    }
   ],
   "source": [
    "# создадим список названий признаков, удалив лишние кавычки\n",
    "list_label = ','.join(label[0]).replace(\"'\",\"\").split(',')\n",
    "list_label"
   ]
  },
  {
   "cell_type": "code",
   "execution_count": 39,
   "metadata": {},
   "outputs": [],
   "source": [
    "# Создадим эти признаки в нашем фрейме и заполним значениями\n",
    "for i, val in enumerate(list_label):\n",
    "    df1[val]=Value.apply(lambda x: x[i])"
   ]
  },
  {
   "cell_type": "code",
   "execution_count": 40,
   "metadata": {},
   "outputs": [],
   "source": [
    "# Теперь признак homeFacts можно удалить\n",
    "df1 = df1.drop('homeFacts', axis=1)"
   ]
  },
  {
   "cell_type": "markdown",
   "metadata": {},
   "source": [
    "#### Далее обработаем новые признаки"
   ]
  },
  {
   "cell_type": "markdown",
   "metadata": {},
   "source": [
    "посмотрим на Year built"
   ]
  },
  {
   "cell_type": "code",
   "execution_count": 41,
   "metadata": {},
   "outputs": [
    {
     "data": {
      "text/plain": [
       "array(['', '1', '1019', '1057', '1060', '1208', '1700', '1703', '1735',\n",
       "       '1740'], dtype=object)"
      ]
     },
     "execution_count": 41,
     "metadata": {},
     "output_type": "execute_result"
    }
   ],
   "source": [
    "#удалим лишние кавычки\n",
    "df1['Year built'] = df1['Year built'].str.replace(\"'\",'', regex=True)\n",
    "#Выведем уникальные значения\n",
    "df1['Year built'].sort_values().unique()[:10]"
   ]
  },
  {
   "cell_type": "markdown",
   "metadata": {},
   "source": [
    "* 1019', '1057', '1060 скорее всего опечатка должно выглядеть вод так 1919','1957', '1960\n",
    "* '', '1','1208', '2025', '559990649990', 'No Data' заменим на -1"
   ]
  },
  {
   "cell_type": "code",
   "execution_count": 42,
   "metadata": {},
   "outputs": [
    {
     "data": {
      "text/plain": [
       "array(['1700', '1703', '1735', '1740', '1750', '1780', '1788', '1790',\n",
       "       '1794', '1795'], dtype=object)"
      ]
     },
     "execution_count": 42,
     "metadata": {},
     "output_type": "execute_result"
    }
   ],
   "source": [
    "# Заменим ковычки на no date\n",
    "df1['Year built'] = df1['Year built'].str.replace('^\\s*$','no date', regex=True)\n",
    "# Заменим некорректные значения на no date\n",
    "mask= df1['Year built'].isin(['1','1208','559990649990','2025','No Data','None'])\n",
    "df1.loc[mask,'Year built'] = 'no date'\n",
    "# Поправим опечатки\n",
    "df1.loc[df1['Year built']=='1019','Year built'] = '1919'\n",
    "df1.loc[df1['Year built']=='1057','Year built'] = '1957'\n",
    "df1.loc[df1['Year built']=='1060','Year built'] = '1960'\n",
    "# Выведим результат обработки\n",
    "df1['Year built'].sort_values().unique()[:10]"
   ]
  },
  {
   "cell_type": "code",
   "execution_count": 43,
   "metadata": {},
   "outputs": [
    {
     "data": {
      "text/html": [
       "<div>\n",
       "<style scoped>\n",
       "    .dataframe tbody tr th:only-of-type {\n",
       "        vertical-align: middle;\n",
       "    }\n",
       "\n",
       "    .dataframe tbody tr th {\n",
       "        vertical-align: top;\n",
       "    }\n",
       "\n",
       "    .dataframe thead th {\n",
       "        text-align: right;\n",
       "    }\n",
       "</style>\n",
       "<table border=\"1\" class=\"dataframe\">\n",
       "  <thead>\n",
       "    <tr style=\"text-align: right;\">\n",
       "      <th></th>\n",
       "      <th>status</th>\n",
       "      <th>street</th>\n",
       "      <th>baths</th>\n",
       "      <th>fireplace</th>\n",
       "      <th>city</th>\n",
       "      <th>schools</th>\n",
       "      <th>sqft</th>\n",
       "      <th>zipcode</th>\n",
       "      <th>beds</th>\n",
       "      <th>state</th>\n",
       "      <th>...</th>\n",
       "      <th>target</th>\n",
       "      <th>pool_encoded</th>\n",
       "      <th>Type</th>\n",
       "      <th>Year built</th>\n",
       "      <th>Remodeled year</th>\n",
       "      <th>Heating</th>\n",
       "      <th>Cooling</th>\n",
       "      <th>Parking</th>\n",
       "      <th>lotsize</th>\n",
       "      <th>Price/sqft</th>\n",
       "    </tr>\n",
       "  </thead>\n",
       "  <tbody>\n",
       "    <tr>\n",
       "      <th>4</th>\n",
       "      <td>For Sale</td>\n",
       "      <td>1524 Kiscoe St</td>\n",
       "      <td>0.0</td>\n",
       "      <td>NaN</td>\n",
       "      <td>Palm Bay</td>\n",
       "      <td>[{'rating': ['4/10', '5/10', '5/10'], 'data': ...</td>\n",
       "      <td>NaN</td>\n",
       "      <td>32908</td>\n",
       "      <td>NaN</td>\n",
       "      <td>FL</td>\n",
       "      <td>...</td>\n",
       "      <td>$5,000</td>\n",
       "      <td>False</td>\n",
       "      <td>land</td>\n",
       "      <td>no date</td>\n",
       "      <td>''</td>\n",
       "      <td>''</td>\n",
       "      <td>''</td>\n",
       "      <td>''</td>\n",
       "      <td>'10,019 sqft'</td>\n",
       "      <td>None</td>\n",
       "    </tr>\n",
       "    <tr>\n",
       "      <th>26</th>\n",
       "      <td>Active</td>\n",
       "      <td>5755 SW 123 Ave</td>\n",
       "      <td>1.0</td>\n",
       "      <td>NaN</td>\n",
       "      <td>Miami</td>\n",
       "      <td>[{'rating': ['9', '10', 'NR', '6', '3'], 'data...</td>\n",
       "      <td>NaN</td>\n",
       "      <td>33183</td>\n",
       "      <td>Baths</td>\n",
       "      <td>FL</td>\n",
       "      <td>...</td>\n",
       "      <td>799,000</td>\n",
       "      <td>False</td>\n",
       "      <td>other</td>\n",
       "      <td>no date</td>\n",
       "      <td>''</td>\n",
       "      <td>''</td>\n",
       "      <td>''</td>\n",
       "      <td>''</td>\n",
       "      <td>'—'</td>\n",
       "      <td>None</td>\n",
       "    </tr>\n",
       "    <tr>\n",
       "      <th>40</th>\n",
       "      <td>Active</td>\n",
       "      <td>1104 Rotonda Cir</td>\n",
       "      <td>0.0</td>\n",
       "      <td>NaN</td>\n",
       "      <td>ROTONDA WEST</td>\n",
       "      <td>[{'rating': ['6', '6', '7'], 'data': {'Distanc...</td>\n",
       "      <td>NaN</td>\n",
       "      <td>33947</td>\n",
       "      <td>NaN</td>\n",
       "      <td>FL</td>\n",
       "      <td>...</td>\n",
       "      <td>54,000</td>\n",
       "      <td>False</td>\n",
       "      <td>other</td>\n",
       "      <td>no date</td>\n",
       "      <td>''</td>\n",
       "      <td>''</td>\n",
       "      <td>''</td>\n",
       "      <td>''</td>\n",
       "      <td>'—'</td>\n",
       "      <td>None</td>\n",
       "    </tr>\n",
       "    <tr>\n",
       "      <th>41</th>\n",
       "      <td>For Sale</td>\n",
       "      <td>9418 Camino Santa Fe #19</td>\n",
       "      <td>0.0</td>\n",
       "      <td>NaN</td>\n",
       "      <td>San Diego</td>\n",
       "      <td>[{'rating': ['9/10', '9/10', '9/10'], 'data': ...</td>\n",
       "      <td>NaN</td>\n",
       "      <td>92127</td>\n",
       "      <td>NaN</td>\n",
       "      <td>CA</td>\n",
       "      <td>...</td>\n",
       "      <td>$1,100,000</td>\n",
       "      <td>False</td>\n",
       "      <td>land</td>\n",
       "      <td>no date</td>\n",
       "      <td>''</td>\n",
       "      <td>''</td>\n",
       "      <td>''</td>\n",
       "      <td>''</td>\n",
       "      <td>'9.25 acres'</td>\n",
       "      <td>None</td>\n",
       "    </tr>\n",
       "    <tr>\n",
       "      <th>42</th>\n",
       "      <td>Active</td>\n",
       "      <td>MLS #: STRI1057289</td>\n",
       "      <td>0.0</td>\n",
       "      <td>NaN</td>\n",
       "      <td>New York</td>\n",
       "      <td>[{'rating': ['NR', 'NR', '9', '8', '8', '2', '...</td>\n",
       "      <td>NaN</td>\n",
       "      <td>10006</td>\n",
       "      <td>NaN</td>\n",
       "      <td>NY</td>\n",
       "      <td>...</td>\n",
       "      <td>850,000</td>\n",
       "      <td>False</td>\n",
       "      <td>other</td>\n",
       "      <td>no date</td>\n",
       "      <td>'2003'</td>\n",
       "      <td>''</td>\n",
       "      <td>''</td>\n",
       "      <td>''</td>\n",
       "      <td>'—'</td>\n",
       "      <td>None</td>\n",
       "    </tr>\n",
       "  </tbody>\n",
       "</table>\n",
       "<p>5 rows × 21 columns</p>\n",
       "</div>"
      ],
      "text/plain": [
       "      status                    street  baths fireplace          city  \\\n",
       "4   For Sale            1524 Kiscoe St    0.0       NaN      Palm Bay   \n",
       "26    Active          5755 SW 123 Ave     1.0       NaN         Miami   \n",
       "40    Active         1104 Rotonda Cir     0.0       NaN  ROTONDA WEST   \n",
       "41  For Sale  9418 Camino Santa Fe #19    0.0       NaN     San Diego   \n",
       "42    Active        MLS #: STRI1057289    0.0       NaN      New York   \n",
       "\n",
       "                                              schools sqft zipcode   beds  \\\n",
       "4   [{'rating': ['4/10', '5/10', '5/10'], 'data': ...  NaN   32908    NaN   \n",
       "26  [{'rating': ['9', '10', 'NR', '6', '3'], 'data...  NaN   33183  Baths   \n",
       "40  [{'rating': ['6', '6', '7'], 'data': {'Distanc...  NaN   33947    NaN   \n",
       "41  [{'rating': ['9/10', '9/10', '9/10'], 'data': ...  NaN   92127    NaN   \n",
       "42  [{'rating': ['NR', 'NR', '9', '8', '8', '2', '...  NaN   10006    NaN   \n",
       "\n",
       "   state  ...      target pool_encoded   Type Year built Remodeled year  \\\n",
       "4     FL  ...      $5,000        False   land    no date             ''   \n",
       "26    FL  ...     799,000        False  other    no date             ''   \n",
       "40    FL  ...      54,000        False  other    no date             ''   \n",
       "41    CA  ...  $1,100,000        False   land    no date             ''   \n",
       "42    NY  ...     850,000        False  other    no date         '2003'   \n",
       "\n",
       "   Heating Cooling Parking        lotsize Price/sqft  \n",
       "4       ''      ''      ''  '10,019 sqft'       None  \n",
       "26      ''      ''      ''            '—'       None  \n",
       "40      ''      ''      ''            '—'       None  \n",
       "41      ''      ''      ''   '9.25 acres'       None  \n",
       "42      ''      ''      ''            '—'       None  \n",
       "\n",
       "[5 rows x 21 columns]"
      ]
     },
     "metadata": {},
     "output_type": "display_data"
    },
    {
     "name": "stdout",
     "output_type": "stream",
     "text": [
      "Выбранных строк: 44783\n",
      "Процент выбранных строк от общего числа строк: 11.88%\n"
     ]
    }
   ],
   "source": [
    "# Отбираем строки по заданным условиям при помощи логических операций (& - \"и\", | - \"или\", ~ - \"не\")\n",
    "selected_rows = df1[(df1['Year built'] == 'no date') & ((df1['Type'] == 'other') | (df1['Type'] == 'land') | (df1['Type'] == 'ranch'))]\n",
    "\n",
    "# Выводим полученные строки\n",
    "display(selected_rows.head())\n",
    "# Находим процент выбранных строк от общего числа строк в исходном датафрейме\n",
    "percent_selected = len(selected_rows) / len(df1) * 100\n",
    "# Выводим полученные строки и процент выбранных строк\n",
    "print(f\"Выбранных строк: {len(selected_rows)}\")\n",
    "print(f\"Процент выбранных строк от общего числа строк: {percent_selected:.2f}%\")"
   ]
  },
  {
   "cell_type": "code",
   "execution_count": 44,
   "metadata": {},
   "outputs": [
    {
     "data": {
      "text/html": [
       "<div>\n",
       "<style scoped>\n",
       "    .dataframe tbody tr th:only-of-type {\n",
       "        vertical-align: middle;\n",
       "    }\n",
       "\n",
       "    .dataframe tbody tr th {\n",
       "        vertical-align: top;\n",
       "    }\n",
       "\n",
       "    .dataframe thead th {\n",
       "        text-align: right;\n",
       "    }\n",
       "</style>\n",
       "<table border=\"1\" class=\"dataframe\">\n",
       "  <thead>\n",
       "    <tr style=\"text-align: right;\">\n",
       "      <th></th>\n",
       "      <th>status</th>\n",
       "      <th>street</th>\n",
       "      <th>baths</th>\n",
       "      <th>fireplace</th>\n",
       "      <th>city</th>\n",
       "      <th>schools</th>\n",
       "      <th>sqft</th>\n",
       "      <th>zipcode</th>\n",
       "      <th>beds</th>\n",
       "      <th>state</th>\n",
       "      <th>...</th>\n",
       "      <th>target</th>\n",
       "      <th>pool_encoded</th>\n",
       "      <th>Type</th>\n",
       "      <th>Year built</th>\n",
       "      <th>Remodeled year</th>\n",
       "      <th>Heating</th>\n",
       "      <th>Cooling</th>\n",
       "      <th>Parking</th>\n",
       "      <th>lotsize</th>\n",
       "      <th>Price/sqft</th>\n",
       "    </tr>\n",
       "  </thead>\n",
       "  <tbody>\n",
       "    <tr>\n",
       "      <th>27</th>\n",
       "      <td>For Sale</td>\n",
       "      <td>2104 Lou Ellen Ln #B</td>\n",
       "      <td>3.0</td>\n",
       "      <td>NaN</td>\n",
       "      <td>Houston</td>\n",
       "      <td>[{'rating': ['6/10', '9/10', '3/10'], 'data': ...</td>\n",
       "      <td>2,575 sqft</td>\n",
       "      <td>77018</td>\n",
       "      <td>3 Beds</td>\n",
       "      <td>TX</td>\n",
       "      <td>...</td>\n",
       "      <td>$499,900</td>\n",
       "      <td>False</td>\n",
       "      <td>single_family_home</td>\n",
       "      <td>no date</td>\n",
       "      <td>''</td>\n",
       "      <td>''</td>\n",
       "      <td>''</td>\n",
       "      <td>''</td>\n",
       "      <td>'3828 sqft'</td>\n",
       "      <td>'$194/sqft'</td>\n",
       "    </tr>\n",
       "    <tr>\n",
       "      <th>57</th>\n",
       "      <td>For Sale</td>\n",
       "      <td>1134 Longitude Dr</td>\n",
       "      <td>2.0</td>\n",
       "      <td>NaN</td>\n",
       "      <td>Durham</td>\n",
       "      <td>[{'rating': ['3/10', '4/10', '3/10'], 'data': ...</td>\n",
       "      <td>1,681 sqft</td>\n",
       "      <td>27713</td>\n",
       "      <td>3 Beds</td>\n",
       "      <td>NC</td>\n",
       "      <td>...</td>\n",
       "      <td>$259,658</td>\n",
       "      <td>False</td>\n",
       "      <td>townhouse</td>\n",
       "      <td>no date</td>\n",
       "      <td>''</td>\n",
       "      <td>''</td>\n",
       "      <td>''</td>\n",
       "      <td>''</td>\n",
       "      <td>''</td>\n",
       "      <td>'$154/sqft'</td>\n",
       "    </tr>\n",
       "    <tr>\n",
       "      <th>59</th>\n",
       "      <td>For Sale</td>\n",
       "      <td>9027 Indigo Breeze Ct</td>\n",
       "      <td>2.0</td>\n",
       "      <td>NaN</td>\n",
       "      <td>Temple Terrace</td>\n",
       "      <td>[{'rating': ['2/10', '3/10', '2/10'], 'data': ...</td>\n",
       "      <td>1,504 sqft</td>\n",
       "      <td>33637</td>\n",
       "      <td>3 Beds</td>\n",
       "      <td>FL</td>\n",
       "      <td>...</td>\n",
       "      <td>$244,990</td>\n",
       "      <td>False</td>\n",
       "      <td>single_family_home</td>\n",
       "      <td>no date</td>\n",
       "      <td>''</td>\n",
       "      <td>''</td>\n",
       "      <td>''</td>\n",
       "      <td>''</td>\n",
       "      <td>''</td>\n",
       "      <td>'$163/sqft'</td>\n",
       "    </tr>\n",
       "    <tr>\n",
       "      <th>83</th>\n",
       "      <td>For Sale</td>\n",
       "      <td>3894 Chapman Bluff Dr</td>\n",
       "      <td>3.0</td>\n",
       "      <td>NaN</td>\n",
       "      <td>Spring</td>\n",
       "      <td>[{'rating': ['9/10', '9/10', '8/10'], 'data': ...</td>\n",
       "      <td>2,265 sqft</td>\n",
       "      <td>77386</td>\n",
       "      <td>4 Beds</td>\n",
       "      <td>TX</td>\n",
       "      <td>...</td>\n",
       "      <td>$299,999</td>\n",
       "      <td>False</td>\n",
       "      <td>single_family_home</td>\n",
       "      <td>no date</td>\n",
       "      <td>''</td>\n",
       "      <td>''</td>\n",
       "      <td>''</td>\n",
       "      <td>''</td>\n",
       "      <td>''</td>\n",
       "      <td>'$132/sqft'</td>\n",
       "    </tr>\n",
       "    <tr>\n",
       "      <th>91</th>\n",
       "      <td>Active</td>\n",
       "      <td>15125 Mille Fiore Blvd.</td>\n",
       "      <td>2.0</td>\n",
       "      <td>NaN</td>\n",
       "      <td>Port Charlotte</td>\n",
       "      <td>[{'rating': ['5', '4', '6', '1', 'NR', 'NR', '...</td>\n",
       "      <td>1,702</td>\n",
       "      <td>33953</td>\n",
       "      <td>3</td>\n",
       "      <td>FL</td>\n",
       "      <td>...</td>\n",
       "      <td>$235,900</td>\n",
       "      <td>False</td>\n",
       "      <td>single_family_home</td>\n",
       "      <td>no date</td>\n",
       "      <td>''</td>\n",
       "      <td>''</td>\n",
       "      <td>''</td>\n",
       "      <td>''</td>\n",
       "      <td>None</td>\n",
       "      <td>'$139'</td>\n",
       "    </tr>\n",
       "  </tbody>\n",
       "</table>\n",
       "<p>5 rows × 21 columns</p>\n",
       "</div>"
      ],
      "text/plain": [
       "      status                   street  baths fireplace            city  \\\n",
       "27  For Sale     2104 Lou Ellen Ln #B    3.0       NaN         Houston   \n",
       "57  For Sale        1134 Longitude Dr    2.0       NaN          Durham   \n",
       "59  For Sale    9027 Indigo Breeze Ct    2.0       NaN  Temple Terrace   \n",
       "83  For Sale    3894 Chapman Bluff Dr    3.0       NaN          Spring   \n",
       "91    Active  15125 Mille Fiore Blvd.    2.0       NaN  Port Charlotte   \n",
       "\n",
       "                                              schools        sqft zipcode  \\\n",
       "27  [{'rating': ['6/10', '9/10', '3/10'], 'data': ...  2,575 sqft   77018   \n",
       "57  [{'rating': ['3/10', '4/10', '3/10'], 'data': ...  1,681 sqft   27713   \n",
       "59  [{'rating': ['2/10', '3/10', '2/10'], 'data': ...  1,504 sqft   33637   \n",
       "83  [{'rating': ['9/10', '9/10', '8/10'], 'data': ...  2,265 sqft   77386   \n",
       "91  [{'rating': ['5', '4', '6', '1', 'NR', 'NR', '...       1,702   33953   \n",
       "\n",
       "      beds state  ...    target pool_encoded                Type Year built  \\\n",
       "27  3 Beds    TX  ...  $499,900        False  single_family_home    no date   \n",
       "57  3 Beds    NC  ...  $259,658        False           townhouse    no date   \n",
       "59  3 Beds    FL  ...  $244,990        False  single_family_home    no date   \n",
       "83  4 Beds    TX  ...  $299,999        False  single_family_home    no date   \n",
       "91       3    FL  ...  $235,900        False  single_family_home    no date   \n",
       "\n",
       "   Remodeled year Heating Cooling Parking      lotsize   Price/sqft  \n",
       "27             ''      ''      ''      ''  '3828 sqft'  '$194/sqft'  \n",
       "57             ''      ''      ''      ''           ''  '$154/sqft'  \n",
       "59             ''      ''      ''      ''           ''  '$163/sqft'  \n",
       "83             ''      ''      ''      ''           ''  '$132/sqft'  \n",
       "91             ''      ''      ''      ''         None       '$139'  \n",
       "\n",
       "[5 rows x 21 columns]"
      ]
     },
     "metadata": {},
     "output_type": "display_data"
    },
    {
     "name": "stdout",
     "output_type": "stream",
     "text": [
      "Уникальные значения признака Type в выбранных строках: ['single_family_home' 'townhouse' 'condo' 'miscellaneous'\n",
      " 'multi_family_home' 'apartment' 'mobile_home' 'modern']\n",
      "Выбранных строк: 18700\n",
      "Процент выбранных строк от общего числа строк: 4.96%\n"
     ]
    }
   ],
   "source": [
    "selected_rows = df1[(df1['Year built'] == 'no date') & ~(df1['Type'].isin(['other', 'land', 'ranch']))]\n",
    "display(selected_rows.head())\n",
    "# Находим уникальные значения признака status в выбранных строках\n",
    "unique_statuses = selected_rows['Type'].unique()\n",
    "# Выводим полученные строки и процент выбранных строк\n",
    "print(f\"Уникальные значения признака Type в выбранных строках: {unique_statuses}\")\n",
    "percent_selected = len(selected_rows) / len(df1) * 100\n",
    "print(f\"Выбранных строк: {len(selected_rows)}\")\n",
    "print(f\"Процент выбранных строк от общего числа строк: {percent_selected:.2f}%\")"
   ]
  },
  {
   "cell_type": "code",
   "execution_count": 45,
   "metadata": {},
   "outputs": [
    {
     "name": "stdout",
     "output_type": "stream",
     "text": [
      "Количество пропущенных значений: 0\n",
      "Процент пропущенных значений: 0.00%\n",
      "Количество уникальных значений: 222\n",
      "Уникальные значения: ['1700', '1703', '1735', '1740', '1750', '1780', '1788', '1790', '1794', '1795']\n"
     ]
    }
   ],
   "source": [
    "# выполним проверку\n",
    "missing_values_count = df1['Year built'].isna().sum()\n",
    "total_count = len(df1)\n",
    "missing_values_percentage = (missing_values_count / total_count) * 100\n",
    "\n",
    "print(f\"Количество пропущенных значений: {missing_values_count}\\n\"\n",
    "f\"Процент пропущенных значений: {missing_values_percentage:.2f}%\\n\"\n",
    "f\"Количество уникальных значений: {df1['Year built'].nunique()}\\n\"\n",
    "f\"Уникальные значения: {list(df1['Year built'].sort_values().unique()[:10])}\")"
   ]
  },
  {
   "cell_type": "code",
   "execution_count": 46,
   "metadata": {},
   "outputs": [
    {
     "name": "stdout",
     "output_type": "stream",
     "text": [
      "Процент no date: 16.84%\n",
      "Количество no date: 63483\n"
     ]
    }
   ],
   "source": [
    "# посмотрим на колличество no date в %\n",
    "print(f\"Процент no date: {round(df1[df1['Year built']=='no date'].shape[0]/df.shape[0]*100, 2)}%\")\n",
    "print(f\"Количество no date: {df1.loc[df1['Year built']=='no date', 'Year built'].count()}\")"
   ]
  },
  {
   "cell_type": "markdown",
   "metadata": {},
   "source": [
    "Большая часть значений no date соответствуют типу земля ранчо и другое 11.88% что в полне похоже на реальность, к остальным же типам относится 4.96% no date это много что бы удалить строки но и заполнить рандомно год постройки мы не можем так что оставим как есть"
   ]
  },
  {
   "cell_type": "markdown",
   "metadata": {},
   "source": [
    "#### Посмотрим на признак Remodeled year"
   ]
  },
  {
   "cell_type": "code",
   "execution_count": 47,
   "metadata": {},
   "outputs": [
    {
     "data": {
      "text/plain": [
       "array(['', '0', '1111', '1738', '1800', '1845', '1846', '1853', '1862',\n",
       "       '1869'], dtype=object)"
      ]
     },
     "execution_count": 47,
     "metadata": {},
     "output_type": "execute_result"
    }
   ],
   "source": [
    "#удалим лишние кавычки\n",
    "df1['Remodeled year'] = df1['Remodeled year'].str.replace(\"'\",'', regex=True)\n",
    "#Выведем уникальные значения\n",
    "df1['Remodeled year'].sort_values().unique()[:10]"
   ]
  },
  {
   "cell_type": "code",
   "execution_count": 48,
   "metadata": {},
   "outputs": [
    {
     "data": {
      "text/plain": [
       "array(['1738', '1800', '1845', '1846', '1853', '1862', '1869', '1870',\n",
       "       '1874', '1876'], dtype=object)"
      ]
     },
     "metadata": {},
     "output_type": "display_data"
    }
   ],
   "source": [
    "# Заменим некорректные значения на None\n",
    "mask= df1['Remodeled year'].isin(['', '0', '1111'])\n",
    "df1.loc[mask,'Remodeled year'] = 'None'\n",
    "#Выведем уникальные значения\n",
    "display(df1['Remodeled year'].sort_values().unique()[:10])"
   ]
  },
  {
   "cell_type": "code",
   "execution_count": 49,
   "metadata": {},
   "outputs": [
    {
     "name": "stdout",
     "output_type": "stream",
     "text": [
      "Количество пропущенных значений: 0\n",
      "Процент пропущенных значений: 0.00%\n",
      "Количество уникальных значений: 152\n",
      "Уникальные значения: ['1738', '1800', '1845', '1846', '1853', '1862', '1869', '1870', '1874', '1876']\n"
     ]
    }
   ],
   "source": [
    "# выполним проверку\n",
    "missing_values_count = df1['Remodeled year'].isna().sum()\n",
    "total_count = len(df1)\n",
    "missing_values_percentage = (missing_values_count / total_count) * 100\n",
    "\n",
    "print(f\"Количество пропущенных значений: {missing_values_count}\\n\"\n",
    "f\"Процент пропущенных значений: {missing_values_percentage:.2f}%\\n\"\n",
    "f\"Количество уникальных значений: {df1['Remodeled year'].nunique()}\\n\"\n",
    "f\"Уникальные значения: {list(df1['Remodeled year'].sort_values().unique()[:10])}\")"
   ]
  },
  {
   "cell_type": "code",
   "execution_count": 50,
   "metadata": {},
   "outputs": [
    {
     "name": "stdout",
     "output_type": "stream",
     "text": [
      "Процент None: 60.0%\n",
      "Количество None: 226240\n"
     ]
    }
   ],
   "source": [
    "# посмотрим на колличество None в %\n",
    "print(f\"Процент None: {round(df1[df1['Remodeled year']=='None'].shape[0]/df.shape[0]*100, 2)}%\")\n",
    "print(f\"Количество None: {df1.loc[df1['Remodeled year']=='None', 'Remodeled year'].count()}\")"
   ]
  },
  {
   "cell_type": "markdown",
   "metadata": {},
   "source": [
    "Пропусков слишком много однозначно признак на удаление"
   ]
  },
  {
   "cell_type": "code",
   "execution_count": 51,
   "metadata": {},
   "outputs": [],
   "source": [
    "# удалим признак 'Remodeled year'\n",
    "df1 = df1.drop('Remodeled year', axis=1)"
   ]
  },
  {
   "cell_type": "markdown",
   "metadata": {},
   "source": [
    "Посмотрим на признак 'Heating'"
   ]
  },
  {
   "cell_type": "code",
   "execution_count": 52,
   "metadata": {},
   "outputs": [
    {
     "data": {
      "text/plain": [
       "Heating\n",
       "'forced air'          134307\n",
       "''                    105670\n",
       "'other'                29622\n",
       "'electric'             10216\n",
       "'gas'                   9295\n",
       "'heat pump'             8851\n",
       "'no data'               8610\n",
       "'central air'           7814\n",
       "'central electric'      7112\n",
       "'central'               6247\n",
       "Name: count, dtype: int64"
      ]
     },
     "metadata": {},
     "output_type": "display_data"
    }
   ],
   "source": [
    "display(df1['Heating'].str.lower().value_counts().head(10))"
   ]
  },
  {
   "cell_type": "markdown",
   "metadata": {},
   "source": [
    "Признак у казывает нам на наличие отопления, возможно его нет у участвков и мобильных домов, проверим это"
   ]
  },
  {
   "cell_type": "code",
   "execution_count": 53,
   "metadata": {},
   "outputs": [
    {
     "name": "stdout",
     "output_type": "stream",
     "text": [
      "Процент значений 'land' и 'mobile_home': 9.27 %\n"
     ]
    }
   ],
   "source": [
    "# Рассчитываем процент для признаков land и mobile_home\n",
    "land_percentage = (df1['Type'].value_counts().loc['land'] / len(df1)) * 100\n",
    "mobile_home_percentage = (df1['Type'].value_counts().loc['mobile_home'] / len(df1)) * 100\n",
    "\n",
    "#Выводим результаты\n",
    "print(\"Процент значений 'land' и 'mobile_home': {:.2f} %\".format(land_percentage + mobile_home_percentage))"
   ]
  },
  {
   "cell_type": "markdown",
   "metadata": {},
   "source": [
    "признак содержит информацию отипах отопления и имеет значительное колличество пропусков ''-105434, no data - 8415, none - 3485 = 117334 значений что составляет 31%  вычтем от сюда % мобильных домов и земли, получим примерно 21% пропусков так же на вскидку увидел что у части домов где нет признака отопление есть камин или стоимость такого дома значительно ниже чем похожий но с отоплением\n",
    "принимаю рещение закодировать этот признак булевыми переменными ''-105434, no data - 8415, none - 3485 будет False а остальные True"
   ]
  },
  {
   "cell_type": "code",
   "execution_count": 54,
   "metadata": {},
   "outputs": [],
   "source": [
    "# удалим лишние ковычки\n",
    "df1['Heating'] = df1['Heating'].str.replace(\"'\",'', regex=True)\n",
    "df1['Heating_encoded'] = df1['Heating'].apply(lambda x: True if x not in ['', 'no data', 'None', 'none'] else False)"
   ]
  },
  {
   "cell_type": "code",
   "execution_count": 55,
   "metadata": {},
   "outputs": [
    {
     "name": "stdout",
     "output_type": "stream",
     "text": [
      "Количество пропущенных значений: 0\n",
      "Процент пропущенных значений: 0.00%\n",
      "Количество уникальных значений: 2\n",
      "Уникальные значения: [False, True]\n"
     ]
    }
   ],
   "source": [
    "# выполним проверку\n",
    "missing_values_count = df1['Heating_encoded'].isna().sum()\n",
    "total_count = len(df1)\n",
    "missing_values_percentage = (missing_values_count / total_count) * 100\n",
    "\n",
    "print(f\"Количество пропущенных значений: {missing_values_count}\\n\"\n",
    "f\"Процент пропущенных значений: {missing_values_percentage:.2f}%\\n\"\n",
    "f\"Количество уникальных значений: {df1['Heating_encoded'].nunique()}\\n\"\n",
    "f\"Уникальные значения: {list(df1['Heating_encoded'].sort_values().unique())}\")"
   ]
  },
  {
   "cell_type": "code",
   "execution_count": 56,
   "metadata": {},
   "outputs": [],
   "source": [
    "# удалим признак 'Heating'\n",
    "df1= df1.drop('Heating', axis=1)"
   ]
  },
  {
   "cell_type": "markdown",
   "metadata": {},
   "source": [
    "Посмотрим на признак Cooling- охлождение скорее всего кондиционер"
   ]
  },
  {
   "cell_type": "code",
   "execution_count": 57,
   "metadata": {},
   "outputs": [
    {
     "data": {
      "text/plain": [
       "Cooling\n",
       "'central'             158742\n",
       "''                    120306\n",
       "'central air'          14384\n",
       "'no data'              10615\n",
       "'has cooling'           9730\n",
       "'none'                  7390\n",
       "'central electric'      6154\n",
       "'wall'                  4017\n",
       "'central gas'           3573\n",
       "none                    3533\n",
       "Name: count, dtype: int64"
      ]
     },
     "execution_count": 57,
     "metadata": {},
     "output_type": "execute_result"
    }
   ],
   "source": [
    "df1['Cooling'].str.lower().value_counts().head(10)"
   ]
  },
  {
   "cell_type": "markdown",
   "metadata": {},
   "source": [
    "Аналогичная ситуация и с кондиционерами более 50% пропусков скорее всего кондиционер просто отсутствует"
   ]
  },
  {
   "cell_type": "code",
   "execution_count": 58,
   "metadata": {},
   "outputs": [],
   "source": [
    "# удалим лишние ковычки\n",
    "df1['Cooling'] = df1['Cooling'].str.replace(\"'\",'', regex=True)\n",
    "df1['Cooling_encoded'] = df1['Cooling'].apply(lambda x: True if x not in ['', 'no data', 'None', 'none'] else False)"
   ]
  },
  {
   "cell_type": "code",
   "execution_count": 59,
   "metadata": {},
   "outputs": [],
   "source": [
    "# удалим признак 'Cooling'\n",
    "df1= df1.drop('Cooling', axis=1)"
   ]
  },
  {
   "cell_type": "markdown",
   "metadata": {},
   "source": [
    "Посмотрим на Parking "
   ]
  },
  {
   "cell_type": "code",
   "execution_count": 60,
   "metadata": {},
   "outputs": [
    {
     "data": {
      "text/plain": [
       "Parking\n",
       "''                   171755\n",
       "'attached garage'     70748\n",
       "'2 spaces'            28061\n",
       "'1 space'             14252\n",
       "'no data'             13332\n",
       "'detached garage'     13200\n",
       "'carport'              7743\n",
       "'off street'           5279\n",
       "'3 spaces'             4724\n",
       "none                   3533\n",
       "Name: count, dtype: int64"
      ]
     },
     "execution_count": 60,
     "metadata": {},
     "output_type": "execute_result"
    }
   ],
   "source": [
    "df1['Parking'].str.lower().value_counts().head(10)"
   ]
  },
  {
   "cell_type": "markdown",
   "metadata": {},
   "source": [
    "Признак Parking так же имеет очень много пропусков 50% и с большой вероятностью пропуски это отсутствие парковки"
   ]
  },
  {
   "cell_type": "code",
   "execution_count": 61,
   "metadata": {},
   "outputs": [],
   "source": [
    "# удалим лишние ковычки\n",
    "df1['Parking'] = df1['Parking'].str.replace(\"'\",'', regex=True)\n",
    "df1['Parking_encoded'] = df1['Parking'].apply(lambda x: True if x not in ['', 'no data', 'None', 'none','0'] else False)"
   ]
  },
  {
   "cell_type": "code",
   "execution_count": 62,
   "metadata": {},
   "outputs": [],
   "source": [
    "# удалим признак 'Parking'\n",
    "df1 = df1.drop('Parking', axis=1)"
   ]
  },
  {
   "cell_type": "markdown",
   "metadata": {},
   "source": [
    "Посмотрим на признак lotsize"
   ]
  },
  {
   "cell_type": "code",
   "execution_count": 63,
   "metadata": {},
   "outputs": [
    {
     "data": {
      "text/plain": [
       "lotsize\n",
       "''               33055\n",
       "none             28346\n",
       "'—'              25247\n",
       "'no data'         5329\n",
       "'-- sqft lot'     3819\n",
       "'0.26 acres'      3140\n",
       "'0.25 acres'      2722\n",
       "'0.28 acres'      2614\n",
       "'0.27 acres'      2473\n",
       "'0.29 acres'      2351\n",
       "Name: count, dtype: int64"
      ]
     },
     "execution_count": 63,
     "metadata": {},
     "output_type": "execute_result"
    }
   ],
   "source": [
    "df1['lotsize'].str.lower().value_counts().head(10)"
   ]
  },
  {
   "cell_type": "markdown",
   "metadata": {},
   "source": [
    "Пропусков более 48% думаю лучше этот признак удалить так во первых это площадь участка на котором расположен дом, а во вторых этот признак числовой заполнять его нет сысла ибо мы ухудшим предсказание"
   ]
  },
  {
   "cell_type": "code",
   "execution_count": 64,
   "metadata": {},
   "outputs": [],
   "source": [
    "# удалим признак 'lotsize'\n",
    "df1 = df1.drop('lotsize', axis=1)"
   ]
  },
  {
   "cell_type": "markdown",
   "metadata": {},
   "source": [
    "Признак Price/sqft напрямую зависит от целевого признака. Поэтому оставлять его нельзя, иначе будет утечка данных."
   ]
  },
  {
   "cell_type": "code",
   "execution_count": 65,
   "metadata": {},
   "outputs": [],
   "source": [
    "# удалим признак 'Price/sqft'\n",
    "df1= df1.drop('Price/sqft', axis=1)"
   ]
  },
  {
   "cell_type": "markdown",
   "metadata": {},
   "source": [
    "Посмотрим на признак fireplace"
   ]
  },
  {
   "cell_type": "code",
   "execution_count": 66,
   "metadata": {},
   "outputs": [
    {
     "data": {
      "text/plain": [
       "fireplace\n",
       "yes               71209\n",
       "1                 14543\n",
       "2                  2432\n",
       "not applicable     1993\n",
       "fireplace           847\n",
       "3                   564\n",
       "living room         433\n",
       "location            399\n",
       "wood burning        311\n",
       "gas/gas logs        300\n",
       "Name: count, dtype: int64"
      ]
     },
     "execution_count": 66,
     "metadata": {},
     "output_type": "execute_result"
    }
   ],
   "source": [
    "df1['fireplace'].str.lower().value_counts().head(10)"
   ]
  },
  {
   "cell_type": "markdown",
   "metadata": {},
   "source": [
    "Будем считать что пропуски в признаке наличия камина так же указывают на его отсутствие так же закодируем его булевым значением"
   ]
  },
  {
   "cell_type": "code",
   "execution_count": 67,
   "metadata": {},
   "outputs": [],
   "source": [
    "df1['fireplace_encoded'] = df1['fireplace'].apply(lambda x: True if x not in ['', 'no data', 'None', 'none', '0', 'not applicable', 'no'] and not pd.isna(x) else False)"
   ]
  },
  {
   "cell_type": "code",
   "execution_count": 68,
   "metadata": {},
   "outputs": [],
   "source": [
    "# удалим столбец\n",
    "df1.drop('fireplace', axis=1, inplace=True)"
   ]
  },
  {
   "cell_type": "markdown",
   "metadata": {},
   "source": [
    "Посмотрим на признак city"
   ]
  },
  {
   "cell_type": "code",
   "execution_count": 69,
   "metadata": {},
   "outputs": [
    {
     "name": "stdout",
     "output_type": "stream",
     "text": [
      "Количество пропущенных значений: 32\n",
      "Процент пропущенных значений: 0.01%\n",
      "Количество уникальных значений: 1909\n",
      "Уникальные значения: [' ', '--', 'Abilene', 'Abingdon', 'Accokeek', 'Adams', 'Addison', 'Adel', 'Adelphi', 'Advance']\n"
     ]
    }
   ],
   "source": [
    "# Приведем названия к единому виду\n",
    "df1['city'] = df1['city'].str.title()\n",
    "# выполним проверку\n",
    "missing_values_count = df1['city'].isna().sum()\n",
    "total_count = len(df1)\n",
    "missing_values_percentage = (missing_values_count / total_count) * 100\n",
    "\n",
    "print(f\"Количество пропущенных значений: {missing_values_count}\\n\"\n",
    "f\"Процент пропущенных значений: {missing_values_percentage:.2f}%\\n\"\n",
    "f\"Количество уникальных значений: {df1['city'].nunique()}\\n\"\n",
    "f\"Уникальные значения: {list(df1['city'].sort_values().unique()[:10])}\")"
   ]
  },
  {
   "cell_type": "code",
   "execution_count": 70,
   "metadata": {},
   "outputs": [
    {
     "data": {
      "text/plain": [
       "city\n",
       "             25\n",
       "--            9\n",
       "abilene     134\n",
       "abingdon    116\n",
       "accokeek      3\n",
       "adams         5\n",
       "addison      25\n",
       "adel         13\n",
       "adelphi       6\n",
       "advance       3\n",
       "Name: count, dtype: int64"
      ]
     },
     "execution_count": 70,
     "metadata": {},
     "output_type": "execute_result"
    }
   ],
   "source": [
    "df1['city'].str.lower().value_counts().sort_index().head(10)"
   ]
  },
  {
   "cell_type": "markdown",
   "metadata": {},
   "source": [
    "Итого на удаление у нас 66 строк"
   ]
  },
  {
   "cell_type": "code",
   "execution_count": 71,
   "metadata": {},
   "outputs": [],
   "source": [
    "#сделаем копию\n",
    "df2=df1.copy()"
   ]
  },
  {
   "cell_type": "code",
   "execution_count": 72,
   "metadata": {},
   "outputs": [
    {
     "name": "stdout",
     "output_type": "stream",
     "text": [
      "Количество удаленных строк: 66\n"
     ]
    }
   ],
   "source": [
    "# Удалим приставку Сity в названии городов\n",
    "df2['city'] = df2['city'].str.replace(' City', '') \n",
    "#сохраняем исходное количество строк\n",
    "initial_row_count = df2.shape[0]\n",
    "\n",
    "#удаляем строки, содержащие ' ', '--' или NaN в столбце 'city'\n",
    "df2 = df2[~df2['city'].isin([' ', '--', np.nan])]\n",
    "\n",
    "#подсчитываем количество удаленных строк\n",
    "removed_row_count = initial_row_count - df2.shape[0]\n",
    "\n",
    "print(f\"Количество удаленных строк: {removed_row_count}\")"
   ]
  },
  {
   "cell_type": "code",
   "execution_count": 73,
   "metadata": {},
   "outputs": [
    {
     "name": "stdout",
     "output_type": "stream",
     "text": [
      "Количество пропущенных значений: 0\n",
      "Процент пропущенных значений: 0.00%\n",
      "Количество уникальных значений: 1897\n",
      "Уникальные значения: ['Abilene', 'Abingdon', 'Accokeek', 'Adams', 'Addison', 'Adel', 'Adelphi', 'Advance', 'Akron', 'Alamo Heights']\n"
     ]
    }
   ],
   "source": [
    "# выполним проверку\n",
    "missing_values_count = df2['city'].isna().sum()\n",
    "total_count = len(df2)\n",
    "missing_values_percentage = (missing_values_count / total_count) * 100\n",
    "\n",
    "print(f\"Количество пропущенных значений: {missing_values_count}\\n\"\n",
    "f\"Процент пропущенных значений: {missing_values_percentage:.2f}%\\n\"\n",
    "f\"Количество уникальных значений: {df2['city'].nunique()}\\n\"\n",
    "f\"Уникальные значения: {list(df2['city'].sort_values().unique()[:10])}\")"
   ]
  },
  {
   "cell_type": "markdown",
   "metadata": {},
   "source": [
    "Признак schools"
   ]
  },
  {
   "cell_type": "code",
   "execution_count": 74,
   "metadata": {},
   "outputs": [
    {
     "data": {
      "text/plain": [
       "\"[{'rating': [], 'data': {'Distance': [], 'Grades': []}, 'name': []}]\""
      ]
     },
     "execution_count": 74,
     "metadata": {},
     "output_type": "execute_result"
    }
   ],
   "source": [
    "# посморим на структуру\n",
    "df2.schools[5]"
   ]
  },
  {
   "cell_type": "markdown",
   "metadata": {},
   "source": [
    "признак содержит сведения о рейтинге школы, растоянии до школы, оценки, и наименование, оценки и наименования не дают нам никакой полезной информации а вот среднее растояние до школы а так же средний рейтинг был бы крайне полезен"
   ]
  },
  {
   "cell_type": "code",
   "execution_count": 75,
   "metadata": {},
   "outputs": [],
   "source": [
    "# Рассчитаем средний рейтинг\n",
    "def process_rating(rating):\n",
    "    rating = rating[0].replace('/10', '')\n",
    "    extracted_numbers = [float(num) for num in rating if num.isdigit()]\n",
    "    average_rating = np.average(extracted_numbers) if extracted_numbers else -1\n",
    "    return round(average_rating, 1)\n",
    "\n",
    "s_rating = (\n",
    "    df2.schools.str.findall(r\"\\brating': ([\\s\\S]+?), 'data\\b\")\n",
    "    .apply(lambda x: process_rating(x))\n",
    ")\n",
    "\n",
    "# Создадим признак school_rating _mean в нашем наборе данных. Пропуски заполним -1 \n",
    "df2['school_rating _mean'] = s_rating"
   ]
  },
  {
   "cell_type": "code",
   "execution_count": 76,
   "metadata": {},
   "outputs": [],
   "source": [
    "#Расчитаем минимальную дистанцию\n",
    "s_distance = df2.schools.str.findall(r\"\\bDistance': ([\\s\\S]+?), 'Grades\\b\") \n",
    "# Извлечение расстояний до школ из каждой строки\n",
    "s_distance = s_distance.apply(lambda x: x[0]) \n",
    "# Получение первого найденного значения списков, полученных в результате предыдущего шага\n",
    "s_distance = s_distance.str.replace('[a-zA-Z]','', regex=True) \n",
    "# Удаление всех символов алфавита из расстояний\n",
    "s_distance = s_distance.str.findall(r'\\b([0-9]+.[0-9]+)') \n",
    "# Извлечение чисел виде Точноечисло, включая десятичные значения\n",
    "s_distance = s_distance.apply(lambda x: [float(i) for i in x]) \n",
    "# Конвертирование каждого числового значения списка в тип float\n",
    "school_dist_min = s_distance.apply(lambda x: -1 if len(x)==0 else min(x)) \n",
    "# Нахождение минимального значения в каждом списке s_distance, и возвращение -1, если длина списка равна 0\n",
    "\n",
    "#Создадим признак school_dist_min в нашем наборе данных. Пропуски заполним -1\n",
    "df2['school_dist_min'] = school_dist_min"
   ]
  },
  {
   "cell_type": "code",
   "execution_count": 77,
   "metadata": {},
   "outputs": [],
   "source": [
    "# теперь признак schools можно удалить\n",
    "df2.drop('schools', axis=1, inplace=True)"
   ]
  },
  {
   "cell_type": "markdown",
   "metadata": {},
   "source": [
    "Посмотрим признак sqft- площадь"
   ]
  },
  {
   "cell_type": "code",
   "execution_count": 78,
   "metadata": {},
   "outputs": [
    {
     "name": "stdout",
     "output_type": "stream",
     "text": [
      "Количество пропущенных значений: 40516\n",
      "Процент пропущенных значений: 10.75%\n",
      "Количество уникальных значений: 25396\n",
      "Уникальные значения: ['--', '-- sqft', '0', '1', '1 sqft', '1,000', '1,000 sqft', '1,001', '1,001 sqft', '1,002']\n"
     ]
    }
   ],
   "source": [
    "# выполним проверку\n",
    "missing_values_count = df2['sqft'].isna().sum()\n",
    "total_count = len(df2)\n",
    "missing_values_percentage = (missing_values_count / total_count) * 100\n",
    "\n",
    "print(f\"Количество пропущенных значений: {missing_values_count}\\n\"\n",
    "f\"Процент пропущенных значений: {missing_values_percentage:.2f}%\\n\"\n",
    "f\"Количество уникальных значений: {df2['sqft'].nunique()}\\n\"\n",
    "f\"Уникальные значения: {list(df2['sqft'].sort_values().unique()[:10])}\")"
   ]
  },
  {
   "cell_type": "code",
   "execution_count": 79,
   "metadata": {},
   "outputs": [],
   "source": [
    "df3=df2.copy()"
   ]
  },
  {
   "cell_type": "code",
   "execution_count": 80,
   "metadata": {},
   "outputs": [],
   "source": [
    "s_sqft = df3.sqft[df3.sqft.notna()]\n",
    "s_sqft = s_sqft.str.findall(r\"\\d+\")\n",
    "s_sqft = s_sqft.apply(lambda x: ''.join(x))\n",
    "df3.loc[df3.sqft.notna(), 'sqft']=s_sqft\n",
    "# Заменю пропуски в признаке sqft на значение \"0\"\n",
    "df3.sqft = df3.sqft.fillna(0)\n",
    "# также есть пустые строки вместо значения. заменим их тоже 0\n",
    "df3.loc[df3.sqft=='','sqft']=0\n",
    "df3.sqft = df3.sqft.astype(int)"
   ]
  },
  {
   "cell_type": "code",
   "execution_count": 81,
   "metadata": {},
   "outputs": [
    {
     "name": "stdout",
     "output_type": "stream",
     "text": [
      "Количество пропущенных значений: 0\n",
      "Процент пропущенных значений: 0.00%\n",
      "Количество уникальных значений: 9890\n",
      "Уникальные значения: [0, 1, 2, 3, 4, 5, 6, 10, 11, 12]\n"
     ]
    }
   ],
   "source": [
    "# выполним проверку\n",
    "missing_values_count = df3['sqft'].isna().sum()\n",
    "total_count = len(df3)\n",
    "missing_values_percentage = (missing_values_count / total_count) * 100\n",
    "\n",
    "print(f\"Количество пропущенных значений: {missing_values_count}\\n\"\n",
    "f\"Процент пропущенных значений: {missing_values_percentage:.2f}%\\n\"\n",
    "f\"Количество уникальных значений: {df3['sqft'].nunique()}\\n\"\n",
    "f\"Уникальные значения: {list(df3['sqft'].sort_values().unique()[:10])}\")"
   ]
  },
  {
   "cell_type": "code",
   "execution_count": 82,
   "metadata": {},
   "outputs": [
    {
     "data": {
      "text/html": [
       "<div>\n",
       "<style scoped>\n",
       "    .dataframe tbody tr th:only-of-type {\n",
       "        vertical-align: middle;\n",
       "    }\n",
       "\n",
       "    .dataframe tbody tr th {\n",
       "        vertical-align: top;\n",
       "    }\n",
       "\n",
       "    .dataframe thead th {\n",
       "        text-align: right;\n",
       "    }\n",
       "</style>\n",
       "<table border=\"1\" class=\"dataframe\">\n",
       "  <thead>\n",
       "    <tr style=\"text-align: right;\">\n",
       "      <th></th>\n",
       "      <th>status</th>\n",
       "      <th>street</th>\n",
       "      <th>baths</th>\n",
       "      <th>city</th>\n",
       "      <th>sqft</th>\n",
       "      <th>zipcode</th>\n",
       "      <th>beds</th>\n",
       "      <th>state</th>\n",
       "      <th>stories</th>\n",
       "      <th>target</th>\n",
       "      <th>pool_encoded</th>\n",
       "      <th>Type</th>\n",
       "      <th>Year built</th>\n",
       "      <th>Heating_encoded</th>\n",
       "      <th>Cooling_encoded</th>\n",
       "      <th>Parking_encoded</th>\n",
       "      <th>fireplace_encoded</th>\n",
       "      <th>school_rating _mean</th>\n",
       "      <th>school_dist_min</th>\n",
       "    </tr>\n",
       "  </thead>\n",
       "  <tbody>\n",
       "    <tr>\n",
       "      <th>4</th>\n",
       "      <td>For Sale</td>\n",
       "      <td>1524 Kiscoe St</td>\n",
       "      <td>0.0</td>\n",
       "      <td>Palm Bay</td>\n",
       "      <td>0</td>\n",
       "      <td>32908</td>\n",
       "      <td>NaN</td>\n",
       "      <td>FL</td>\n",
       "      <td>NaN</td>\n",
       "      <td>$5,000</td>\n",
       "      <td>False</td>\n",
       "      <td>land</td>\n",
       "      <td>no date</td>\n",
       "      <td>False</td>\n",
       "      <td>False</td>\n",
       "      <td>False</td>\n",
       "      <td>False</td>\n",
       "      <td>4.7</td>\n",
       "      <td>3.03</td>\n",
       "    </tr>\n",
       "    <tr>\n",
       "      <th>7</th>\n",
       "      <td>Active</td>\n",
       "      <td>6094 Mingle Dr</td>\n",
       "      <td>0.0</td>\n",
       "      <td>Memphis</td>\n",
       "      <td>0</td>\n",
       "      <td>38115</td>\n",
       "      <td>NaN</td>\n",
       "      <td>TN</td>\n",
       "      <td>NaN</td>\n",
       "      <td>68,000</td>\n",
       "      <td>False</td>\n",
       "      <td>other</td>\n",
       "      <td>1976</td>\n",
       "      <td>False</td>\n",
       "      <td>False</td>\n",
       "      <td>False</td>\n",
       "      <td>False</td>\n",
       "      <td>2.7</td>\n",
       "      <td>0.40</td>\n",
       "    </tr>\n",
       "    <tr>\n",
       "      <th>26</th>\n",
       "      <td>Active</td>\n",
       "      <td>5755 SW 123 Ave</td>\n",
       "      <td>1.0</td>\n",
       "      <td>Miami</td>\n",
       "      <td>0</td>\n",
       "      <td>33183</td>\n",
       "      <td>Baths</td>\n",
       "      <td>FL</td>\n",
       "      <td>NaN</td>\n",
       "      <td>799,000</td>\n",
       "      <td>False</td>\n",
       "      <td>other</td>\n",
       "      <td>no date</td>\n",
       "      <td>False</td>\n",
       "      <td>False</td>\n",
       "      <td>False</td>\n",
       "      <td>False</td>\n",
       "      <td>3.8</td>\n",
       "      <td>0.90</td>\n",
       "    </tr>\n",
       "    <tr>\n",
       "      <th>40</th>\n",
       "      <td>Active</td>\n",
       "      <td>1104 Rotonda Cir</td>\n",
       "      <td>0.0</td>\n",
       "      <td>Rotonda West</td>\n",
       "      <td>0</td>\n",
       "      <td>33947</td>\n",
       "      <td>NaN</td>\n",
       "      <td>FL</td>\n",
       "      <td>NaN</td>\n",
       "      <td>54,000</td>\n",
       "      <td>False</td>\n",
       "      <td>other</td>\n",
       "      <td>no date</td>\n",
       "      <td>False</td>\n",
       "      <td>False</td>\n",
       "      <td>False</td>\n",
       "      <td>False</td>\n",
       "      <td>6.3</td>\n",
       "      <td>3.10</td>\n",
       "    </tr>\n",
       "    <tr>\n",
       "      <th>41</th>\n",
       "      <td>For Sale</td>\n",
       "      <td>9418 Camino Santa Fe #19</td>\n",
       "      <td>0.0</td>\n",
       "      <td>San Diego</td>\n",
       "      <td>0</td>\n",
       "      <td>92127</td>\n",
       "      <td>NaN</td>\n",
       "      <td>CA</td>\n",
       "      <td>NaN</td>\n",
       "      <td>$1,100,000</td>\n",
       "      <td>False</td>\n",
       "      <td>land</td>\n",
       "      <td>no date</td>\n",
       "      <td>False</td>\n",
       "      <td>False</td>\n",
       "      <td>False</td>\n",
       "      <td>False</td>\n",
       "      <td>9.0</td>\n",
       "      <td>0.97</td>\n",
       "    </tr>\n",
       "  </tbody>\n",
       "</table>\n",
       "</div>"
      ],
      "text/plain": [
       "      status                    street  baths          city  sqft zipcode  \\\n",
       "4   For Sale            1524 Kiscoe St    0.0      Palm Bay     0   32908   \n",
       "7     Active           6094 Mingle Dr     0.0       Memphis     0   38115   \n",
       "26    Active          5755 SW 123 Ave     1.0         Miami     0   33183   \n",
       "40    Active         1104 Rotonda Cir     0.0  Rotonda West     0   33947   \n",
       "41  For Sale  9418 Camino Santa Fe #19    0.0     San Diego     0   92127   \n",
       "\n",
       "     beds state stories      target  pool_encoded   Type Year built  \\\n",
       "4     NaN    FL     NaN      $5,000         False   land    no date   \n",
       "7     NaN    TN     NaN      68,000         False  other       1976   \n",
       "26  Baths    FL     NaN     799,000         False  other    no date   \n",
       "40    NaN    FL     NaN      54,000         False  other    no date   \n",
       "41    NaN    CA     NaN  $1,100,000         False   land    no date   \n",
       "\n",
       "    Heating_encoded  Cooling_encoded  Parking_encoded  fireplace_encoded  \\\n",
       "4             False            False            False              False   \n",
       "7             False            False            False              False   \n",
       "26            False            False            False              False   \n",
       "40            False            False            False              False   \n",
       "41            False            False            False              False   \n",
       "\n",
       "    school_rating _mean  school_dist_min  \n",
       "4                   4.7             3.03  \n",
       "7                   2.7             0.40  \n",
       "26                  3.8             0.90  \n",
       "40                  6.3             3.10  \n",
       "41                  9.0             0.97  "
      ]
     },
     "metadata": {},
     "output_type": "display_data"
    },
    {
     "name": "stdout",
     "output_type": "stream",
     "text": [
      "Выбранных строк: 46145\n",
      "Процент выбранных строк от общего числа строк: 12.24%\n"
     ]
    }
   ],
   "source": [
    "# Отбираем строки по заданным условиям при помощи логических операций (& - \"и\", | - \"или\", ~ - \"не\")\n",
    "selected_rows = df3[(df3['sqft'] == 0) & ((df3['Type'] == 'other') | (df3['Type'] == 'land') | (df3['Type'] == 'ranch'))]\n",
    "\n",
    "# Выводим полученные строки\n",
    "display(selected_rows.head())\n",
    "# Находим процент выбранных строк от общего числа строк в исходном датафрейме\n",
    "percent_selected = len(selected_rows) / len(df3) * 100\n",
    "# Выводим полученные строки и процент выбранных строк\n",
    "print(f\"Выбранных строк: {len(selected_rows)}\")\n",
    "print(f\"Процент выбранных строк от общего числа строк: {percent_selected:.2f}%\")"
   ]
  },
  {
   "cell_type": "code",
   "execution_count": 83,
   "metadata": {},
   "outputs": [
    {
     "data": {
      "text/html": [
       "<div>\n",
       "<style scoped>\n",
       "    .dataframe tbody tr th:only-of-type {\n",
       "        vertical-align: middle;\n",
       "    }\n",
       "\n",
       "    .dataframe tbody tr th {\n",
       "        vertical-align: top;\n",
       "    }\n",
       "\n",
       "    .dataframe thead th {\n",
       "        text-align: right;\n",
       "    }\n",
       "</style>\n",
       "<table border=\"1\" class=\"dataframe\">\n",
       "  <thead>\n",
       "    <tr style=\"text-align: right;\">\n",
       "      <th></th>\n",
       "      <th>status</th>\n",
       "      <th>street</th>\n",
       "      <th>baths</th>\n",
       "      <th>city</th>\n",
       "      <th>sqft</th>\n",
       "      <th>zipcode</th>\n",
       "      <th>beds</th>\n",
       "      <th>state</th>\n",
       "      <th>stories</th>\n",
       "      <th>target</th>\n",
       "      <th>pool_encoded</th>\n",
       "      <th>Type</th>\n",
       "      <th>Year built</th>\n",
       "      <th>Heating_encoded</th>\n",
       "      <th>Cooling_encoded</th>\n",
       "      <th>Parking_encoded</th>\n",
       "      <th>fireplace_encoded</th>\n",
       "      <th>school_rating _mean</th>\n",
       "      <th>school_dist_min</th>\n",
       "    </tr>\n",
       "  </thead>\n",
       "  <tbody>\n",
       "    <tr>\n",
       "      <th>15</th>\n",
       "      <td>For Sale</td>\n",
       "      <td>930 52nd St</td>\n",
       "      <td>0.0</td>\n",
       "      <td>Brooklyn</td>\n",
       "      <td>0</td>\n",
       "      <td>11219</td>\n",
       "      <td>NaN</td>\n",
       "      <td>NY</td>\n",
       "      <td>NaN</td>\n",
       "      <td>1,650,000</td>\n",
       "      <td>False</td>\n",
       "      <td>single_family_home</td>\n",
       "      <td>1905</td>\n",
       "      <td>False</td>\n",
       "      <td>True</td>\n",
       "      <td>False</td>\n",
       "      <td>False</td>\n",
       "      <td>6.3</td>\n",
       "      <td>0.20</td>\n",
       "    </tr>\n",
       "    <tr>\n",
       "      <th>56</th>\n",
       "      <td>Active</td>\n",
       "      <td>2014 Eastbourne Dr</td>\n",
       "      <td>2.0</td>\n",
       "      <td>Southern Pines</td>\n",
       "      <td>0</td>\n",
       "      <td>28387</td>\n",
       "      <td>2</td>\n",
       "      <td>NC</td>\n",
       "      <td>1</td>\n",
       "      <td>$166,500</td>\n",
       "      <td>False</td>\n",
       "      <td>condo</td>\n",
       "      <td>1998</td>\n",
       "      <td>False</td>\n",
       "      <td>False</td>\n",
       "      <td>False</td>\n",
       "      <td>False</td>\n",
       "      <td>5.6</td>\n",
       "      <td>0.90</td>\n",
       "    </tr>\n",
       "    <tr>\n",
       "      <th>193</th>\n",
       "      <td>Foreclosure</td>\n",
       "      <td>3058 Shire Dr</td>\n",
       "      <td>0.0</td>\n",
       "      <td>Pottstown</td>\n",
       "      <td>0</td>\n",
       "      <td>19464</td>\n",
       "      <td>4 bd</td>\n",
       "      <td>PA</td>\n",
       "      <td>NaN</td>\n",
       "      <td>$170,933</td>\n",
       "      <td>False</td>\n",
       "      <td>single_family_home</td>\n",
       "      <td>1974</td>\n",
       "      <td>True</td>\n",
       "      <td>False</td>\n",
       "      <td>False</td>\n",
       "      <td>False</td>\n",
       "      <td>4.7</td>\n",
       "      <td>2.20</td>\n",
       "    </tr>\n",
       "    <tr>\n",
       "      <th>221</th>\n",
       "      <td>For Sale</td>\n",
       "      <td>895 Park Ave #6/7A</td>\n",
       "      <td>8.0</td>\n",
       "      <td>New York</td>\n",
       "      <td>0</td>\n",
       "      <td>10075</td>\n",
       "      <td>6 Beds</td>\n",
       "      <td>NY</td>\n",
       "      <td>NaN</td>\n",
       "      <td>$15,000,000</td>\n",
       "      <td>False</td>\n",
       "      <td>condo</td>\n",
       "      <td>1930</td>\n",
       "      <td>False</td>\n",
       "      <td>False</td>\n",
       "      <td>False</td>\n",
       "      <td>False</td>\n",
       "      <td>4.3</td>\n",
       "      <td>0.19</td>\n",
       "    </tr>\n",
       "    <tr>\n",
       "      <th>232</th>\n",
       "      <td>For Sale</td>\n",
       "      <td>545 N Dearborn St #2511</td>\n",
       "      <td>2.0</td>\n",
       "      <td>Chicago</td>\n",
       "      <td>0</td>\n",
       "      <td>60654</td>\n",
       "      <td>2 Beds</td>\n",
       "      <td>IL</td>\n",
       "      <td>2.0</td>\n",
       "      <td>$525,000</td>\n",
       "      <td>False</td>\n",
       "      <td>condo</td>\n",
       "      <td>2003</td>\n",
       "      <td>True</td>\n",
       "      <td>True</td>\n",
       "      <td>True</td>\n",
       "      <td>False</td>\n",
       "      <td>4.0</td>\n",
       "      <td>0.57</td>\n",
       "    </tr>\n",
       "  </tbody>\n",
       "</table>\n",
       "</div>"
      ],
      "text/plain": [
       "          status                   street  baths            city  sqft  \\\n",
       "15      For Sale             930 52nd St     0.0        Brooklyn     0   \n",
       "56        Active       2014 Eastbourne Dr    2.0  Southern Pines     0   \n",
       "193  Foreclosure            3058 Shire Dr    0.0       Pottstown     0   \n",
       "221     For Sale       895 Park Ave #6/7A    8.0        New York     0   \n",
       "232     For Sale  545 N Dearborn St #2511    2.0         Chicago     0   \n",
       "\n",
       "    zipcode    beds state stories       target  pool_encoded  \\\n",
       "15    11219     NaN    NY     NaN    1,650,000         False   \n",
       "56    28387       2    NC       1     $166,500         False   \n",
       "193   19464    4 bd    PA     NaN     $170,933         False   \n",
       "221   10075  6 Beds    NY     NaN  $15,000,000         False   \n",
       "232   60654  2 Beds    IL     2.0     $525,000         False   \n",
       "\n",
       "                   Type Year built  Heating_encoded  Cooling_encoded  \\\n",
       "15   single_family_home       1905            False             True   \n",
       "56                condo       1998            False            False   \n",
       "193  single_family_home       1974             True            False   \n",
       "221               condo       1930            False            False   \n",
       "232               condo       2003             True             True   \n",
       "\n",
       "     Parking_encoded  fireplace_encoded  school_rating _mean  school_dist_min  \n",
       "15             False              False                  6.3             0.20  \n",
       "56             False              False                  5.6             0.90  \n",
       "193            False              False                  4.7             2.20  \n",
       "221            False              False                  4.3             0.19  \n",
       "232             True              False                  4.0             0.57  "
      ]
     },
     "metadata": {},
     "output_type": "display_data"
    },
    {
     "name": "stdout",
     "output_type": "stream",
     "text": [
      "Уникальные значения признака Type в выбранных строках: ['single_family_home' 'condo' 'miscellaneous' 'multi_family_home'\n",
      " 'townhouse' 'mobile_home' 'modern' 'apartment']\n",
      "Выбранных строк: 6981\n",
      "Процент выбранных строк от общего числа строк: 1.85%\n"
     ]
    }
   ],
   "source": [
    "selected_rows = df3[(df3['sqft'] == 0) & ~(df3['Type'].isin(['other', 'land', 'ranch']))]\n",
    "display(selected_rows.head())\n",
    "# Находим уникальные значения признака status в выбранных строках\n",
    "unique_statuses = selected_rows['Type'].unique()\n",
    "# Выводим полученные строки и процент выбранных строк\n",
    "print(f\"Уникальные значения признака Type в выбранных строках: {unique_statuses}\")\n",
    "percent_selected = len(selected_rows) / len(df3) * 100\n",
    "print(f\"Выбранных строк: {len(selected_rows)}\")\n",
    "print(f\"Процент выбранных строк от общего числа строк: {percent_selected:.2f}%\")"
   ]
  },
  {
   "cell_type": "markdown",
   "metadata": {},
   "source": [
    "Большая часть 0 это земля ранчо и другое к признакам точно определяющих строение относится 1.85% нулей так что оставим как есть"
   ]
  },
  {
   "cell_type": "markdown",
   "metadata": {},
   "source": [
    "Посмотрим на признак zipcode"
   ]
  },
  {
   "cell_type": "code",
   "execution_count": 84,
   "metadata": {},
   "outputs": [
    {
     "name": "stdout",
     "output_type": "stream",
     "text": [
      "Количество пропущенных значений: 0\n",
      "Процент пропущенных значений: 0.00%\n",
      "Количество уникальных значений: 4549\n",
      "Уникальные значения: ['--', '0', '00000', '02108', '02109', '02110', '02111', '02113', '02114', '02115']\n"
     ]
    }
   ],
   "source": [
    "# выполним проверку\n",
    "missing_values_count = df3['zipcode'].isna().sum()\n",
    "total_count = len(df3)\n",
    "missing_values_percentage = (missing_values_count / total_count) * 100\n",
    "\n",
    "print(f\"Количество пропущенных значений: {missing_values_count}\\n\"\n",
    "f\"Процент пропущенных значений: {missing_values_percentage:.2f}%\\n\"\n",
    "f\"Количество уникальных значений: {df3['zipcode'].nunique()}\\n\"\n",
    "f\"Уникальные значения: {list(df3['zipcode'].sort_values().unique()[:10])}\")"
   ]
  },
  {
   "cell_type": "code",
   "execution_count": 85,
   "metadata": {},
   "outputs": [
    {
     "data": {
      "text/html": [
       "<div>\n",
       "<style scoped>\n",
       "    .dataframe tbody tr th:only-of-type {\n",
       "        vertical-align: middle;\n",
       "    }\n",
       "\n",
       "    .dataframe tbody tr th {\n",
       "        vertical-align: top;\n",
       "    }\n",
       "\n",
       "    .dataframe thead th {\n",
       "        text-align: right;\n",
       "    }\n",
       "</style>\n",
       "<table border=\"1\" class=\"dataframe\">\n",
       "  <thead>\n",
       "    <tr style=\"text-align: right;\">\n",
       "      <th></th>\n",
       "      <th>status</th>\n",
       "      <th>street</th>\n",
       "      <th>baths</th>\n",
       "      <th>city</th>\n",
       "      <th>sqft</th>\n",
       "      <th>zipcode</th>\n",
       "      <th>beds</th>\n",
       "      <th>state</th>\n",
       "      <th>stories</th>\n",
       "      <th>target</th>\n",
       "      <th>pool_encoded</th>\n",
       "      <th>Type</th>\n",
       "      <th>Year built</th>\n",
       "      <th>Heating_encoded</th>\n",
       "      <th>Cooling_encoded</th>\n",
       "      <th>Parking_encoded</th>\n",
       "      <th>fireplace_encoded</th>\n",
       "      <th>school_rating _mean</th>\n",
       "      <th>school_dist_min</th>\n",
       "    </tr>\n",
       "  </thead>\n",
       "  <tbody>\n",
       "    <tr>\n",
       "      <th>30258</th>\n",
       "      <td>Active</td>\n",
       "      <td>Gates Canyon Rd</td>\n",
       "      <td>0.0</td>\n",
       "      <td>Vacaville</td>\n",
       "      <td>0</td>\n",
       "      <td>0</td>\n",
       "      <td>NaN</td>\n",
       "      <td>CA</td>\n",
       "      <td>NaN</td>\n",
       "      <td>$380,000</td>\n",
       "      <td>False</td>\n",
       "      <td>land</td>\n",
       "      <td>no date</td>\n",
       "      <td>False</td>\n",
       "      <td>False</td>\n",
       "      <td>False</td>\n",
       "      <td>False</td>\n",
       "      <td>3.7</td>\n",
       "      <td>6.50</td>\n",
       "    </tr>\n",
       "    <tr>\n",
       "      <th>83514</th>\n",
       "      <td>For Sale</td>\n",
       "      <td>Cornejo Ricardo Descalzi</td>\n",
       "      <td>0.0</td>\n",
       "      <td>Quito Ecuador</td>\n",
       "      <td>0</td>\n",
       "      <td>0</td>\n",
       "      <td>NaN</td>\n",
       "      <td>NY</td>\n",
       "      <td>NaN</td>\n",
       "      <td>470,000</td>\n",
       "      <td>False</td>\n",
       "      <td>other</td>\n",
       "      <td>1995</td>\n",
       "      <td>False</td>\n",
       "      <td>True</td>\n",
       "      <td>False</td>\n",
       "      <td>False</td>\n",
       "      <td>-1.0</td>\n",
       "      <td>-1.00</td>\n",
       "    </tr>\n",
       "    <tr>\n",
       "      <th>231230</th>\n",
       "      <td>For Sale</td>\n",
       "      <td>0 N Gopher Canyon Rd</td>\n",
       "      <td>0.0</td>\n",
       "      <td>Bonsall</td>\n",
       "      <td>0</td>\n",
       "      <td>--</td>\n",
       "      <td>449 acres</td>\n",
       "      <td>CA</td>\n",
       "      <td>NaN</td>\n",
       "      <td>$60,000,000</td>\n",
       "      <td>False</td>\n",
       "      <td>other</td>\n",
       "      <td>no date</td>\n",
       "      <td>False</td>\n",
       "      <td>False</td>\n",
       "      <td>False</td>\n",
       "      <td>False</td>\n",
       "      <td>5.7</td>\n",
       "      <td>2.90</td>\n",
       "    </tr>\n",
       "    <tr>\n",
       "      <th>235154</th>\n",
       "      <td>Other</td>\n",
       "      <td>1744 N Dixie Hwy # 1744</td>\n",
       "      <td>3.0</td>\n",
       "      <td>Fort Lauderdale</td>\n",
       "      <td>2043</td>\n",
       "      <td>--</td>\n",
       "      <td>3</td>\n",
       "      <td>FL</td>\n",
       "      <td>NaN</td>\n",
       "      <td>$425,000</td>\n",
       "      <td>False</td>\n",
       "      <td>townhouse</td>\n",
       "      <td>2010</td>\n",
       "      <td>True</td>\n",
       "      <td>True</td>\n",
       "      <td>True</td>\n",
       "      <td>False</td>\n",
       "      <td>5.0</td>\n",
       "      <td>0.50</td>\n",
       "    </tr>\n",
       "    <tr>\n",
       "      <th>305481</th>\n",
       "      <td>For Sale</td>\n",
       "      <td>000 U.S. Hwy 359</td>\n",
       "      <td>0.0</td>\n",
       "      <td>Laredo</td>\n",
       "      <td>243849</td>\n",
       "      <td>0</td>\n",
       "      <td>NaN</td>\n",
       "      <td>TX</td>\n",
       "      <td>NaN</td>\n",
       "      <td>$1,740,000</td>\n",
       "      <td>False</td>\n",
       "      <td>land</td>\n",
       "      <td>no date</td>\n",
       "      <td>False</td>\n",
       "      <td>False</td>\n",
       "      <td>False</td>\n",
       "      <td>False</td>\n",
       "      <td>4.0</td>\n",
       "      <td>7.45</td>\n",
       "    </tr>\n",
       "    <tr>\n",
       "      <th>308135</th>\n",
       "      <td>Active</td>\n",
       "      <td>435 pescador</td>\n",
       "      <td>0.0</td>\n",
       "      <td>Foreign Country</td>\n",
       "      <td>1100</td>\n",
       "      <td>00000</td>\n",
       "      <td>NaN</td>\n",
       "      <td>OS</td>\n",
       "      <td>NaN</td>\n",
       "      <td>125,000</td>\n",
       "      <td>False</td>\n",
       "      <td>other</td>\n",
       "      <td>1972</td>\n",
       "      <td>False</td>\n",
       "      <td>False</td>\n",
       "      <td>False</td>\n",
       "      <td>False</td>\n",
       "      <td>-1.0</td>\n",
       "      <td>-1.00</td>\n",
       "    </tr>\n",
       "  </tbody>\n",
       "</table>\n",
       "</div>"
      ],
      "text/plain": [
       "          status                     street  baths             city    sqft  \\\n",
       "30258     Active            Gates Canyon Rd    0.0        Vacaville       0   \n",
       "83514   For Sale  Cornejo Ricardo Descalzi     0.0    Quito Ecuador       0   \n",
       "231230  For Sale       0 N Gopher Canyon Rd    0.0          Bonsall       0   \n",
       "235154     Other    1744 N Dixie Hwy # 1744    3.0  Fort Lauderdale    2043   \n",
       "305481  For Sale           000 U.S. Hwy 359    0.0           Laredo  243849   \n",
       "308135    Active              435 pescador     0.0  Foreign Country    1100   \n",
       "\n",
       "       zipcode       beds state stories       target  pool_encoded       Type  \\\n",
       "30258        0        NaN    CA     NaN     $380,000         False       land   \n",
       "83514        0        NaN    NY     NaN      470,000         False      other   \n",
       "231230      --  449 acres    CA     NaN  $60,000,000         False      other   \n",
       "235154      --          3    FL     NaN     $425,000         False  townhouse   \n",
       "305481       0        NaN    TX     NaN   $1,740,000         False       land   \n",
       "308135   00000        NaN    OS     NaN      125,000         False      other   \n",
       "\n",
       "       Year built  Heating_encoded  Cooling_encoded  Parking_encoded  \\\n",
       "30258     no date            False            False            False   \n",
       "83514        1995            False             True            False   \n",
       "231230    no date            False            False            False   \n",
       "235154       2010             True             True             True   \n",
       "305481    no date            False            False            False   \n",
       "308135       1972            False            False            False   \n",
       "\n",
       "        fireplace_encoded  school_rating _mean  school_dist_min  \n",
       "30258               False                  3.7             6.50  \n",
       "83514               False                 -1.0            -1.00  \n",
       "231230              False                  5.7             2.90  \n",
       "235154              False                  5.0             0.50  \n",
       "305481              False                  4.0             7.45  \n",
       "308135              False                 -1.0            -1.00  "
      ]
     },
     "execution_count": 85,
     "metadata": {},
     "output_type": "execute_result"
    }
   ],
   "source": [
    "#Выведем строки с нерорректными значениями \n",
    "df3[(df3['zipcode']=='--') | (df3['zipcode']=='0')| (df3['zipcode']=='00000') ]"
   ]
  },
  {
   "cell_type": "markdown",
   "metadata": {},
   "source": [
    "Всего 6 строк с некорректрными значениями удалим их"
   ]
  },
  {
   "cell_type": "code",
   "execution_count": 86,
   "metadata": {},
   "outputs": [],
   "source": [
    "# Отфильтровываем индексы строк, удовлетворяющих условию\n",
    "indexes_to_drop = df3[(df3['zipcode']=='--') | (df3['zipcode']=='0')| (df3['zipcode']=='00000')].index\n",
    "\n",
    "# Удаляем строки с отфильтрованными индексами\n",
    "df3 = df3.drop(indexes_to_drop)"
   ]
  },
  {
   "cell_type": "code",
   "execution_count": 87,
   "metadata": {},
   "outputs": [
    {
     "data": {
      "text/plain": [
       "array(['02108', '02109', '02110', '02111', '02113', '02114', '02115',\n",
       "       '02116', '02118', '02119'], dtype=object)"
      ]
     },
     "execution_count": 87,
     "metadata": {},
     "output_type": "execute_result"
    }
   ],
   "source": [
    "# посмотрим что получилось\n",
    "df3.zipcode.sort_values().unique()[:10]"
   ]
  },
  {
   "cell_type": "code",
   "execution_count": 88,
   "metadata": {},
   "outputs": [
    {
     "data": {
      "text/plain": [
       "array(['02108', '02109', '02110', '02111', '02113', '02114', '02115',\n",
       "       '02116', '02118', '02119'], dtype=object)"
      ]
     },
     "execution_count": 88,
     "metadata": {},
     "output_type": "execute_result"
    }
   ],
   "source": [
    "# Поправим не корректные zipcode отбросив 2ю часть\n",
    "df3.zipcode = df3.zipcode.str.replace(\"-.+\",'', regex=True)\n",
    "# посмотрим что получилось\n",
    "df3.zipcode.sort_values().unique()[:10]"
   ]
  },
  {
   "cell_type": "markdown",
   "metadata": {},
   "source": [
    "Посмотрим на признак beds - колличество спален"
   ]
  },
  {
   "cell_type": "code",
   "execution_count": 89,
   "metadata": {},
   "outputs": [
    {
     "name": "stdout",
     "output_type": "stream",
     "text": [
      "Количество пропущенных значений: 91155\n",
      "Процент пропущенных значений: 24.18%\n",
      "Количество уникальных значений: 1181\n",
      "Уникальные значения: [' ', '# Bedrooms 1st Floor', '-- bd', '-- sqft', '0', '0.0', '0.25 acres', '0.26 acres', '0.27 acres', '0.28 acres']\n"
     ]
    }
   ],
   "source": [
    "# выполним проверку\n",
    "missing_values_count = df3['beds'].isna().sum()\n",
    "total_count = len(df3)\n",
    "missing_values_percentage = (missing_values_count / total_count) * 100\n",
    "\n",
    "print(f\"Количество пропущенных значений: {missing_values_count}\\n\"\n",
    "f\"Процент пропущенных значений: {missing_values_percentage:.2f}%\\n\"\n",
    "f\"Количество уникальных значений: {df3['beds'].nunique()}\\n\"\n",
    "f\"Уникальные значения: {list(df3['beds'].sort_values().unique()[:10])}\")"
   ]
  },
  {
   "cell_type": "markdown",
   "metadata": {},
   "source": [
    "чесно говоря эти данные вообще не пригодны так как часть строк заполнена текстом, часть колличеством спален, а часть площадью Удаляем его"
   ]
  },
  {
   "cell_type": "code",
   "execution_count": 90,
   "metadata": {},
   "outputs": [],
   "source": [
    "df3 = df3.drop('beds', axis=1)"
   ]
  },
  {
   "cell_type": "markdown",
   "metadata": {},
   "source": [
    "#### Посмотрим на признак state"
   ]
  },
  {
   "cell_type": "code",
   "execution_count": 91,
   "metadata": {},
   "outputs": [
    {
     "name": "stdout",
     "output_type": "stream",
     "text": [
      "Количество пропущенных значений: 0\n",
      "Количество уникальных значений: 37\n",
      "Уникальные значения: ['NC', 'WA', 'CA', 'TX', 'FL', 'PA', 'TN', 'IA', 'NY', 'OR']\n"
     ]
    }
   ],
   "source": [
    "print(f\"Количество пропущенных значений: {df3.state.isna().sum()}\\n\"\n",
    "      f\"Количество уникальных значений: {df3.state.nunique()}\\n\"\n",
    "      f\"Уникальные значения: {list(df3.state.unique()[:10])}\")"
   ]
  },
  {
   "cell_type": "markdown",
   "metadata": {},
   "source": [
    "Тут все хорошо"
   ]
  },
  {
   "cell_type": "markdown",
   "metadata": {},
   "source": [
    "### Теперь посмотрим на stories этажи"
   ]
  },
  {
   "cell_type": "code",
   "execution_count": 92,
   "metadata": {},
   "outputs": [
    {
     "name": "stdout",
     "output_type": "stream",
     "text": [
      "Количество пропущенных значений: 150515\n",
      "Процент пропущенных значений: 39.93%\n",
      "Количество уникальных значений: 346\n",
      "Уникальные значения: [', 1', ', 2', ', 3', '0', '0.0', '1', '1 1/2 Levels', '1 1/2 Story', '1 Level', '1 Level, 1.5 Level']\n"
     ]
    }
   ],
   "source": [
    "# выполним проверку\n",
    "missing_values_count = df3['stories'].isna().sum()\n",
    "total_count = len(df3)\n",
    "missing_values_percentage = (missing_values_count / total_count) * 100\n",
    "\n",
    "print(f\"Количество пропущенных значений: {missing_values_count}\\n\"\n",
    "f\"Процент пропущенных значений: {missing_values_percentage:.2f}%\\n\"\n",
    "f\"Количество уникальных значений: {df3['stories'].nunique()}\\n\"\n",
    "f\"Уникальные значения: {list(df3['stories'].sort_values().unique()[:10])}\")"
   ]
  },
  {
   "cell_type": "code",
   "execution_count": 93,
   "metadata": {},
   "outputs": [
    {
     "data": {
      "text/plain": [
       "Type\n",
       "single_family_home    46300\n",
       "other                 37000\n",
       "land                  28815\n",
       "condo                 24355\n",
       "multi_family_home      5212\n",
       "townhouse              3937\n",
       "mobile_home            1499\n",
       "ranch                  1389\n",
       "modern                 1129\n",
       "apartment               824\n",
       "historical               44\n",
       "miscellaneous            11\n",
       "Name: count, dtype: int64"
      ]
     },
     "execution_count": 93,
     "metadata": {},
     "output_type": "execute_result"
    }
   ],
   "source": [
    "# посмотрим в каких типах пропуски\n",
    "df3[df3.stories.isna()].Type.value_counts()"
   ]
  },
  {
   "cell_type": "markdown",
   "metadata": {},
   "source": [
    "Пропуски встречаются как в типе земли так и в типах домов в большом колличестве заполнять рандомно не вижу смысла лучше удалить этот признак"
   ]
  },
  {
   "cell_type": "code",
   "execution_count": 94,
   "metadata": {},
   "outputs": [],
   "source": [
    "df3 = df3.drop('stories', axis=1)"
   ]
  },
  {
   "cell_type": "markdown",
   "metadata": {},
   "source": [
    "### Теперь посмотрим целевой признак target"
   ]
  },
  {
   "cell_type": "code",
   "execution_count": 95,
   "metadata": {},
   "outputs": [
    {
     "name": "stdout",
     "output_type": "stream",
     "text": [
      "Количество пропущенных значений: 2475\n",
      "Процент пропущенных значений: 0.66%\n",
      "Количество уникальных значений: 43936\n",
      "Уникальные значения: ['$1', '$1,000', '$1,000,000', '$1,000,000+', '$1,000,036', '$1,000,050', '$1,000,100', '$1,000,898', '$1,000/mo', '$1,001,713']\n"
     ]
    }
   ],
   "source": [
    "# выполним проверку\n",
    "missing_values_count = df3['target'].isna().sum()\n",
    "total_count = len(df3)\n",
    "missing_values_percentage = (missing_values_count / total_count) * 100\n",
    "\n",
    "print(f\"Количество пропущенных значений: {missing_values_count}\\n\"\n",
    "f\"Процент пропущенных значений: {missing_values_percentage:.2f}%\\n\"\n",
    "f\"Количество уникальных значений: {df3['target'].nunique()}\\n\"\n",
    "f\"Уникальные значения: {list(df3['target'].sort_values().unique()[:10])}\")"
   ]
  },
  {
   "cell_type": "code",
   "execution_count": 96,
   "metadata": {},
   "outputs": [],
   "source": [
    "# Удалим строки с пропусками так как мы не можем их заполнить и потомиспользовать\n",
    "df3 = df3.dropna(subset=['target'])"
   ]
  },
  {
   "cell_type": "markdown",
   "metadata": {},
   "source": [
    "В признаке есть значения указывающие что это плата за месяц с приставкой /мо а следовательно это аренда посморим на них"
   ]
  },
  {
   "cell_type": "code",
   "execution_count": 97,
   "metadata": {},
   "outputs": [
    {
     "data": {
      "text/html": [
       "<div>\n",
       "<style scoped>\n",
       "    .dataframe tbody tr th:only-of-type {\n",
       "        vertical-align: middle;\n",
       "    }\n",
       "\n",
       "    .dataframe tbody tr th {\n",
       "        vertical-align: top;\n",
       "    }\n",
       "\n",
       "    .dataframe thead th {\n",
       "        text-align: right;\n",
       "    }\n",
       "</style>\n",
       "<table border=\"1\" class=\"dataframe\">\n",
       "  <thead>\n",
       "    <tr style=\"text-align: right;\">\n",
       "      <th></th>\n",
       "      <th>status</th>\n",
       "      <th>street</th>\n",
       "      <th>baths</th>\n",
       "      <th>city</th>\n",
       "      <th>sqft</th>\n",
       "      <th>zipcode</th>\n",
       "      <th>state</th>\n",
       "      <th>target</th>\n",
       "      <th>pool_encoded</th>\n",
       "      <th>Type</th>\n",
       "      <th>Year built</th>\n",
       "      <th>Heating_encoded</th>\n",
       "      <th>Cooling_encoded</th>\n",
       "      <th>Parking_encoded</th>\n",
       "      <th>fireplace_encoded</th>\n",
       "      <th>school_rating _mean</th>\n",
       "      <th>school_dist_min</th>\n",
       "    </tr>\n",
       "  </thead>\n",
       "  <tbody>\n",
       "    <tr>\n",
       "      <th>547</th>\n",
       "      <td>For Rent</td>\n",
       "      <td>4323 N Central Park Ave</td>\n",
       "      <td>4.0</td>\n",
       "      <td>Chicago</td>\n",
       "      <td>3300</td>\n",
       "      <td>60618</td>\n",
       "      <td>IL</td>\n",
       "      <td>$5,500/mo</td>\n",
       "      <td>False</td>\n",
       "      <td>single_family_home</td>\n",
       "      <td>1913</td>\n",
       "      <td>True</td>\n",
       "      <td>False</td>\n",
       "      <td>True</td>\n",
       "      <td>True</td>\n",
       "      <td>2.3</td>\n",
       "      <td>0.13</td>\n",
       "    </tr>\n",
       "    <tr>\n",
       "      <th>609</th>\n",
       "      <td>For Rent</td>\n",
       "      <td>220 Boylston St #1412</td>\n",
       "      <td>2.0</td>\n",
       "      <td>Boston</td>\n",
       "      <td>1673</td>\n",
       "      <td>2116</td>\n",
       "      <td>MA</td>\n",
       "      <td>$10,500/mo</td>\n",
       "      <td>False</td>\n",
       "      <td>multi_family_home</td>\n",
       "      <td>1985</td>\n",
       "      <td>False</td>\n",
       "      <td>False</td>\n",
       "      <td>False</td>\n",
       "      <td>True</td>\n",
       "      <td>-1.0</td>\n",
       "      <td>-1.00</td>\n",
       "    </tr>\n",
       "    <tr>\n",
       "      <th>2075</th>\n",
       "      <td>For Rent</td>\n",
       "      <td>2830 NE 56th Ct</td>\n",
       "      <td>4.0</td>\n",
       "      <td>Fort Lauderdale</td>\n",
       "      <td>2400</td>\n",
       "      <td>33308</td>\n",
       "      <td>FL</td>\n",
       "      <td>$6,390/mo</td>\n",
       "      <td>True</td>\n",
       "      <td>single_family_home</td>\n",
       "      <td>1965</td>\n",
       "      <td>False</td>\n",
       "      <td>False</td>\n",
       "      <td>False</td>\n",
       "      <td>False</td>\n",
       "      <td>4.0</td>\n",
       "      <td>1.19</td>\n",
       "    </tr>\n",
       "    <tr>\n",
       "      <th>3025</th>\n",
       "      <td>For Rent</td>\n",
       "      <td>411 Kline Aly</td>\n",
       "      <td>2.0</td>\n",
       "      <td>Clarksville</td>\n",
       "      <td>1280</td>\n",
       "      <td>37040</td>\n",
       "      <td>TN</td>\n",
       "      <td>$1,200/mo</td>\n",
       "      <td>False</td>\n",
       "      <td>multi_family_home</td>\n",
       "      <td>2014</td>\n",
       "      <td>True</td>\n",
       "      <td>False</td>\n",
       "      <td>False</td>\n",
       "      <td>False</td>\n",
       "      <td>8.0</td>\n",
       "      <td>0.68</td>\n",
       "    </tr>\n",
       "    <tr>\n",
       "      <th>3645</th>\n",
       "      <td>For Rent</td>\n",
       "      <td>240 E Illinois St #2011</td>\n",
       "      <td>2.0</td>\n",
       "      <td>Chicago</td>\n",
       "      <td>1473</td>\n",
       "      <td>60611</td>\n",
       "      <td>IL</td>\n",
       "      <td>$3,600/mo</td>\n",
       "      <td>True</td>\n",
       "      <td>multi_family_home</td>\n",
       "      <td>2003</td>\n",
       "      <td>False</td>\n",
       "      <td>False</td>\n",
       "      <td>True</td>\n",
       "      <td>False</td>\n",
       "      <td>5.5</td>\n",
       "      <td>0.72</td>\n",
       "    </tr>\n",
       "  </tbody>\n",
       "</table>\n",
       "</div>"
      ],
      "text/plain": [
       "        status                   street  baths             city  sqft zipcode  \\\n",
       "547   For Rent  4323 N Central Park Ave    4.0          Chicago  3300   60618   \n",
       "609   For Rent    220 Boylston St #1412    2.0           Boston  1673    2116   \n",
       "2075  For Rent          2830 NE 56th Ct    4.0  Fort Lauderdale  2400   33308   \n",
       "3025  For Rent            411 Kline Aly    2.0      Clarksville  1280   37040   \n",
       "3645  For Rent  240 E Illinois St #2011    2.0          Chicago  1473   60611   \n",
       "\n",
       "     state      target  pool_encoded                Type Year built  \\\n",
       "547     IL   $5,500/mo         False  single_family_home       1913   \n",
       "609     MA  $10,500/mo         False   multi_family_home       1985   \n",
       "2075    FL   $6,390/mo          True  single_family_home       1965   \n",
       "3025    TN   $1,200/mo         False   multi_family_home       2014   \n",
       "3645    IL   $3,600/mo          True   multi_family_home       2003   \n",
       "\n",
       "      Heating_encoded  Cooling_encoded  Parking_encoded  fireplace_encoded  \\\n",
       "547              True            False             True               True   \n",
       "609             False            False            False               True   \n",
       "2075            False            False            False              False   \n",
       "3025             True            False            False              False   \n",
       "3645            False            False             True              False   \n",
       "\n",
       "      school_rating _mean  school_dist_min  \n",
       "547                   2.3             0.13  \n",
       "609                  -1.0            -1.00  \n",
       "2075                  4.0             1.19  \n",
       "3025                  8.0             0.68  \n",
       "3645                  5.5             0.72  "
      ]
     },
     "execution_count": 97,
     "metadata": {},
     "output_type": "execute_result"
    }
   ],
   "source": [
    "df3[df3.target.str.contains('/mo',regex=True)].head()"
   ]
  },
  {
   "cell_type": "code",
   "execution_count": 98,
   "metadata": {},
   "outputs": [
    {
     "name": "stdout",
     "output_type": "stream",
     "text": [
      "0.11% строк содержат подстроку \"/mo\" в столбце \"target\".\n"
     ]
    }
   ],
   "source": [
    "# вычисляем количество строк, удовлетворяющих условию\n",
    "matching_rows = df3[df3.target.str.contains('/mo',regex=True)]\n",
    "# вычисляем общее число строк в DataFrame\n",
    "total_rows = len(df3)\n",
    "# вычисляем процент строк, удовлетворяющих условию\n",
    "percent_matching = (len(matching_rows) / total_rows) * 100\n",
    "print('{}% строк содержат подстроку \"/mo\" в столбце \"target\".'.format(round(percent_matching, 2)))"
   ]
  },
  {
   "cell_type": "markdown",
   "metadata": {},
   "source": [
    "Поскольку у нас стоит задача спрогнозировать именно стоимость Недвижимости а не стоимость аренды и принимая во внимание что таких строк у нас всего 0.11% полагаю что данные строки лучше удалить так как они будут давать погрешность"
   ]
  },
  {
   "cell_type": "code",
   "execution_count": 99,
   "metadata": {},
   "outputs": [],
   "source": [
    "df3 = df3[~df3['target'].str.contains('/mo', regex=True)]"
   ]
  },
  {
   "cell_type": "code",
   "execution_count": 100,
   "metadata": {},
   "outputs": [],
   "source": [
    "#Теперь удалим все символы кроме цыфр и переведем в числовой формат\n",
    "df3.loc[:,'target'] = df3.loc[:,'target'].str.replace('[^0-9]','',regex=True)\n",
    "df3.target = df3.target.astype(int)"
   ]
  },
  {
   "cell_type": "code",
   "execution_count": 101,
   "metadata": {},
   "outputs": [
    {
     "data": {
      "text/html": [
       "<div>\n",
       "<style scoped>\n",
       "    .dataframe tbody tr th:only-of-type {\n",
       "        vertical-align: middle;\n",
       "    }\n",
       "\n",
       "    .dataframe tbody tr th {\n",
       "        vertical-align: top;\n",
       "    }\n",
       "\n",
       "    .dataframe thead th {\n",
       "        text-align: right;\n",
       "    }\n",
       "</style>\n",
       "<table border=\"1\" class=\"dataframe\">\n",
       "  <thead>\n",
       "    <tr style=\"text-align: right;\">\n",
       "      <th></th>\n",
       "      <th>status</th>\n",
       "      <th>street</th>\n",
       "      <th>baths</th>\n",
       "      <th>city</th>\n",
       "      <th>sqft</th>\n",
       "      <th>zipcode</th>\n",
       "      <th>state</th>\n",
       "      <th>target</th>\n",
       "      <th>pool_encoded</th>\n",
       "      <th>Type</th>\n",
       "      <th>Year built</th>\n",
       "      <th>Heating_encoded</th>\n",
       "      <th>Cooling_encoded</th>\n",
       "      <th>Parking_encoded</th>\n",
       "      <th>fireplace_encoded</th>\n",
       "      <th>school_rating _mean</th>\n",
       "      <th>school_dist_min</th>\n",
       "    </tr>\n",
       "  </thead>\n",
       "  <tbody>\n",
       "    <tr>\n",
       "      <th>15533</th>\n",
       "      <td>Active</td>\n",
       "      <td>1230 Old Dickerson Rd</td>\n",
       "      <td>2.0</td>\n",
       "      <td>Goodlettsville</td>\n",
       "      <td>1596</td>\n",
       "      <td>37072</td>\n",
       "      <td>TN</td>\n",
       "      <td>1</td>\n",
       "      <td>False</td>\n",
       "      <td>single_family_home</td>\n",
       "      <td>1940</td>\n",
       "      <td>True</td>\n",
       "      <td>False</td>\n",
       "      <td>True</td>\n",
       "      <td>False</td>\n",
       "      <td>2.3</td>\n",
       "      <td>0.2</td>\n",
       "    </tr>\n",
       "    <tr>\n",
       "      <th>25334</th>\n",
       "      <td>Other</td>\n",
       "      <td>3205 N High School Rd</td>\n",
       "      <td>1.0</td>\n",
       "      <td>Indianapolis</td>\n",
       "      <td>1586</td>\n",
       "      <td>46224</td>\n",
       "      <td>IN</td>\n",
       "      <td>1</td>\n",
       "      <td>False</td>\n",
       "      <td>single_family_home</td>\n",
       "      <td>1957</td>\n",
       "      <td>True</td>\n",
       "      <td>True</td>\n",
       "      <td>True</td>\n",
       "      <td>True</td>\n",
       "      <td>1.5</td>\n",
       "      <td>0.2</td>\n",
       "    </tr>\n",
       "    <tr>\n",
       "      <th>84943</th>\n",
       "      <td>Foreclosure</td>\n",
       "      <td>7804 Hamilton Ave</td>\n",
       "      <td>0.0</td>\n",
       "      <td>Cincinnati</td>\n",
       "      <td>2536</td>\n",
       "      <td>45231</td>\n",
       "      <td>OH</td>\n",
       "      <td>1</td>\n",
       "      <td>False</td>\n",
       "      <td>land</td>\n",
       "      <td>1865</td>\n",
       "      <td>False</td>\n",
       "      <td>True</td>\n",
       "      <td>True</td>\n",
       "      <td>True</td>\n",
       "      <td>2.0</td>\n",
       "      <td>0.5</td>\n",
       "    </tr>\n",
       "    <tr>\n",
       "      <th>148219</th>\n",
       "      <td>Active</td>\n",
       "      <td>Cummings St</td>\n",
       "      <td>0.0</td>\n",
       "      <td>Huntley</td>\n",
       "      <td>0</td>\n",
       "      <td>60142</td>\n",
       "      <td>IL</td>\n",
       "      <td>1</td>\n",
       "      <td>False</td>\n",
       "      <td>land</td>\n",
       "      <td>no date</td>\n",
       "      <td>False</td>\n",
       "      <td>False</td>\n",
       "      <td>False</td>\n",
       "      <td>False</td>\n",
       "      <td>-1.0</td>\n",
       "      <td>-1.0</td>\n",
       "    </tr>\n",
       "    <tr>\n",
       "      <th>205315</th>\n",
       "      <td>Active</td>\n",
       "      <td>Route 47 Hwy</td>\n",
       "      <td>0.0</td>\n",
       "      <td>Huntley</td>\n",
       "      <td>0</td>\n",
       "      <td>60142</td>\n",
       "      <td>IL</td>\n",
       "      <td>1</td>\n",
       "      <td>False</td>\n",
       "      <td>land</td>\n",
       "      <td>no date</td>\n",
       "      <td>False</td>\n",
       "      <td>False</td>\n",
       "      <td>False</td>\n",
       "      <td>False</td>\n",
       "      <td>7.8</td>\n",
       "      <td>0.9</td>\n",
       "    </tr>\n",
       "  </tbody>\n",
       "</table>\n",
       "</div>"
      ],
      "text/plain": [
       "             status                 street  baths            city  sqft  \\\n",
       "15533        Active  1230 Old Dickerson Rd    2.0  Goodlettsville  1596   \n",
       "25334         Other  3205 N High School Rd    1.0    Indianapolis  1586   \n",
       "84943   Foreclosure      7804 Hamilton Ave    0.0      Cincinnati  2536   \n",
       "148219       Active            Cummings St    0.0         Huntley     0   \n",
       "205315       Active           Route 47 Hwy    0.0         Huntley     0   \n",
       "\n",
       "       zipcode state  target  pool_encoded                Type Year built  \\\n",
       "15533    37072    TN       1         False  single_family_home       1940   \n",
       "25334    46224    IN       1         False  single_family_home       1957   \n",
       "84943    45231    OH       1         False                land       1865   \n",
       "148219   60142    IL       1         False                land    no date   \n",
       "205315   60142    IL       1         False                land    no date   \n",
       "\n",
       "        Heating_encoded  Cooling_encoded  Parking_encoded  fireplace_encoded  \\\n",
       "15533              True            False             True              False   \n",
       "25334              True             True             True               True   \n",
       "84943             False             True             True               True   \n",
       "148219            False            False            False              False   \n",
       "205315            False            False            False              False   \n",
       "\n",
       "        school_rating _mean  school_dist_min  \n",
       "15533                   2.3              0.2  \n",
       "25334                   1.5              0.2  \n",
       "84943                   2.0              0.5  \n",
       "148219                 -1.0             -1.0  \n",
       "205315                  7.8              0.9  "
      ]
     },
     "metadata": {},
     "output_type": "display_data"
    },
    {
     "data": {
      "text/html": [
       "<div>\n",
       "<style scoped>\n",
       "    .dataframe tbody tr th:only-of-type {\n",
       "        vertical-align: middle;\n",
       "    }\n",
       "\n",
       "    .dataframe tbody tr th {\n",
       "        vertical-align: top;\n",
       "    }\n",
       "\n",
       "    .dataframe thead th {\n",
       "        text-align: right;\n",
       "    }\n",
       "</style>\n",
       "<table border=\"1\" class=\"dataframe\">\n",
       "  <thead>\n",
       "    <tr style=\"text-align: right;\">\n",
       "      <th></th>\n",
       "      <th>status</th>\n",
       "      <th>street</th>\n",
       "      <th>baths</th>\n",
       "      <th>city</th>\n",
       "      <th>sqft</th>\n",
       "      <th>zipcode</th>\n",
       "      <th>state</th>\n",
       "      <th>target</th>\n",
       "      <th>pool_encoded</th>\n",
       "      <th>Type</th>\n",
       "      <th>Year built</th>\n",
       "      <th>Heating_encoded</th>\n",
       "      <th>Cooling_encoded</th>\n",
       "      <th>Parking_encoded</th>\n",
       "      <th>fireplace_encoded</th>\n",
       "      <th>school_rating _mean</th>\n",
       "      <th>school_dist_min</th>\n",
       "    </tr>\n",
       "  </thead>\n",
       "  <tbody>\n",
       "    <tr>\n",
       "      <th>132407</th>\n",
       "      <td>For Sale</td>\n",
       "      <td>875 Nimes Rd</td>\n",
       "      <td>18.0</td>\n",
       "      <td>Los Angeles</td>\n",
       "      <td>0</td>\n",
       "      <td>90077</td>\n",
       "      <td>CA</td>\n",
       "      <td>195000000</td>\n",
       "      <td>True</td>\n",
       "      <td>single_family_home</td>\n",
       "      <td>1935</td>\n",
       "      <td>True</td>\n",
       "      <td>True</td>\n",
       "      <td>True</td>\n",
       "      <td>True</td>\n",
       "      <td>2.7</td>\n",
       "      <td>1.3</td>\n",
       "    </tr>\n",
       "  </tbody>\n",
       "</table>\n",
       "</div>"
      ],
      "text/plain": [
       "          status        street  baths         city  sqft zipcode state  \\\n",
       "132407  For Sale  875 Nimes Rd   18.0  Los Angeles     0   90077    CA   \n",
       "\n",
       "           target  pool_encoded                Type Year built  \\\n",
       "132407  195000000          True  single_family_home       1935   \n",
       "\n",
       "        Heating_encoded  Cooling_encoded  Parking_encoded  fireplace_encoded  \\\n",
       "132407             True             True             True               True   \n",
       "\n",
       "        school_rating _mean  school_dist_min  \n",
       "132407                  2.7              1.3  "
      ]
     },
     "metadata": {},
     "output_type": "display_data"
    }
   ],
   "source": [
    "display(df3[df3['target'] == df3['target']. min ()].head())\n",
    "display(df3[df3['target'] == df3['target']. max ()].head())"
   ]
  },
  {
   "cell_type": "markdown",
   "metadata": {},
   "source": [
    "По максимальной цене вопросов нет это огромная вилла а вот по минимальным есть вопросы, видим наличие странных показателей по минимальной стоимости посморим сколько вообще у нас таких аномальных значений за границу возьмем 1000"
   ]
  },
  {
   "cell_type": "code",
   "execution_count": 102,
   "metadata": {},
   "outputs": [
    {
     "name": "stdout",
     "output_type": "stream",
     "text": [
      "Количество строк: 77\n",
      "Процент строк: 0.02%\n"
     ]
    }
   ],
   "source": [
    "# считаем количество строк\n",
    "count = len(df3[df3['target'] < 1000])\n",
    "# считаем процент от общего числа строк\n",
    "percentage = count / len(df3) * 100\n",
    "# выводим результаты\n",
    "print(f\"Количество строк: {count}\")\n",
    "print(f\"Процент строк: {percentage:.2f}%\")"
   ]
  },
  {
   "cell_type": "markdown",
   "metadata": {},
   "source": [
    "Видим что таких строк всего 77 считаю целесообразным удалить их"
   ]
  },
  {
   "cell_type": "code",
   "execution_count": 103,
   "metadata": {},
   "outputs": [],
   "source": [
    "df3 = df3.drop(df3[df3['target'] < 1000].index)"
   ]
  },
  {
   "cell_type": "code",
   "execution_count": 104,
   "metadata": {},
   "outputs": [
    {
     "data": {
      "text/html": [
       "<div>\n",
       "<style scoped>\n",
       "    .dataframe tbody tr th:only-of-type {\n",
       "        vertical-align: middle;\n",
       "    }\n",
       "\n",
       "    .dataframe tbody tr th {\n",
       "        vertical-align: top;\n",
       "    }\n",
       "\n",
       "    .dataframe thead th {\n",
       "        text-align: right;\n",
       "    }\n",
       "</style>\n",
       "<table border=\"1\" class=\"dataframe\">\n",
       "  <thead>\n",
       "    <tr style=\"text-align: right;\">\n",
       "      <th></th>\n",
       "      <th>status</th>\n",
       "      <th>street</th>\n",
       "      <th>baths</th>\n",
       "      <th>city</th>\n",
       "      <th>sqft</th>\n",
       "      <th>zipcode</th>\n",
       "      <th>state</th>\n",
       "      <th>target</th>\n",
       "      <th>pool_encoded</th>\n",
       "      <th>Type</th>\n",
       "      <th>Year built</th>\n",
       "      <th>Heating_encoded</th>\n",
       "      <th>Cooling_encoded</th>\n",
       "      <th>Parking_encoded</th>\n",
       "      <th>fireplace_encoded</th>\n",
       "      <th>school_rating _mean</th>\n",
       "      <th>school_dist_min</th>\n",
       "    </tr>\n",
       "  </thead>\n",
       "  <tbody>\n",
       "    <tr>\n",
       "      <th>1357</th>\n",
       "      <td>Foreclosure</td>\n",
       "      <td>3314 Whitney St</td>\n",
       "      <td>2.0</td>\n",
       "      <td>Detroit</td>\n",
       "      <td>2544</td>\n",
       "      <td>48206</td>\n",
       "      <td>MI</td>\n",
       "      <td>1000</td>\n",
       "      <td>False</td>\n",
       "      <td>single_family_home</td>\n",
       "      <td>1914</td>\n",
       "      <td>True</td>\n",
       "      <td>False</td>\n",
       "      <td>True</td>\n",
       "      <td>False</td>\n",
       "      <td>3.2</td>\n",
       "      <td>0.79</td>\n",
       "    </tr>\n",
       "    <tr>\n",
       "      <th>1682</th>\n",
       "      <td>Other</td>\n",
       "      <td>18997 Annchester Rd</td>\n",
       "      <td>2.0</td>\n",
       "      <td>Detroit</td>\n",
       "      <td>1572</td>\n",
       "      <td>48219</td>\n",
       "      <td>MI</td>\n",
       "      <td>1000</td>\n",
       "      <td>False</td>\n",
       "      <td>single_family_home</td>\n",
       "      <td>1940</td>\n",
       "      <td>True</td>\n",
       "      <td>True</td>\n",
       "      <td>True</td>\n",
       "      <td>False</td>\n",
       "      <td>1.0</td>\n",
       "      <td>0.70</td>\n",
       "    </tr>\n",
       "    <tr>\n",
       "      <th>2282</th>\n",
       "      <td>Foreclosure</td>\n",
       "      <td>13715 Linnhurst St</td>\n",
       "      <td>2.0</td>\n",
       "      <td>Detroit</td>\n",
       "      <td>2048</td>\n",
       "      <td>48205</td>\n",
       "      <td>MI</td>\n",
       "      <td>1000</td>\n",
       "      <td>False</td>\n",
       "      <td>single_family_home</td>\n",
       "      <td>1925</td>\n",
       "      <td>True</td>\n",
       "      <td>False</td>\n",
       "      <td>True</td>\n",
       "      <td>False</td>\n",
       "      <td>2.9</td>\n",
       "      <td>1.08</td>\n",
       "    </tr>\n",
       "    <tr>\n",
       "      <th>2644</th>\n",
       "      <td>Foreclosure</td>\n",
       "      <td>14903 Sussex St</td>\n",
       "      <td>2.0</td>\n",
       "      <td>Detroit</td>\n",
       "      <td>1827</td>\n",
       "      <td>48227</td>\n",
       "      <td>MI</td>\n",
       "      <td>1000</td>\n",
       "      <td>False</td>\n",
       "      <td>single_family_home</td>\n",
       "      <td>1928</td>\n",
       "      <td>True</td>\n",
       "      <td>False</td>\n",
       "      <td>True</td>\n",
       "      <td>False</td>\n",
       "      <td>2.9</td>\n",
       "      <td>0.56</td>\n",
       "    </tr>\n",
       "    <tr>\n",
       "      <th>2673</th>\n",
       "      <td>Active</td>\n",
       "      <td>0 Simpson Ave</td>\n",
       "      <td>0.0</td>\n",
       "      <td>Memphis</td>\n",
       "      <td>0</td>\n",
       "      <td>38106</td>\n",
       "      <td>TN</td>\n",
       "      <td>1000</td>\n",
       "      <td>False</td>\n",
       "      <td>other</td>\n",
       "      <td>no date</td>\n",
       "      <td>False</td>\n",
       "      <td>False</td>\n",
       "      <td>False</td>\n",
       "      <td>False</td>\n",
       "      <td>2.8</td>\n",
       "      <td>0.60</td>\n",
       "    </tr>\n",
       "  </tbody>\n",
       "</table>\n",
       "</div>"
      ],
      "text/plain": [
       "           status               street  baths     city  sqft zipcode state  \\\n",
       "1357  Foreclosure      3314 Whitney St    2.0  Detroit  2544   48206    MI   \n",
       "1682        Other  18997 Annchester Rd    2.0  Detroit  1572   48219    MI   \n",
       "2282  Foreclosure   13715 Linnhurst St    2.0  Detroit  2048   48205    MI   \n",
       "2644  Foreclosure      14903 Sussex St    2.0  Detroit  1827   48227    MI   \n",
       "2673       Active       0 Simpson Ave     0.0  Memphis     0   38106    TN   \n",
       "\n",
       "      target  pool_encoded                Type Year built  Heating_encoded  \\\n",
       "1357    1000         False  single_family_home       1914             True   \n",
       "1682    1000         False  single_family_home       1940             True   \n",
       "2282    1000         False  single_family_home       1925             True   \n",
       "2644    1000         False  single_family_home       1928             True   \n",
       "2673    1000         False               other    no date            False   \n",
       "\n",
       "      Cooling_encoded  Parking_encoded  fireplace_encoded  \\\n",
       "1357            False             True              False   \n",
       "1682             True             True              False   \n",
       "2282            False             True              False   \n",
       "2644            False             True              False   \n",
       "2673            False            False              False   \n",
       "\n",
       "      school_rating _mean  school_dist_min  \n",
       "1357                  3.2             0.79  \n",
       "1682                  1.0             0.70  \n",
       "2282                  2.9             1.08  \n",
       "2644                  2.9             0.56  \n",
       "2673                  2.8             0.60  "
      ]
     },
     "metadata": {},
     "output_type": "display_data"
    }
   ],
   "source": [
    "display(df3[df3['target'] == df3['target']. min ()].head())"
   ]
  },
  {
   "cell_type": "code",
   "execution_count": 105,
   "metadata": {},
   "outputs": [
    {
     "name": "stdout",
     "output_type": "stream",
     "text": [
      "Пропуски отсутствуют\n"
     ]
    }
   ],
   "source": [
    "missing_data = df3.isnull().sum()\n",
    "missing_columns = missing_data[missing_data > 0]\n",
    "\n",
    "if missing_columns.empty:\n",
    "    print('Пропуски отсутствуют')\n",
    "else:\n",
    "    for column_name in missing_columns.index:\n",
    "        missing_count = missing_columns[column_name]\n",
    "        percentage = (missing_count / len(df3)) * 100\n",
    "        print(f'{column_name}: {missing_count} пропусков ({percentage:.2f}% от общего числа данных в столбце)')\n"
   ]
  },
  {
   "cell_type": "code",
   "execution_count": 106,
   "metadata": {},
   "outputs": [
    {
     "data": {
      "text/plain": [
       "303"
      ]
     },
     "execution_count": 106,
     "metadata": {},
     "output_type": "execute_result"
    }
   ],
   "source": [
    "# Проверим дубликаты \n",
    "df3.duplicated().sum() "
   ]
  },
  {
   "cell_type": "code",
   "execution_count": 107,
   "metadata": {},
   "outputs": [],
   "source": [
    "# Удалим дубликаты\n",
    "df3 = df3.drop_duplicates(ignore_index=True)"
   ]
  },
  {
   "cell_type": "markdown",
   "metadata": {},
   "source": [
    "Признак street удалим после очистки от выбросов\n"
   ]
  },
  {
   "cell_type": "markdown",
   "metadata": {},
   "source": [
    "отчистим наши данные от строк содержащие большое колличество пропусков "
   ]
  },
  {
   "cell_type": "code",
   "execution_count": 108,
   "metadata": {},
   "outputs": [
    {
     "data": {
      "text/html": [
       "<div>\n",
       "<style scoped>\n",
       "    .dataframe tbody tr th:only-of-type {\n",
       "        vertical-align: middle;\n",
       "    }\n",
       "\n",
       "    .dataframe tbody tr th {\n",
       "        vertical-align: top;\n",
       "    }\n",
       "\n",
       "    .dataframe thead th {\n",
       "        text-align: right;\n",
       "    }\n",
       "</style>\n",
       "<table border=\"1\" class=\"dataframe\">\n",
       "  <thead>\n",
       "    <tr style=\"text-align: right;\">\n",
       "      <th></th>\n",
       "      <th>status</th>\n",
       "      <th>street</th>\n",
       "      <th>baths</th>\n",
       "      <th>city</th>\n",
       "      <th>sqft</th>\n",
       "      <th>zipcode</th>\n",
       "      <th>state</th>\n",
       "      <th>target</th>\n",
       "      <th>pool_encoded</th>\n",
       "      <th>Type</th>\n",
       "      <th>Year built</th>\n",
       "      <th>Heating_encoded</th>\n",
       "      <th>Cooling_encoded</th>\n",
       "      <th>Parking_encoded</th>\n",
       "      <th>fireplace_encoded</th>\n",
       "      <th>school_rating _mean</th>\n",
       "      <th>school_dist_min</th>\n",
       "    </tr>\n",
       "  </thead>\n",
       "  <tbody>\n",
       "    <tr>\n",
       "      <th>4</th>\n",
       "      <td>For Sale</td>\n",
       "      <td>1524 Kiscoe St</td>\n",
       "      <td>0.0</td>\n",
       "      <td>Palm Bay</td>\n",
       "      <td>0</td>\n",
       "      <td>32908</td>\n",
       "      <td>FL</td>\n",
       "      <td>5000</td>\n",
       "      <td>False</td>\n",
       "      <td>land</td>\n",
       "      <td>no date</td>\n",
       "      <td>False</td>\n",
       "      <td>False</td>\n",
       "      <td>False</td>\n",
       "      <td>False</td>\n",
       "      <td>4.7</td>\n",
       "      <td>3.03</td>\n",
       "    </tr>\n",
       "    <tr>\n",
       "      <th>40</th>\n",
       "      <td>Active</td>\n",
       "      <td>1104 Rotonda Cir</td>\n",
       "      <td>0.0</td>\n",
       "      <td>Rotonda West</td>\n",
       "      <td>0</td>\n",
       "      <td>33947</td>\n",
       "      <td>FL</td>\n",
       "      <td>54000</td>\n",
       "      <td>False</td>\n",
       "      <td>other</td>\n",
       "      <td>no date</td>\n",
       "      <td>False</td>\n",
       "      <td>False</td>\n",
       "      <td>False</td>\n",
       "      <td>False</td>\n",
       "      <td>6.3</td>\n",
       "      <td>3.10</td>\n",
       "    </tr>\n",
       "    <tr>\n",
       "      <th>41</th>\n",
       "      <td>For Sale</td>\n",
       "      <td>9418 Camino Santa Fe #19</td>\n",
       "      <td>0.0</td>\n",
       "      <td>San Diego</td>\n",
       "      <td>0</td>\n",
       "      <td>92127</td>\n",
       "      <td>CA</td>\n",
       "      <td>1100000</td>\n",
       "      <td>False</td>\n",
       "      <td>land</td>\n",
       "      <td>no date</td>\n",
       "      <td>False</td>\n",
       "      <td>False</td>\n",
       "      <td>False</td>\n",
       "      <td>False</td>\n",
       "      <td>9.0</td>\n",
       "      <td>0.97</td>\n",
       "    </tr>\n",
       "    <tr>\n",
       "      <th>42</th>\n",
       "      <td>Active</td>\n",
       "      <td>MLS #: STRI1057289</td>\n",
       "      <td>0.0</td>\n",
       "      <td>New York</td>\n",
       "      <td>0</td>\n",
       "      <td>10006</td>\n",
       "      <td>NY</td>\n",
       "      <td>850000</td>\n",
       "      <td>False</td>\n",
       "      <td>other</td>\n",
       "      <td>no date</td>\n",
       "      <td>False</td>\n",
       "      <td>False</td>\n",
       "      <td>False</td>\n",
       "      <td>False</td>\n",
       "      <td>7.0</td>\n",
       "      <td>0.10</td>\n",
       "    </tr>\n",
       "    <tr>\n",
       "      <th>48</th>\n",
       "      <td>Active</td>\n",
       "      <td>18b Sitton-Mills Pl</td>\n",
       "      <td>0.0</td>\n",
       "      <td>Signal Mountain</td>\n",
       "      <td>0</td>\n",
       "      <td>37377</td>\n",
       "      <td>TN</td>\n",
       "      <td>125000</td>\n",
       "      <td>False</td>\n",
       "      <td>other</td>\n",
       "      <td>no date</td>\n",
       "      <td>False</td>\n",
       "      <td>False</td>\n",
       "      <td>False</td>\n",
       "      <td>False</td>\n",
       "      <td>6.3</td>\n",
       "      <td>3.90</td>\n",
       "    </tr>\n",
       "  </tbody>\n",
       "</table>\n",
       "</div>"
      ],
      "text/plain": [
       "      status                    street  baths             city  sqft zipcode  \\\n",
       "4   For Sale            1524 Kiscoe St    0.0         Palm Bay     0   32908   \n",
       "40    Active         1104 Rotonda Cir     0.0     Rotonda West     0   33947   \n",
       "41  For Sale  9418 Camino Santa Fe #19    0.0        San Diego     0   92127   \n",
       "42    Active        MLS #: STRI1057289    0.0         New York     0   10006   \n",
       "48    Active      18b Sitton-Mills Pl     0.0  Signal Mountain     0   37377   \n",
       "\n",
       "   state   target  pool_encoded   Type Year built  Heating_encoded  \\\n",
       "4     FL     5000         False   land    no date            False   \n",
       "40    FL    54000         False  other    no date            False   \n",
       "41    CA  1100000         False   land    no date            False   \n",
       "42    NY   850000         False  other    no date            False   \n",
       "48    TN   125000         False  other    no date            False   \n",
       "\n",
       "    Cooling_encoded  Parking_encoded  fireplace_encoded  school_rating _mean  \\\n",
       "4             False            False              False                  4.7   \n",
       "40            False            False              False                  6.3   \n",
       "41            False            False              False                  9.0   \n",
       "42            False            False              False                  7.0   \n",
       "48            False            False              False                  6.3   \n",
       "\n",
       "    school_dist_min  \n",
       "4              3.03  \n",
       "40             3.10  \n",
       "41             0.97  \n",
       "42             0.10  \n",
       "48             3.90  "
      ]
     },
     "metadata": {},
     "output_type": "display_data"
    },
    {
     "name": "stdout",
     "output_type": "stream",
     "text": [
      "Найдено 41873 строк с пропусками из 373717 общего числа строк (11.20%)\n"
     ]
    }
   ],
   "source": [
    "result = df3[\n",
    "    (df3['baths'] == 0) & \n",
    "    (df3['sqft'] == 0) & \n",
    "    (df3['Year built'] == 'no date')\n",
    "]\n",
    "display(result.head())\n",
    "\n",
    "num_of_rows_with_nans = len(result)\n",
    "total_num_of_rows = len(df3)\n",
    "percentage_of_rows_with_nans = num_of_rows_with_nans / total_num_of_rows * 100\n",
    "\n",
    "print(f\"Найдено {num_of_rows_with_nans} строк с пропусками из {total_num_of_rows} общего числа строк ({percentage_of_rows_with_nans:.2f}%)\")\n"
   ]
  },
  {
   "cell_type": "markdown",
   "metadata": {},
   "source": [
    "Как мы видим у нас 11.2% строк не несущие никакой полезной информации для прогноза, удалим эти строки"
   ]
  },
  {
   "cell_type": "code",
   "execution_count": 109,
   "metadata": {},
   "outputs": [
    {
     "data": {
      "text/html": [
       "<div>\n",
       "<style scoped>\n",
       "    .dataframe tbody tr th:only-of-type {\n",
       "        vertical-align: middle;\n",
       "    }\n",
       "\n",
       "    .dataframe tbody tr th {\n",
       "        vertical-align: top;\n",
       "    }\n",
       "\n",
       "    .dataframe thead th {\n",
       "        text-align: right;\n",
       "    }\n",
       "</style>\n",
       "<table border=\"1\" class=\"dataframe\">\n",
       "  <thead>\n",
       "    <tr style=\"text-align: right;\">\n",
       "      <th></th>\n",
       "      <th>status</th>\n",
       "      <th>street</th>\n",
       "      <th>baths</th>\n",
       "      <th>city</th>\n",
       "      <th>sqft</th>\n",
       "      <th>zipcode</th>\n",
       "      <th>state</th>\n",
       "      <th>target</th>\n",
       "      <th>pool_encoded</th>\n",
       "      <th>Type</th>\n",
       "      <th>Year built</th>\n",
       "      <th>Heating_encoded</th>\n",
       "      <th>Cooling_encoded</th>\n",
       "      <th>Parking_encoded</th>\n",
       "      <th>fireplace_encoded</th>\n",
       "      <th>school_rating _mean</th>\n",
       "      <th>school_dist_min</th>\n",
       "    </tr>\n",
       "  </thead>\n",
       "  <tbody>\n",
       "    <tr>\n",
       "      <th>0</th>\n",
       "      <td>Active</td>\n",
       "      <td>240 Heather Ln</td>\n",
       "      <td>4.0</td>\n",
       "      <td>Southern Pines</td>\n",
       "      <td>2900</td>\n",
       "      <td>28387</td>\n",
       "      <td>NC</td>\n",
       "      <td>418000</td>\n",
       "      <td>False</td>\n",
       "      <td>single_family_home</td>\n",
       "      <td>2019</td>\n",
       "      <td>True</td>\n",
       "      <td>False</td>\n",
       "      <td>False</td>\n",
       "      <td>True</td>\n",
       "      <td>5.2</td>\n",
       "      <td>2.70</td>\n",
       "    </tr>\n",
       "    <tr>\n",
       "      <th>1</th>\n",
       "      <td>For Sale</td>\n",
       "      <td>12911 E Heroy Ave</td>\n",
       "      <td>3.0</td>\n",
       "      <td>Spokane Valley</td>\n",
       "      <td>1947</td>\n",
       "      <td>99216</td>\n",
       "      <td>WA</td>\n",
       "      <td>310000</td>\n",
       "      <td>False</td>\n",
       "      <td>single_family_home</td>\n",
       "      <td>2019</td>\n",
       "      <td>False</td>\n",
       "      <td>False</td>\n",
       "      <td>False</td>\n",
       "      <td>False</td>\n",
       "      <td>4.0</td>\n",
       "      <td>1.01</td>\n",
       "    </tr>\n",
       "    <tr>\n",
       "      <th>2</th>\n",
       "      <td>For Sale</td>\n",
       "      <td>2005 Westridge Rd</td>\n",
       "      <td>2.0</td>\n",
       "      <td>Los Angeles</td>\n",
       "      <td>3000</td>\n",
       "      <td>90049</td>\n",
       "      <td>CA</td>\n",
       "      <td>2895000</td>\n",
       "      <td>True</td>\n",
       "      <td>single_family_home</td>\n",
       "      <td>1961</td>\n",
       "      <td>True</td>\n",
       "      <td>True</td>\n",
       "      <td>True</td>\n",
       "      <td>True</td>\n",
       "      <td>6.7</td>\n",
       "      <td>1.19</td>\n",
       "    </tr>\n",
       "    <tr>\n",
       "      <th>3</th>\n",
       "      <td>For Sale</td>\n",
       "      <td>4311 Livingston Ave</td>\n",
       "      <td>8.0</td>\n",
       "      <td>Dallas</td>\n",
       "      <td>6457</td>\n",
       "      <td>75205</td>\n",
       "      <td>TX</td>\n",
       "      <td>2395000</td>\n",
       "      <td>False</td>\n",
       "      <td>single_family_home</td>\n",
       "      <td>2006</td>\n",
       "      <td>True</td>\n",
       "      <td>True</td>\n",
       "      <td>True</td>\n",
       "      <td>True</td>\n",
       "      <td>5.6</td>\n",
       "      <td>0.10</td>\n",
       "    </tr>\n",
       "    <tr>\n",
       "      <th>5</th>\n",
       "      <td>For Sale</td>\n",
       "      <td>1624 S Newkirk St</td>\n",
       "      <td>0.0</td>\n",
       "      <td>Philadelphia</td>\n",
       "      <td>897</td>\n",
       "      <td>19145</td>\n",
       "      <td>PA</td>\n",
       "      <td>209000</td>\n",
       "      <td>False</td>\n",
       "      <td>townhouse</td>\n",
       "      <td>1920</td>\n",
       "      <td>True</td>\n",
       "      <td>True</td>\n",
       "      <td>False</td>\n",
       "      <td>False</td>\n",
       "      <td>-1.0</td>\n",
       "      <td>-1.00</td>\n",
       "    </tr>\n",
       "  </tbody>\n",
       "</table>\n",
       "</div>"
      ],
      "text/plain": [
       "     status               street  baths            city  sqft zipcode state  \\\n",
       "0    Active       240 Heather Ln    4.0  Southern Pines  2900   28387    NC   \n",
       "1  For Sale    12911 E Heroy Ave    3.0  Spokane Valley  1947   99216    WA   \n",
       "2  For Sale    2005 Westridge Rd    2.0     Los Angeles  3000   90049    CA   \n",
       "3  For Sale  4311 Livingston Ave    8.0          Dallas  6457   75205    TX   \n",
       "5  For Sale    1624 S Newkirk St    0.0    Philadelphia   897   19145    PA   \n",
       "\n",
       "    target  pool_encoded                Type Year built  Heating_encoded  \\\n",
       "0   418000         False  single_family_home       2019             True   \n",
       "1   310000         False  single_family_home       2019            False   \n",
       "2  2895000          True  single_family_home       1961             True   \n",
       "3  2395000         False  single_family_home       2006             True   \n",
       "5   209000         False           townhouse       1920             True   \n",
       "\n",
       "   Cooling_encoded  Parking_encoded  fireplace_encoded  school_rating _mean  \\\n",
       "0            False            False               True                  5.2   \n",
       "1            False            False              False                  4.0   \n",
       "2             True             True               True                  6.7   \n",
       "3             True             True               True                  5.6   \n",
       "5             True            False              False                 -1.0   \n",
       "\n",
       "   school_dist_min  \n",
       "0             2.70  \n",
       "1             1.01  \n",
       "2             1.19  \n",
       "3             0.10  \n",
       "5            -1.00  "
      ]
     },
     "metadata": {},
     "output_type": "display_data"
    },
    {
     "name": "stdout",
     "output_type": "stream",
     "text": [
      "<class 'pandas.core.frame.DataFrame'>\n",
      "Index: 331844 entries, 0 to 373716\n",
      "Data columns (total 17 columns):\n",
      " #   Column               Non-Null Count   Dtype  \n",
      "---  ------               --------------   -----  \n",
      " 0   status               331844 non-null  object \n",
      " 1   street               331844 non-null  object \n",
      " 2   baths                331844 non-null  float64\n",
      " 3   city                 331844 non-null  object \n",
      " 4   sqft                 331844 non-null  int64  \n",
      " 5   zipcode              331844 non-null  object \n",
      " 6   state                331844 non-null  object \n",
      " 7   target               331844 non-null  int64  \n",
      " 8   pool_encoded         331844 non-null  bool   \n",
      " 9   Type                 331844 non-null  object \n",
      " 10  Year built           331844 non-null  object \n",
      " 11  Heating_encoded      331844 non-null  bool   \n",
      " 12  Cooling_encoded      331844 non-null  bool   \n",
      " 13  Parking_encoded      331844 non-null  bool   \n",
      " 14  fireplace_encoded    331844 non-null  bool   \n",
      " 15  school_rating _mean  331844 non-null  float64\n",
      " 16  school_dist_min      331844 non-null  float64\n",
      "dtypes: bool(5), float64(3), int64(2), object(7)\n",
      "memory usage: 34.5+ MB\n"
     ]
    }
   ],
   "source": [
    "# Удаление строк\n",
    "df3 = df3[\n",
    "    ~((df3['baths'] == 0) &\n",
    "      (df3['sqft'] == 0) &\n",
    "      (df3['Year built'] == 'no date'))\n",
    "]\n",
    "display(df3.head())\n",
    "df3.info()"
   ]
  },
  {
   "cell_type": "code",
   "execution_count": 121,
   "metadata": {},
   "outputs": [],
   "source": [
    "# Сохраним наши пред обработанные данные в CSV-файл\n",
    "df3.to_csv(\"data/cleaned_data.csv\", index=False)"
   ]
  }
 ],
 "metadata": {
  "kernelspec": {
   "display_name": "Python 3",
   "language": "python",
   "name": "python3"
  },
  "language_info": {
   "codemirror_mode": {
    "name": "ipython",
    "version": 3
   },
   "file_extension": ".py",
   "mimetype": "text/x-python",
   "name": "python",
   "nbconvert_exporter": "python",
   "pygments_lexer": "ipython3",
   "version": "3.10.7"
  },
  "orig_nbformat": 4
 },
 "nbformat": 4,
 "nbformat_minor": 2
}
