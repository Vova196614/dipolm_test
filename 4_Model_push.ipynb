{
 "cells": [
  {
   "cell_type": "markdown",
   "metadata": {},
   "source": [
    "# Курс Специализация Data Science Дипломный проект. Бриф учебного кейса \n",
    "## «Модель прогнозирования стоимости жилья для агентства недвижимости»"
   ]
  },
  {
   "cell_type": "markdown",
   "metadata": {},
   "source": [
    "В данном ноутбуке мы сделаем следующее:\n",
    "* Подгрузим обученную модель CatBoostRegressor\n",
    "* Сохраним названия колонок в отдельных файлах\n",
    "* Напишем функцию для предсказания стоимости недвижимости по входным параметрам\n",
    "* Сохраним наиболее привлекательные варианты в json-файл"
   ]
  },
  {
   "cell_type": "code",
   "execution_count": 21,
   "metadata": {},
   "outputs": [],
   "source": [
    "import numpy as np \n",
    "import pandas as pd \n",
    "import pickle\n",
    "import warnings\n",
    "warnings.filterwarnings(\"ignore\")"
   ]
  },
  {
   "cell_type": "code",
   "execution_count": 22,
   "metadata": {},
   "outputs": [],
   "source": [
    "# Загрузка сохраненной модели из файла pickle\n",
    "with open(\"prototype/server/artifacts/best_cb_model.pkl\", \"rb\") as f:\n",
    "    loaded_model = pickle.load(f)"
   ]
  },
  {
   "cell_type": "code",
   "execution_count": 23,
   "metadata": {},
   "outputs": [
    {
     "data": {
      "text/html": [
       "<div>\n",
       "<style scoped>\n",
       "    .dataframe tbody tr th:only-of-type {\n",
       "        vertical-align: middle;\n",
       "    }\n",
       "\n",
       "    .dataframe tbody tr th {\n",
       "        vertical-align: top;\n",
       "    }\n",
       "\n",
       "    .dataframe thead th {\n",
       "        text-align: right;\n",
       "    }\n",
       "</style>\n",
       "<table border=\"1\" class=\"dataframe\">\n",
       "  <thead>\n",
       "    <tr style=\"text-align: right;\">\n",
       "      <th></th>\n",
       "      <th>status</th>\n",
       "      <th>baths</th>\n",
       "      <th>city</th>\n",
       "      <th>sqft</th>\n",
       "      <th>zipcode</th>\n",
       "      <th>state</th>\n",
       "      <th>pool_encoded</th>\n",
       "      <th>Type</th>\n",
       "      <th>Year built</th>\n",
       "      <th>Heating_encoded</th>\n",
       "      <th>Cooling_encoded</th>\n",
       "      <th>Parking_encoded</th>\n",
       "      <th>fireplace_encoded</th>\n",
       "      <th>school_rating _mean</th>\n",
       "      <th>school_dist_min</th>\n",
       "    </tr>\n",
       "  </thead>\n",
       "  <tbody>\n",
       "    <tr>\n",
       "      <th>0</th>\n",
       "      <td>Active</td>\n",
       "      <td>3.0</td>\n",
       "      <td>Washington</td>\n",
       "      <td>801</td>\n",
       "      <td>20004</td>\n",
       "      <td>DC</td>\n",
       "      <td>False</td>\n",
       "      <td>other</td>\n",
       "      <td>1991</td>\n",
       "      <td>False</td>\n",
       "      <td>False</td>\n",
       "      <td>False</td>\n",
       "      <td>False</td>\n",
       "      <td>6.0</td>\n",
       "      <td>0.2</td>\n",
       "    </tr>\n",
       "    <tr>\n",
       "      <th>1</th>\n",
       "      <td>Active</td>\n",
       "      <td>2.0</td>\n",
       "      <td>Dallas</td>\n",
       "      <td>832</td>\n",
       "      <td>75219</td>\n",
       "      <td>TX</td>\n",
       "      <td>False</td>\n",
       "      <td>condo</td>\n",
       "      <td>1998</td>\n",
       "      <td>False</td>\n",
       "      <td>True</td>\n",
       "      <td>False</td>\n",
       "      <td>False</td>\n",
       "      <td>2.6</td>\n",
       "      <td>0.6</td>\n",
       "    </tr>\n",
       "    <tr>\n",
       "      <th>2</th>\n",
       "      <td>Active</td>\n",
       "      <td>4.0</td>\n",
       "      <td>Dallas</td>\n",
       "      <td>2102</td>\n",
       "      <td>75219</td>\n",
       "      <td>TX</td>\n",
       "      <td>False</td>\n",
       "      <td>condo</td>\n",
       "      <td>2019</td>\n",
       "      <td>False</td>\n",
       "      <td>True</td>\n",
       "      <td>False</td>\n",
       "      <td>False</td>\n",
       "      <td>2.0</td>\n",
       "      <td>0.1</td>\n",
       "    </tr>\n",
       "    <tr>\n",
       "      <th>3</th>\n",
       "      <td>Active</td>\n",
       "      <td>2.0</td>\n",
       "      <td>Dallas</td>\n",
       "      <td>837</td>\n",
       "      <td>75219</td>\n",
       "      <td>TX</td>\n",
       "      <td>False</td>\n",
       "      <td>condo</td>\n",
       "      <td>1998</td>\n",
       "      <td>False</td>\n",
       "      <td>True</td>\n",
       "      <td>False</td>\n",
       "      <td>False</td>\n",
       "      <td>2.6</td>\n",
       "      <td>0.6</td>\n",
       "    </tr>\n",
       "    <tr>\n",
       "      <th>4</th>\n",
       "      <td>Active</td>\n",
       "      <td>2.0</td>\n",
       "      <td>Dallas</td>\n",
       "      <td>2785</td>\n",
       "      <td>75219</td>\n",
       "      <td>TX</td>\n",
       "      <td>False</td>\n",
       "      <td>condo</td>\n",
       "      <td>2015</td>\n",
       "      <td>False</td>\n",
       "      <td>True</td>\n",
       "      <td>False</td>\n",
       "      <td>True</td>\n",
       "      <td>2.6</td>\n",
       "      <td>0.7</td>\n",
       "    </tr>\n",
       "  </tbody>\n",
       "</table>\n",
       "</div>"
      ],
      "text/plain": [
       "   status  baths        city  sqft  zipcode state  pool_encoded   Type  \\\n",
       "0  Active    3.0  Washington   801    20004    DC         False  other   \n",
       "1  Active    2.0      Dallas   832    75219    TX         False  condo   \n",
       "2  Active    4.0      Dallas  2102    75219    TX         False  condo   \n",
       "3  Active    2.0      Dallas   837    75219    TX         False  condo   \n",
       "4  Active    2.0      Dallas  2785    75219    TX         False  condo   \n",
       "\n",
       "   Year built  Heating_encoded  Cooling_encoded  Parking_encoded  \\\n",
       "0        1991            False            False            False   \n",
       "1        1998            False             True            False   \n",
       "2        2019            False             True            False   \n",
       "3        1998            False             True            False   \n",
       "4        2015            False             True            False   \n",
       "\n",
       "   fireplace_encoded  school_rating _mean  school_dist_min  \n",
       "0              False                  6.0              0.2  \n",
       "1              False                  2.6              0.6  \n",
       "2              False                  2.0              0.1  \n",
       "3              False                  2.6              0.6  \n",
       "4               True                  2.6              0.7  "
      ]
     },
     "execution_count": 23,
     "metadata": {},
     "output_type": "execute_result"
    }
   ],
   "source": [
    "# создадим тестовый набор \n",
    "data = [\n",
    "    ('Active', 3.0, 'Washington', 801, 20004, 'DC', False, 'other', 1991, False, False, False, False, 6.0, 0.2),\n",
    "    ('Active', 2.0, 'Dallas', 832, 75219, 'TX', False, 'condo', 1998, False, True, False, False, 2.6, 0.6),\n",
    "    ('Active', 4.0, 'Dallas', 2102, 75219, 'TX', False, 'condo', 2019, False, True, False, False, 2.0, 0.1),\n",
    "    ('Active', 2.0, 'Dallas', 837, 75219, 'TX', False, 'condo', 1998, False, True, False, False, 2.6, 0.6),\n",
    "    ('Active', 2.0, 'Dallas', 2785, 75219, 'TX', False, 'condo', 2015, False, True, False, True, 2.6, 0.7)\n",
    "]\n",
    "\n",
    "columns = ['status', 'baths', 'city', 'sqft', 'zipcode', 'state', 'pool_encoded', 'Type', 'Year built', 'Heating_encoded', 'Cooling_encoded', 'Parking_encoded', 'fireplace_encoded', 'school_rating _mean', 'school_dist_min']\n",
    "\n",
    "df_test = pd.DataFrame(data, columns=columns)\n",
    "\n",
    "df_test.head()"
   ]
  },
  {
   "cell_type": "code",
   "execution_count": 24,
   "metadata": {},
   "outputs": [],
   "source": [
    "def preprocess_and_predict(df_input, model):\n",
    "    '''Pre-processes input data and makes predictions using the provided model.'''\n",
    "    \n",
    "    def log_data(df_input):\n",
    "        df_output = df_input.copy()\n",
    "        df_output['zipcode'] = df_output['zipcode'].astype(str)\n",
    "        df_output['Year built'] = df_output['Year built'].astype(str)\n",
    "        \n",
    "        #scaler = MinMaxScaler()\n",
    "        for column in ['baths', 'sqft', 'school_rating _mean', 'school_dist_min']:\n",
    "            #df_output[column] = scaler.fit_transform(df_output[[column]])[:,0]\n",
    "            df_output[column] = df_output[column].apply(lambda x: abs(x))\n",
    "            constant = 1e-6\n",
    "            df_output[column] = np.log(df_output[column] + constant)\n",
    "        return df_output\n",
    "\n",
    "    X_test = log_data(df_input)\n",
    "    y_test_pred_loaded = model.predict(X_test)\n",
    "    target = np.exp(y_test_pred_loaded)\n",
    "    rounded_target = np.round(target)\n",
    "    print(rounded_target)\n",
    "    \n",
    "    return rounded_target"
   ]
  },
  {
   "cell_type": "code",
   "execution_count": 25,
   "metadata": {},
   "outputs": [
    {
     "name": "stdout",
     "output_type": "stream",
     "text": [
      "[506389. 224225. 551250. 224081. 626743.]\n"
     ]
    }
   ],
   "source": [
    "predictions = preprocess_and_predict(df_test, loaded_model)\n"
   ]
  },
  {
   "cell_type": "code",
   "execution_count": 26,
   "metadata": {},
   "outputs": [],
   "source": [
    "# сохраним названия колонок\n",
    "import json\n",
    "columns = {\n",
    "    'data_columns' : [col.lower() for col in df_test.columns]\n",
    "}\n",
    "with open(\"prototype/server/artifacts/columns.json\",\"w\") as f:\n",
    "    f.write(json.dumps(columns))"
   ]
  },
  {
   "cell_type": "code",
   "execution_count": 27,
   "metadata": {},
   "outputs": [],
   "source": [
    "#сохраним тестовый датасет\n",
    "cheap_flats = df_test.to_json(orient=\"index\")\n",
    "with open(\"prototype/server/artifacts/cheap_flats.json\",\"w\") as f:\n",
    "    f.write(json.dumps(cheap_flats))"
   ]
  }
 ],
 "metadata": {
  "kernelspec": {
   "display_name": "Python 3",
   "language": "python",
   "name": "python3"
  },
  "language_info": {
   "codemirror_mode": {
    "name": "ipython",
    "version": 3
   },
   "file_extension": ".py",
   "mimetype": "text/x-python",
   "name": "python",
   "nbconvert_exporter": "python",
   "pygments_lexer": "ipython3",
   "version": "3.10.7"
  },
  "orig_nbformat": 4
 },
 "nbformat": 4,
 "nbformat_minor": 2
}
